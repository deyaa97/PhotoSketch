{
 "cells": [
  {
   "cell_type": "markdown",
   "metadata": {},
   "source": [
    "### Import Library"
   ]
  },
  {
   "cell_type": "code",
   "execution_count": 1,
   "metadata": {
    "ExecuteTime": {
     "end_time": "2021-09-29T19:43:46.892899Z",
     "start_time": "2021-09-29T19:43:44.336030Z"
    }
   },
   "outputs": [],
   "source": [
    "from web3 import Web3"
   ]
  },
  {
   "cell_type": "markdown",
   "metadata": {},
   "source": [
    "### Connect blockchain"
   ]
  },
  {
   "cell_type": "code",
   "execution_count": 2,
   "metadata": {
    "ExecuteTime": {
     "end_time": "2021-09-29T19:43:46.908910Z",
     "start_time": "2021-09-29T19:43:46.895900Z"
    }
   },
   "outputs": [],
   "source": [
    "infura_url='https://mainnet.infura.io/v3/29547b52f77647b68da777e3ecc06811'\n",
    "w3 = Web3(Web3.HTTPProvider(infura_url))"
   ]
  },
  {
   "cell_type": "markdown",
   "metadata": {},
   "source": [
    "### Check connection"
   ]
  },
  {
   "cell_type": "code",
   "execution_count": 3,
   "metadata": {
    "ExecuteTime": {
     "end_time": "2021-09-29T19:43:49.476131Z",
     "start_time": "2021-09-29T19:43:48.560238Z"
    },
    "scrolled": true
   },
   "outputs": [
    {
     "data": {
      "text/plain": [
       "True"
      ]
     },
     "execution_count": 3,
     "metadata": {},
     "output_type": "execute_result"
    }
   ],
   "source": [
    "w3.isConnected()"
   ]
  },
  {
   "cell_type": "markdown",
   "metadata": {},
   "source": [
    "### Print Latest Block Number"
   ]
  },
  {
   "cell_type": "code",
   "execution_count": 4,
   "metadata": {
    "ExecuteTime": {
     "end_time": "2021-09-29T19:43:50.590876Z",
     "start_time": "2021-09-29T19:43:50.319617Z"
    }
   },
   "outputs": [
    {
     "data": {
      "text/plain": [
       "13322628"
      ]
     },
     "execution_count": 4,
     "metadata": {},
     "output_type": "execute_result"
    }
   ],
   "source": [
    "w3.eth.blockNumber"
   ]
  },
  {
   "cell_type": "markdown",
   "metadata": {},
   "source": [
    "### Details of block"
   ]
  },
  {
   "cell_type": "code",
   "execution_count": 5,
   "metadata": {
    "ExecuteTime": {
     "end_time": "2021-09-29T19:43:53.507803Z",
     "start_time": "2021-09-29T19:43:53.309711Z"
    }
   },
   "outputs": [
    {
     "data": {
      "text/plain": [
       "AttributeDict({'baseFeePerGas': 78172767796,\n",
       " 'difficulty': 9160904523123868,\n",
       " 'extraData': HexBytes('0x626a3035207fb2068302ccf7bd'),\n",
       " 'gasLimit': 30000000,\n",
       " 'gasUsed': 17664562,\n",
       " 'hash': HexBytes('0xc82dde608eb37920b4b908ac54d0f2c2d2dd88b9fd5d4b087182505d5c15c25f'),\n",
       " 'logsBloom': HexBytes('0x31a043bec990d03b14b27a48e061b34918833600003c4402080d60fcbdbdff0000143168bc840400c40c59da4e676980926c81450a96a9512762482f2632e8691d216880060229fccc3ae87f5b3743e6e2826c91c7708841f82e04e38761d32fff4914760ae2a347013d39b0583aa87a7723cf23240c944d4ace90b4d72872cc5a80a4666e5c2a10e154856951466484622d0cf50910b228d1238d4028b08101abdc2fe830c6a482ea8a40b4de7851c59aba2201e9bbdad02f6e29ee994ca85469c8a61242018041b8a640c4004a19df2dfbfa5d0fbf0257b82c3bab26d46ea8183ca9c9a1edc5188c1e144051a001c4c4a146103b138a542e13bc1baacad669'),\n",
       " 'miner': '0xc8F595E2084DB484f8A80109101D58625223b7C9',\n",
       " 'mixHash': HexBytes('0x74f3e66bfbdb1e56c1724c5b0e5a304e30a48524255bed5e621505a21cd83480'),\n",
       " 'nonce': HexBytes('0xd564b642eb553dcd'),\n",
       " 'number': 13322628,\n",
       " 'parentHash': HexBytes('0xeec14a114d229a741dcd19aae38d1593c6b553986fcce030f0ca9a186f578de8'),\n",
       " 'receiptsRoot': HexBytes('0x6965b48cd4bd7d2b7446c72e0662a563ef66c21ef766f4d986ed3cecb003bb57'),\n",
       " 'sha3Uncles': HexBytes('0x1dcc4de8dec75d7aab85b567b6ccd41ad312451b948a7413f0a142fd40d49347'),\n",
       " 'size': 194600,\n",
       " 'stateRoot': HexBytes('0xf89bb99c4c188d0ba59de3b7121d7516e7300e79db57366e22c16bce196305f6'),\n",
       " 'timestamp': 1632944609,\n",
       " 'totalDifficulty': 31512954524511615264925,\n",
       " 'transactions': [HexBytes('0x6e5dea0c5a0672b61cb98b39c45f730380803066e4044c69b7eaf25f4ad33727'),\n",
       "  HexBytes('0xc4478fe8b074e13365237f37949d2ac99f4a7b546c48bec646f45cde19459094'),\n",
       "  HexBytes('0x0c120d2092fe6306cae6ada5d461d6ab8f35068b99f90da68a27ca03a70dd5dd'),\n",
       "  HexBytes('0xadb31ae1ba31c7f4428f33fbeb7a6fab469570b6404cb189c376f2da8fecb5a2'),\n",
       "  HexBytes('0xc7631edd5dd5f0c23bb3ca7cb7ea99ea5e316b6e0654dd3e0522501360c99b0f'),\n",
       "  HexBytes('0xa9f60f00cdfe6b909520939834534d5baf0dcba7a4a9e8bdd5acea69d37b2dba'),\n",
       "  HexBytes('0x0b92ab7da48f5f883a8c1637d3716990997ad19ac76b4687c3d4e277f4502fcf'),\n",
       "  HexBytes('0xcc328edc00593b4867ec74ca6e4eb4e511eced50c4f29133b6bfb64196b1b37e'),\n",
       "  HexBytes('0xdf8805b0dd7e17af3718c5396a760d1bdb71405999a4fec16e5b4aeac708200c'),\n",
       "  HexBytes('0x23e40edecb4fb2f9221378760315122acd4f426a57fa207779e7f8c9b4ba462b'),\n",
       "  HexBytes('0xf3dc27c477a006a0ecedb58646e8bdb1b3f82f51a48c2f35533468ee11c09715'),\n",
       "  HexBytes('0x3fdde178b507a86ed60386350a71d7db41445427ccea1d450e880ace9843b894'),\n",
       "  HexBytes('0x2a393edb1e1a1eaaf1a114f9da0946c1dc20b21959aad6e9cc3e6b9c08dce6d2'),\n",
       "  HexBytes('0x5ced3dcffbe2f305ef36d03b6c51871ffe07d316d9e7e4c2705b45fc8ef69eae'),\n",
       "  HexBytes('0x0cf71e87182f51f122898b3a3c558ced2c32329000882fc4e2d9f1e45f9cf400'),\n",
       "  HexBytes('0xa32f54f3369830a43c7749a37be2a586ac8e8e78c6f06718c1929e3ae0767278'),\n",
       "  HexBytes('0x01f0ba3f7229dddc011770fa2c893e3231529ef166dfd67551dd0256c389918a'),\n",
       "  HexBytes('0x2ad165fe0e51e8d16ee816e90fbd681fe00a8b5b7fbd2b06d8a18810758bbb4c'),\n",
       "  HexBytes('0xc7b65b8602864d1531e3a263f168fe0b982560cd5f3ab848a555f2f10f3f82c2'),\n",
       "  HexBytes('0xbaaeef23e84d3166d54b7ad3eb9eb36330172d965faa03875d6dbe09ba4a3913'),\n",
       "  HexBytes('0x9c08bfb2c663e001b5357ab670cb7cc061af80c56a39f297aaa6f30e2ecb1dac'),\n",
       "  HexBytes('0x09d64b0923c4dbd0675c0be6c5d27d38450295a6fff855c667e4cad0ad8d8f0a'),\n",
       "  HexBytes('0x34ddf394ff637ad7ff22b3631099412af6930364f2a1cc716834e131c8adf674'),\n",
       "  HexBytes('0x01b0047408d018de73d6fe51a6861bbec349a9fcab00c36cec0107b607379d9b'),\n",
       "  HexBytes('0xa8c2c8d4258f96fbfd855f957c66db8c85f0b31e0c1a0b9bfae3fbd8449e0f5a'),\n",
       "  HexBytes('0x467122327412dea31e8361a2f05b3d212e10ec74bc80d140eba200a0a3138fee'),\n",
       "  HexBytes('0xfbe9b452bb021b68d1bec8492f85745dfe92748b692dfdbb5d474ab00023f6ad'),\n",
       "  HexBytes('0xe6c0ba0fea10d9e7bb7c189889b5ec46d74fec0e77ef5305aec61f67da7390c5'),\n",
       "  HexBytes('0x53a85f7d783ff7a51cdc2d839a5efb8c77f643d455e99533beddb9485650f66d'),\n",
       "  HexBytes('0x271b55cbccf2352da485014a5eed0344768c39a59d76eec5233a9352bc9b8e05'),\n",
       "  HexBytes('0x7fb92675a96c9d7ea3289cf7e1dad86ea365de3739d642f7cdce2a2f7f5721a1'),\n",
       "  HexBytes('0x9c9ecf79db43183c978fbbc07209c3a83b87297afca7ff564c465f509400d7d1'),\n",
       "  HexBytes('0x90492f318d4d197e7fa2f27b86586352c9a7f525f9e692d0383f890060dbbb5a'),\n",
       "  HexBytes('0xef71df27fb2633baafa649a001d96e89d55fa7823e24ad2dad9affe0abe723f3'),\n",
       "  HexBytes('0xc37bb163d828693079d2fca8d49ac5d03c72e3578e0f8947c54c34b46e09f125'),\n",
       "  HexBytes('0x3774c8b0a09bea22c94e13d871de2895306387df7f73999267ca5be42d6e90bb'),\n",
       "  HexBytes('0xab86c04b725952f1ef6ce4a6b910d530eded83b84333baf629c423a9c3bc4b79'),\n",
       "  HexBytes('0x350831585e27deba9d3ffb7acaff80e081d7b3c72aee9af4f19f7ca6b52ec508'),\n",
       "  HexBytes('0x164087dbc0a7ba1e35fb7f70d0e6c824ee7ddc21e947d17aa3272857a53c6a90'),\n",
       "  HexBytes('0x8c65aeb82b5d21093776d3d164d4709101934b75991dad0929409e90070c410f'),\n",
       "  HexBytes('0x1f429f8109fbcbed60311fdcc5291fc4efab2bc736c74a051f4ae4781ea8e2a0'),\n",
       "  HexBytes('0xd68beed52e3dbc373e928fe5b0f1b91922f194098749327103598dda685a681b'),\n",
       "  HexBytes('0x057174577539fad50dc421b020fe1b00e88e912097d4b3cc24e46cbc0dc1d796'),\n",
       "  HexBytes('0x02666ad3f23fe09734671c6e0967add53820369269262d211ff384669aee4c24'),\n",
       "  HexBytes('0x7673ec622e71c285476f5fcc139b5e631fed2180efff46f1f598495900a2fea7'),\n",
       "  HexBytes('0x598e6f718f5251dcdd0ab8d471a9ec20c535697aeb83931ea292b62cf546fa18'),\n",
       "  HexBytes('0xe5b9309741df32f82b6403f4da8a956779bde5371edf3f0f9ea8a30ae9457e16'),\n",
       "  HexBytes('0x6cead04258c8cf30c339cd2501fcc441fcb1b368b393ff0edc970f5eb16b7232'),\n",
       "  HexBytes('0xdc72fd3ae5a8b2b4d47a2a559f5dc27900613e9908f8f128280893f3dcb30ea0'),\n",
       "  HexBytes('0x384f1fcd0370588a04af23409c62d02926015ab7205004923fbeb8c2febffc3c'),\n",
       "  HexBytes('0x59c5d0f1d1f77a44e32cd8a7d4065f30e962b133817b1fa4594035a466a2fa3c'),\n",
       "  HexBytes('0x4018c8d62bb1f6fb09ab76403a42d7582794e2cd53f0f3f1695b620696d1eb89'),\n",
       "  HexBytes('0xbaffcf73b35364b045d3ecd91a3ef3c6d0f1ac9580b9408901688a21ff5c6302'),\n",
       "  HexBytes('0x7770b7551f7015adb8f90f0f85d6d74d1b289db0bd7beb690b61b139ee5b2ebc'),\n",
       "  HexBytes('0xca2778f84b0419070a0d156ea51ac849dde8a3814ef5d5cc81ee729aa999c5b5'),\n",
       "  HexBytes('0x1b413bfb723c38a144c787a8d4429c19a60f8498c5ea5c2821b6917d226d9e11'),\n",
       "  HexBytes('0xf2ed7efca5f7c82d47180d580509a85ef82334dcb55a8ee35c42d8a15c3b0080'),\n",
       "  HexBytes('0x54fa09235af79cad5a06799baf74569ab282bee87feb5c7c386ed6fa8a5a7fcf'),\n",
       "  HexBytes('0x446e1a88e79b7d61c8149a95d3b176ded6de851f8e4fc38b7d31e1fcfd02fd56'),\n",
       "  HexBytes('0x263624693833c20a1465033287723bb88c825ec182af5f516e3d31c6f399af3a'),\n",
       "  HexBytes('0x4aabffefcee6dcf64861c5888e4daf283853b019dc551e630415822d8a3f0252'),\n",
       "  HexBytes('0xe598947333f9d4da3a6041862fe65332b24f8cc16e2a3fc9a9a97c8b3e1fd32a'),\n",
       "  HexBytes('0xea936df1bd966bd6b33ff67a26622f9aaf9854da36448bd75f69820528f82bdb'),\n",
       "  HexBytes('0x1d015f1cac18079ee3f38bfa10a2a8fc671d2e8cbff6c37a510bde58dcd429ae'),\n",
       "  HexBytes('0xe1e82e707dc82671a6d3568ac47ce4b70308bdf64155e7cfb986bab6a141b93e'),\n",
       "  HexBytes('0x386adc7dba89ca9db21d0e1426ca704ea4a29b52192dd54912a48d52d39d6ec0'),\n",
       "  HexBytes('0x4880e240c88d2201c78ee621fa0e83ac24c03c6bd1249a4cf189130ffc53028d'),\n",
       "  HexBytes('0x1020c70fdbfb222e921f1f85835f9f3ffa9a208ed414aeaca5c7ae279ea5ab1b'),\n",
       "  HexBytes('0xfc8988c3a6313b9dd5f113e60fb0d5e80146f30457336d5d82c4f2fbcf61eab8'),\n",
       "  HexBytes('0x1e4e988a984fffdf235613d72f435848322e53c956379b783b570c16f9a3de84'),\n",
       "  HexBytes('0xb9ee1993d6d9ed8be04fb2704e46f76bf879bac9023fd3b07888d241f13e5835'),\n",
       "  HexBytes('0x6754d478102034b8fba7a3d9390120b53e0bf6efdd692d187d10f8fe0c2bf07e'),\n",
       "  HexBytes('0x13824665dee2dd2d5706364f4e75773d1c58943456518c30115d2fe85837f8f1'),\n",
       "  HexBytes('0xe0f51d2355b19cae8612329f57662406f456f85f769392c636de5cecb26c676b'),\n",
       "  HexBytes('0x75f4d55b5b38a22ac2702bb4ed445c2afe5b47a6cf4654ea81d15e6ebb85315f'),\n",
       "  HexBytes('0xf5e08fc2cd7a477a997455939e65116309056eb2a88a8d686ad4a36f7ad9f1ca'),\n",
       "  HexBytes('0x4ccb6a820dc43a164782da6fac6dc4c31985502155e457b40f27546b4e67f054'),\n",
       "  HexBytes('0xdc0b62760d5e3e20cd35a9fa4f50077fe5cd448afc2a35917237a578ff3b369a'),\n",
       "  HexBytes('0xb2fd2f2ef4cfa2fe7214b3b61252ac1ee61d728e4b834c22a88ffa0469cbb21b'),\n",
       "  HexBytes('0xcc8f48a5ba31e5e7c08ffa6aacd205130d58309ac8450838c7800a87bafc3240'),\n",
       "  HexBytes('0x4017ec4ac39e4daf9ab4f5bdbe0445da44bbe4b36421ee797b26eb9f3f7363c4'),\n",
       "  HexBytes('0x8b5eda490c6e33a17737f526d8c626629b0cbf3eb32588b76ee29a66cc8c438a'),\n",
       "  HexBytes('0x4facc829903870a21d1b62cb2729122670cf0036e55241f0e6d8889f5e2e64bb'),\n",
       "  HexBytes('0xc0f8f4c67b43e658f47ee1a6703479d83863e9f23a0dd518860472981329bbcb'),\n",
       "  HexBytes('0x3a8007f9db5285d0d8a8bfc4394255b1d6f493086cecb4c57626d88826eeaaf2'),\n",
       "  HexBytes('0xcfe52661cc018428b8b227da42750f9cecb52f7ba419e413650b437f120696ec'),\n",
       "  HexBytes('0xc03510d06dd40b5a341cee60f21cb7bed69b8baebfffc61411ed6dd7a7c5667b'),\n",
       "  HexBytes('0x342e2d2dd095eb0b34a55af09f27a1ea9d338297933691541ca169d8a57f93d8'),\n",
       "  HexBytes('0x8eac02a94d252558232476f29b46e969c5cda147b58509759931e89c1906287b'),\n",
       "  HexBytes('0xd39327fba0ae697bdd9455dae88772e6a1707c083fdcb2f423b410e3b62f2ca5'),\n",
       "  HexBytes('0xe4730b7af23ada47558803c9a0c9c9582db09ab5da49d7575ad0f5807d85d776'),\n",
       "  HexBytes('0x6ad4be9e016c01ce6ff14d636b49e373c6a51df79ba49a2ff2eaa8a36bfe51c2'),\n",
       "  HexBytes('0xce475b98bc06744361a09183b36de11ea5afc4885775451c6802105b0d96b3db'),\n",
       "  HexBytes('0x55f6e3e8cd0bc5d2ac7ecab0d2dd1ec2693b3696ad6e0f9abf7f00f7eddbfd07'),\n",
       "  HexBytes('0x41fb0de693b416268c66f6c56b22216248503ef4cf525b51ab33b7762dcc5cf5'),\n",
       "  HexBytes('0x7c0c358dac03109144817c14aade54e8ebe6ff5647626f5d3d60a29197e5eb25'),\n",
       "  HexBytes('0xa243af6666c7614a259ce958a925011ef85c444b5f41f9fa33e1383feb2cd67a'),\n",
       "  HexBytes('0xca8d9e5b55ded7b39ed21634dfdca017ac236c4a39f12d7a0eb3fe95e3715668'),\n",
       "  HexBytes('0x0590221960cd61d79282f81c47b431df28be15c282864fa342d1c60faec56689'),\n",
       "  HexBytes('0xab29b4e6ad36df541925275621b02214f29d4ca751fd60a9d952b31d2d94aa46'),\n",
       "  HexBytes('0x091b4a4eb2c52e16e7b7cc1499b6775e1d5d55b1bc3c2d4787f0672fe9977fb3'),\n",
       "  HexBytes('0x2c8d9e6c4cf6600b9ba7ff4c629d765472f4125113cae6aee8bcb07d90c248b7'),\n",
       "  HexBytes('0xb09ee65c314b9cb3567976837c0320a018e6d99db4c7bfa06f3c37021add5287'),\n",
       "  HexBytes('0x7fec805d8c04e40ea2afc9816b3f59fdbf07544ec24ae8b201b3224185bd236e'),\n",
       "  HexBytes('0x5fe5155b19d6e7e0bc1c474abe83bc0ebf0fa730061724985ce83d8f290d8f32'),\n",
       "  HexBytes('0xd546a6cfc8ab0ab339e1b460bc81f09f668c30dde386d69c587646d1181e7b5c'),\n",
       "  HexBytes('0xb31f573eb5ee618583378935aae467f7ac0429545ef93dc8a9551967440e13e1'),\n",
       "  HexBytes('0x5fb725a9bd583509bf9fb288885815f91cfc5d9662257c4fa239029292541d50'),\n",
       "  HexBytes('0x22de039a64c4a166e14e7617d1fbc3c8836c519457c466e94ef18f639e606c38'),\n",
       "  HexBytes('0x181b10086bb8affb1d2bd56d1f31a31456fe0385e232ff8414b491ae5f91d969'),\n",
       "  HexBytes('0x06d2e0875c9d3f06361230fefd552cf12c8ca5f875be60df2551b6c506335892'),\n",
       "  HexBytes('0x459e93424e9ef0569369d02e4497500c51062c8567124f6ed45a681c2d29a2d7'),\n",
       "  HexBytes('0x3a8b3eca2ea995d2ed0e92b34e3f144d26504376643d0822db72e410dead65f3'),\n",
       "  HexBytes('0xc51f874a368b15270bc6982401f0fdc44ca896671adc5264ca2ee4170b0b0eb2'),\n",
       "  HexBytes('0x863819f9cebe2baab60b09f0d267d7fe99f642ac64f3d1c7d2d34564b53798e3'),\n",
       "  HexBytes('0x79986e71f2631978de2fe1f99d6f2c739530d05d3cf3b68cb92097a488eaaa1d'),\n",
       "  HexBytes('0xe870a4b8b6bbf975f2b7abe1089e5d03057a184e688482777a4279acb8ac728b'),\n",
       "  HexBytes('0x1ed835298e2add205f5da5f5d1d41a743d39239720198adf3b239babc901b719'),\n",
       "  HexBytes('0xc5f7b27a26237d65b9d859ab46e7917f04daf237771c617723bb4f9050497bbd'),\n",
       "  HexBytes('0xa7d4b5538e5818f8b21b90dea044e53dcf9082a6982c78a9cbbb83ae120001da'),\n",
       "  HexBytes('0x1285c6e9e14803e92ab4202d37528281bb4d8db0aeb271e582dc6e3503caa813'),\n",
       "  HexBytes('0x1249411d8769811e26ecebbe18cd67eca29833b714ca62dd05ec5c0d3dc756db'),\n",
       "  HexBytes('0x77a8565d4c43259fb9999dabcf66cd6ed2162f3fef5da7eed51cb711a1c1dd4c'),\n",
       "  HexBytes('0xbc1ba0151633c5a52765e9e8c0a1710993189240bc142213cccc15a83ea4f7ee'),\n",
       "  HexBytes('0x8d0b4346a8338f538a3babdd7654461447e73c8885525304e85df4de3e5fee8a'),\n",
       "  HexBytes('0x5c98c644ee4f32924ec268be6fbc113ef15845636a51977dc58d1adc070f36ba'),\n",
       "  HexBytes('0xc38ecc513bb2b2cbfa2df18b0bd5cacc97cefaeaf31137f03be133d329beec79'),\n",
       "  HexBytes('0x3619d377752848eb77cc59a203af5d426b90d8edb4317feaa71c9e8dcbb132fa'),\n",
       "  HexBytes('0x0c662be7b9ef9fa033379d8196fdb9b7c981e0ed60c39dc04a3339c609b56a23'),\n",
       "  HexBytes('0x3d1df26f10d3426a9b2814f3ea2b8a526622328d41c6b8966caaaa42aaca7b67'),\n",
       "  HexBytes('0x1b22acdd2218c0992b1a27cfefa0d9e18fdd12fd08124997bf0b660e59b7403e'),\n",
       "  HexBytes('0x70cefd909870929d908447c8237135674b66dc1e8cc282306d3b491c7880a380'),\n",
       "  HexBytes('0x0ad6cd1f060a7e89ffb4044766e2d21166084c2970bcb098e9f23b715e412923'),\n",
       "  HexBytes('0xc6c4368c292365d71fe262768f6f6dfc4308d14f9c78bfcdd652da39d50a62e1'),\n",
       "  HexBytes('0x7383242c9945b6e6331609055733fcf51e04294d53060dfe0c5c7e58f9fc8226'),\n",
       "  HexBytes('0x3148de3a31fe7194c62ec2cb801cb8886dd94bb753703f9b32c98acc280e9739'),\n",
       "  HexBytes('0x49662b36ffd5cf7650eb39e2ce9fbf83c25cf22981fd2c3696b5af05d414d600'),\n",
       "  HexBytes('0xc07a71ea2b13c2811e62b3315a080fe5b8bf35f4f9c867c64463806d60fa970d'),\n",
       "  HexBytes('0x16aae6a46b0c55febd5736103e7049b210e604c502c5fb93486947ae7e3418c6'),\n",
       "  HexBytes('0x948d5100a5047af97ffc86fa53f57046b3b03fe0092292b5adbe8ec4de91be16'),\n",
       "  HexBytes('0x46b6c611b42185c12a0b496bb01011eaa63f1f43c515d02718721bda173555c5'),\n",
       "  HexBytes('0xed9060bc1706e14d263b58835f226ce7d90402cb956f23b148ae374d280afe7d'),\n",
       "  HexBytes('0x85bbd1fb5d295fd3c1aaa6ffe9ec0c190d9bc8ea93ca818e1a5452258c92be3e'),\n",
       "  HexBytes('0x98eb770646bb8d06526713a582cfc4398eb74bbe727b30b7c2e3d54e72ff45bf'),\n",
       "  HexBytes('0x225723ba11a0bab59d44ab863809bd634c6b7e30e22fee7025b559b6f6833538'),\n",
       "  HexBytes('0x22dead8d32da1f1b7b246bf2011adc7d6ace116ee77d086598b25fbb909d4742'),\n",
       "  HexBytes('0x34dba442aec2f3a0728920864da0ae6eaf6ea46397c3fb297c4f2735fa55cb36'),\n",
       "  HexBytes('0xc3a6b177dd18f45cf3456d8a053d689110328667f8ba9feba144001826c94797'),\n",
       "  HexBytes('0x5187a08f4a09fcb822b317a9a1f7c1e61e56030a4a0272eed802902e8162065e'),\n",
       "  HexBytes('0xe899a4eb9ff5686de93802f207ae5a6d3a465ec049666c10326acf9b9e2aab5a'),\n",
       "  HexBytes('0x54d4a082b4baceda94fbb7163b99c4feb2aa78d5eee3706e866c49615919553a'),\n",
       "  HexBytes('0x1326194971c958a6ff35259eb76129b4821c10a552e0fb9b19cf74e413c70e1f'),\n",
       "  HexBytes('0x8fd531757a8aa2538c28958cd5d4266673230520060ac0f6fc70205ee2c77f53'),\n",
       "  HexBytes('0x37b6b63bb2e956f09d069441f8cc840521a01a53ad6b3942d34e58a8005ca0e1'),\n",
       "  HexBytes('0x505b856fd3ef59fc4e4c50822805539092a9b496039a136ee43c5746c01547b8'),\n",
       "  HexBytes('0xb1bf0f72ddc92b5498728d0fc4b21f5a73811fc9351cf7f091f6c4448fc0e5b7'),\n",
       "  HexBytes('0xfb461ad4c7e3ac56469d11014bdb626d3deae4c99dd42260fb6f2c75763cc075'),\n",
       "  HexBytes('0x063b57fb777837003abe35a2d52f861e0f28433e2fd56db8effe7e75ac0cd615'),\n",
       "  HexBytes('0xd8782975ed6bbfa84f6535b97843bc407d43df8604560c8260587d4e8bbdc36d'),\n",
       "  HexBytes('0xb59dd2b36a129f9585af9490c236efed1c262e8014c18970363c532a3a9fc57f'),\n",
       "  HexBytes('0x0763d263cc3492bb88918443d4a3019a7c11a073655f61a00336e918117409f3'),\n",
       "  HexBytes('0xc913fbf8ab5e19bc8e7f254b90b9d7b800a0f659487094517c7c87ba7665c814'),\n",
       "  HexBytes('0x2c7fb05b3aab2ed0e8ffe3430c8b4739aef9f54c0051d4821e687cd04444d1f9'),\n",
       "  HexBytes('0x1a2fb03a1a352b563c64ba04ae24848b9edc06724b36ee89cbcd4d035d4f44c6'),\n",
       "  HexBytes('0x8b7cac1a296b104c92d7c7b8644dfaba19a91a8eafdb23fe250450cd4afdb44c'),\n",
       "  HexBytes('0x410555ac60bab3a40368f922c039cb8c570cb1f895fed55021865bbe00f0c003'),\n",
       "  HexBytes('0x041c10e148342e3357c4b41bfe55ed26a3ee658152941c0dd88b59edf4f913e7'),\n",
       "  HexBytes('0xdf024e4e0dcadf3b2a6a872b7c221ec896115bfb71114a4d501ebafe42d184a4'),\n",
       "  HexBytes('0xccffff222053ffccc38ff29e9146b32087d442d37b4a6fb226bb836aa1f1c6b7'),\n",
       "  HexBytes('0xeed69cf1b3d8a31476b3d3a09486cbeb2a344b0d918e7e1281f1e1d9e7bb8896'),\n",
       "  HexBytes('0xd53c54423ec936f9100defc38d116f90f94948437e9a7da59aca3ef9d05ae205'),\n",
       "  HexBytes('0x9bf50fe4150128ce88f345e090c3a10bba3f94f224b867a30e4b2962db0a2a11'),\n",
       "  HexBytes('0x5f2ca268dba1f8593cf91a61271e016745b77a5221f31dcd41dceda0d545dafc'),\n",
       "  HexBytes('0x98f3d775f46899f959f539b93a6a247358e920ec050d164d73554ec627e7cabd'),\n",
       "  HexBytes('0x8dae36c835d975734e7725cdff30bd0a19cf717d76e34841298cd224ed54a6aa'),\n",
       "  HexBytes('0xa201c7fb0c3f828a245cca9ac254a1c978e2b3625425aa39bc43e0f78222054e'),\n",
       "  HexBytes('0xf4afa42b4847d04c49bc869d4366ab9798e0878bac95c8470f9bdea1bacba1d1'),\n",
       "  HexBytes('0x080d60cf6e008411331593b13db5043f6d5ad7594cd803d31185f253c20f1bba'),\n",
       "  HexBytes('0xa6481f5a679e9219b44560e752cf93fa57df1d96065d1e3a2740d7d7ae504026'),\n",
       "  HexBytes('0x2069fe043e1ce578a11efc94f9525b8641352f945db418d53f2ee769ac8931c4'),\n",
       "  HexBytes('0xb4d5f4c0d5cef07d2d65a1fe00c7887c26e9e5c5623167b1d6aa00f3adeae36c'),\n",
       "  HexBytes('0x1b56d0843af06578f032123944c3d6f5d61c96b9bdfc4671aff961810e05350e'),\n",
       "  HexBytes('0x439369851f5df991eac0b56ac8e269eaa9064d690bee44609679532536750698'),\n",
       "  HexBytes('0xd18a9bca970d3fc111c69192cc4b81aa2d65db18362db665a470b93432d4e1a5'),\n",
       "  HexBytes('0x176f0f66232504448c62e3928d3d87421a1e7693f5a5668830d178bdf5e00161'),\n",
       "  HexBytes('0x76fbcfd4de03319161f35265b8390852c531d5d0b786ab631d6c4b9adab13d8b'),\n",
       "  HexBytes('0xa0b84e82972865c351f131902a13356c9d6f0489bf990abe705b5ff713c4c3ca'),\n",
       "  HexBytes('0x6b3d4774918ffca8e0908486c1d1bfa015a7c8b97e5f16db75e267e873670639'),\n",
       "  HexBytes('0xca63ae712a56157f8571852274dec2f3fac3e61a33d17ed67de42a1556920a60'),\n",
       "  HexBytes('0xd5ef0d95b392231b47594d6449152f99399e40b01d8e002aeea7468bb5281a14'),\n",
       "  HexBytes('0x4be77e6774ccf4599ac612d1286d8be891cd924ae8e5953824cec703c98b7c75'),\n",
       "  HexBytes('0xdcb844b2b08f72284aade7f339cec1f3c46abb3bec6f5e7d2a01f9417fe753b7'),\n",
       "  HexBytes('0xc7f5f65addfb553a83cd19675e4befe30161ee1c24c3a03318b899dcff3fcb01'),\n",
       "  HexBytes('0xb0ed1f31fc9b0ad2b3f5735bbdf12d8c004cc52d7c1ddbce747be8b68df1c74c'),\n",
       "  HexBytes('0x4c47a2e609349ff49167a41c246564341a77349ae29cfcd6755aad5d383be4cd'),\n",
       "  HexBytes('0x37bf2872b66fd8283e746cb6bdb4db1a0844f285031c2356649ba2b317476849'),\n",
       "  HexBytes('0x27173ddc16c057681fd042964eeeb5dc8cab01515bd9550a6945a0e10ef80f26'),\n",
       "  HexBytes('0xcab04660412579d794c044c8d4ea20caff67f8fac19451ecd6984576826eae73'),\n",
       "  HexBytes('0x0a0576eba7f2d7a4f76ca2abc06d78c59b3dfcd0f337b6c4428d0bec5d187f1b'),\n",
       "  HexBytes('0xf40f396679f871b2a09d08ce832ae4874272865922ecc5ceb779e2d5c345a72c'),\n",
       "  HexBytes('0x8428d560d94dcf6b45857813d48bac8538ba1a1790bfd60db4511b9a7e309ee7'),\n",
       "  HexBytes('0x0cc93d72a296dfc1a8faeaf14c04d5080ed2d45f94c816c08be0d7ee1766d8c0'),\n",
       "  HexBytes('0x0d5c11afc2ab96f152b192a6c6b53c2081957c00aa1e9d8e8476c4e56a5c2b7e'),\n",
       "  HexBytes('0x5c664b751136f0b0c6dc92448b41c55261e7ff23fa0c111d270cdb89bbe05ccc'),\n",
       "  HexBytes('0x0e062a40ddff3f9aa972813bc8cc35facccac172ea37e98b13eccc31f5f171a6'),\n",
       "  HexBytes('0xb86b83b7e0cbcd3c773d9a3080983fc016db5a064f1e84b6e8063c38239d66ae'),\n",
       "  HexBytes('0xcacaa6c9d1089db1847ee8bd957c7f08320daa1458058a84ca6c7cf7f1737ae2'),\n",
       "  HexBytes('0x5a95eb2fc6358b9a769b7c98903a06195160c316ce3901f4f98171aaa123b7bf'),\n",
       "  HexBytes('0x2c2ceeede1b16654eb163027119151767a72a6f9070ee840e51ab287d7a86c5d'),\n",
       "  HexBytes('0x71f7157dd1a34c464396f4115a8d60443a4699d7ded2ee45a48c5efcd202e89d'),\n",
       "  HexBytes('0x0a227206abeffe6966a3521e7a68e1b8f11ebc22dff2b193b7478baf766d76b9'),\n",
       "  HexBytes('0xc55e9eaa4474954a437f5eb44abcc18def8f933b00a502d1257239dbc84fa042'),\n",
       "  HexBytes('0xfb769752c58e95d3ac0cf98eabb6927843ad47d5a3a2c2f1f56b22c6fc056ec6'),\n",
       "  HexBytes('0xd30df955a7e645fef0edb86f37d94910f86fb9baacf6cead0a0c5f75eae9b32b'),\n",
       "  HexBytes('0xd99a6234e082148551caf01a4a84d3b8d84c75fed0170d4792901d2a0611a9a4'),\n",
       "  HexBytes('0xdc6ebb9e113352af59fa09b6892a0996ef5cb9f61299d418672902a7c4c17b5e')],\n",
       " 'transactionsRoot': HexBytes('0x8831794a28199aff87131cbcf618be3d4e99a7cc2c111c0fbd4b7f5ea2797842'),\n",
       " 'uncles': []})"
      ]
     },
     "execution_count": 5,
     "metadata": {},
     "output_type": "execute_result"
    }
   ],
   "source": [
    "w3.eth.get_block('latest')"
   ]
  },
  {
   "cell_type": "code",
   "execution_count": 6,
   "metadata": {
    "ExecuteTime": {
     "end_time": "2021-09-29T19:43:54.370737Z",
     "start_time": "2021-09-29T19:43:54.153741Z"
    }
   },
   "outputs": [
    {
     "data": {
      "text/plain": [
       "'0x0708F87A089a91C65d48721Aa941084648562287'"
      ]
     },
     "execution_count": 6,
     "metadata": {},
     "output_type": "execute_result"
    }
   ],
   "source": [
    "w3.eth.get_block('latest')['miner']"
   ]
  },
  {
   "cell_type": "markdown",
   "metadata": {},
   "source": [
    "### View Transaction "
   ]
  },
  {
   "cell_type": "code",
   "execution_count": 7,
   "metadata": {
    "ExecuteTime": {
     "end_time": "2021-09-29T19:43:56.142386Z",
     "start_time": "2021-09-29T19:43:55.718611Z"
    }
   },
   "outputs": [
    {
     "data": {
      "text/plain": [
       "AttributeDict({'accessList': [],\n",
       " 'blockHash': HexBytes('0x9096ebcbbce1f0adb8759f35609a07b22e35929b1e2b320ad12bcc08c75e7b77'),\n",
       " 'blockNumber': 13198998,\n",
       " 'chainId': '0x1',\n",
       " 'from': '0x3BA55377075e67E80F81a6A8FE2995e6a2B59F01',\n",
       " 'gas': 237255,\n",
       " 'gasPrice': 105951608954,\n",
       " 'hash': HexBytes('0x8287a8c72c6a56688e06d3a9d52b9ede5c107782293c8b56157bcecdb4b46d45'),\n",
       " 'input': '0x5f57552900000000000000000000000000000000000000000000000000000000000000800000000000000000000000008ce9137d39326ad0cd6491fb5cc0cba0e089b6a900000000000000000000000000000000000000000000002c9fdd2c57a243d80000000000000000000000000000000000000000000000000000000000000000c000000000000000000000000000000000000000000000000000000000000000136f6e65496e6368563346656544796e616d69630000000000000000000000000000000000000000000000000000000000000000000000000000000000000002000000000000000000000000008ce9137d39326ad0cd6491fb5cc0cba0e089b6a9000000000000000000000000000000000000000000000000000000000000000000000000000000000000000000000000000000000000002c9fdd2c57a243d80000000000000000000000000000000000000000000000000008cbbed2bb26686d000000000000000000000000000000000000000000000000000000000000012000000000000000000000000000000000000000000000000000147dcec73d120e00000000000000000000000011ededebf63bef0ea2d2d071bdf88f71543ec6fb000000000000000000000000000000000000000000000000000000000000000100000000000000000000000000000000000000000000000000000000000000c42e95b6c80000000000000000000000008ce9137d39326ad0cd6491fb5cc0cba0e089b6a900000000000000000000000000000000000000000000002c9fdd2c57a243d80000000000000000000000000000000000000000000000000008df9f41b4bb3f0e0000000000000000000000000000000000000000000000000000000000000080000000000000000000000000000000000000000000000000000000000000000140000000000000003b6d0340ac317d14738a454ff20b191ba3504aa97173045b000000000000000000000000000000000000000000000000000000008c',\n",
       " 'maxFeePerGas': 165925184383,\n",
       " 'maxPriorityFeePerGas': 2000000000,\n",
       " 'nonce': 60,\n",
       " 'r': HexBytes('0x58ab3736eca5c657dd19bf9e25ccd710814b30e08e78a5a3c785dc864f62b305'),\n",
       " 's': HexBytes('0x7faece325020baf614fc9c7fee84e455e97567d7b5b2cceff7c678b9246e51af'),\n",
       " 'to': '0x881D40237659C251811CEC9c364ef91dC08D300C',\n",
       " 'transactionIndex': 0,\n",
       " 'type': '0x2',\n",
       " 'v': 1,\n",
       " 'value': 0})"
      ]
     },
     "execution_count": 7,
     "metadata": {},
     "output_type": "execute_result"
    }
   ],
   "source": [
    "tx_id='0x8287a8c72c6a56688e06d3a9d52b9ede5c107782293c8b56157bcecdb4b46d45'\n",
    "w3.eth.getTransaction(tx_id)"
   ]
  },
  {
   "cell_type": "markdown",
   "metadata": {},
   "source": [
    "### Get Balance of any address"
   ]
  },
  {
   "cell_type": "code",
   "execution_count": 12,
   "metadata": {
    "ExecuteTime": {
     "end_time": "2021-09-29T19:52:46.238727Z",
     "start_time": "2021-09-29T19:52:45.998355Z"
    }
   },
   "outputs": [
    {
     "data": {
      "text/plain": [
       "1663781388884274796027"
      ]
     },
     "execution_count": 12,
     "metadata": {},
     "output_type": "execute_result"
    }
   ],
   "source": [
    "address='0x0708F87A089a91C65d48721Aa941084648562287'\n",
    "w3.eth.getBalance(address)"
   ]
  },
  {
   "cell_type": "markdown",
   "metadata": {},
   "source": [
    "The balance returned is in Wei, convert to ether"
   ]
  },
  {
   "cell_type": "code",
   "execution_count": 14,
   "metadata": {
    "ExecuteTime": {
     "end_time": "2021-09-29T20:11:20.565159Z",
     "start_time": "2021-09-29T20:11:20.332474Z"
    }
   },
   "outputs": [
    {
     "name": "stdout",
     "output_type": "stream",
     "text": [
      "Balance : 1668.398900981460643731 ETH\n"
     ]
    }
   ],
   "source": [
    "balance=w3.eth.getBalance(address)\n",
    "balance=w3.fromWei(balance, 'ether')\n",
    "print(f'Balance : {balance} ETH')"
   ]
  },
  {
   "cell_type": "markdown",
   "metadata": {},
   "source": [
    "### Using ENS"
   ]
  },
  {
   "cell_type": "code",
   "execution_count": 10,
   "metadata": {
    "ExecuteTime": {
     "end_time": "2021-09-29T19:44:50.278823Z",
     "start_time": "2021-09-29T19:44:48.965088Z"
    }
   },
   "outputs": [
    {
     "data": {
      "text/plain": [
       "Decimal('6106.163440668441690514')"
      ]
     },
     "execution_count": 10,
     "metadata": {},
     "output_type": "execute_result"
    }
   ],
   "source": [
    "w3.fromWei(w3.eth.getBalance('vitalik.eth'),'ether')"
   ]
  },
  {
   "cell_type": "code",
   "execution_count": 11,
   "metadata": {
    "ExecuteTime": {
     "end_time": "2021-09-29T19:45:10.570175Z",
     "start_time": "2021-09-29T19:45:10.400937Z"
    }
   },
   "outputs": [
    {
     "data": {
      "text/plain": [
       "'0x3BA55377075e67E80F81a6A8FE2995e6a2B59F01'"
      ]
     },
     "execution_count": 11,
     "metadata": {},
     "output_type": "execute_result"
    }
   ],
   "source": [
    "w3.eth.getTransaction(tx_id)['from']"
   ]
  },
  {
   "cell_type": "markdown",
   "metadata": {},
   "source": [
    "### Check address"
   ]
  },
  {
   "cell_type": "code",
   "execution_count": 12,
   "metadata": {
    "ExecuteTime": {
     "end_time": "2021-09-20T21:47:44.163394Z",
     "start_time": "2021-09-20T21:47:44.147982Z"
    }
   },
   "outputs": [
    {
     "data": {
      "text/plain": [
       "True"
      ]
     },
     "execution_count": 12,
     "metadata": {},
     "output_type": "execute_result"
    }
   ],
   "source": [
    "w3.isAddress('0x2b591e99afE9f32eAA6214f7B7629768c40Eeb39')"
   ]
  },
  {
   "cell_type": "code",
   "execution_count": 13,
   "metadata": {
    "ExecuteTime": {
     "end_time": "2021-09-20T21:47:44.960134Z",
     "start_time": "2021-09-20T21:47:44.947977Z"
    }
   },
   "outputs": [
    {
     "data": {
      "text/plain": [
       "False"
      ]
     },
     "execution_count": 13,
     "metadata": {},
     "output_type": "execute_result"
    }
   ],
   "source": [
    "w3.isAddress('0x8287a8c72c6a56688e06d3a9d52b9ede5c107782293c8b56157bcecdb4b46d45')"
   ]
  },
  {
   "cell_type": "code",
   "execution_count": 15,
   "metadata": {
    "ExecuteTime": {
     "end_time": "2021-09-20T21:48:52.152594Z",
     "start_time": "2021-09-20T21:48:52.142596Z"
    }
   },
   "outputs": [
    {
     "data": {
      "text/plain": [
       "False"
      ]
     },
     "execution_count": 15,
     "metadata": {},
     "output_type": "execute_result"
    }
   ],
   "source": [
    "w3.isChecksumAddress('0X0B36748D853621251D5249C18FC18B5AB47437A1')"
   ]
  },
  {
   "cell_type": "code",
   "execution_count": 14,
   "metadata": {
    "ExecuteTime": {
     "end_time": "2021-09-20T21:47:45.856067Z",
     "start_time": "2021-09-20T21:47:45.843145Z"
    }
   },
   "outputs": [
    {
     "data": {
      "text/plain": [
       "True"
      ]
     },
     "execution_count": 14,
     "metadata": {},
     "output_type": "execute_result"
    }
   ],
   "source": [
    "w3.isChecksumAddress('0x0B36748D853621251D5249c18fC18B5ab47437a1')"
   ]
  },
  {
   "cell_type": "markdown",
   "metadata": {},
   "source": [
    "### To check sum address"
   ]
  },
  {
   "cell_type": "code",
   "execution_count": 22,
   "metadata": {
    "ExecuteTime": {
     "end_time": "2021-09-11T23:50:47.735645Z",
     "start_time": "2021-09-11T23:50:47.704747Z"
    }
   },
   "outputs": [
    {
     "data": {
      "text/plain": [
       "'0X0B36748D853621251D5249C18FC18B5AB47437A1'"
      ]
     },
     "execution_count": 22,
     "metadata": {},
     "output_type": "execute_result"
    }
   ],
   "source": [
    "s='0x0B36748D853621251D5249c18fC18B5ab47437a1'\n",
    "s.upper()"
   ]
  },
  {
   "cell_type": "code",
   "execution_count": 24,
   "metadata": {
    "ExecuteTime": {
     "end_time": "2021-09-11T23:51:01.733982Z",
     "start_time": "2021-09-11T23:51:01.702721Z"
    }
   },
   "outputs": [
    {
     "data": {
      "text/plain": [
       "'0x0b36748d853621251d5249c18fc18b5ab47437a1'"
      ]
     },
     "execution_count": 24,
     "metadata": {},
     "output_type": "execute_result"
    }
   ],
   "source": [
    "s.lower()"
   ]
  },
  {
   "cell_type": "code",
   "execution_count": 25,
   "metadata": {
    "ExecuteTime": {
     "end_time": "2021-09-11T23:53:15.558735Z",
     "start_time": "2021-09-11T23:53:15.543105Z"
    }
   },
   "outputs": [
    {
     "data": {
      "text/plain": [
       "'0x0B36748D853621251D5249c18fC18B5ab47437a1'"
      ]
     },
     "execution_count": 25,
     "metadata": {},
     "output_type": "execute_result"
    }
   ],
   "source": [
    "w3.toChecksumAddress('0x0B36748D853621251D5249c18fC18B5ab47437a1')"
   ]
  },
  {
   "cell_type": "code",
   "execution_count": null,
   "metadata": {},
   "outputs": [],
   "source": []
  },
  {
   "cell_type": "code",
   "execution_count": 14,
   "metadata": {
    "ExecuteTime": {
     "end_time": "2021-09-10T16:08:16.288023Z",
     "start_time": "2021-09-10T16:08:16.142154Z"
    }
   },
   "outputs": [
    {
     "data": {
      "text/plain": [
       "2111803406422978499259"
      ]
     },
     "execution_count": 14,
     "metadata": {},
     "output_type": "execute_result"
    }
   ],
   "source": [
    "address=w3.toChecksumAddress('0x829bd824b016326a401d083b33d092293333a830')\n",
    "w3.eth.get_balance(address)"
   ]
  },
  {
   "cell_type": "markdown",
   "metadata": {},
   "source": [
    "### Get ENS name"
   ]
  },
  {
   "cell_type": "code",
   "execution_count": 18,
   "metadata": {
    "ExecuteTime": {
     "end_time": "2021-09-20T22:11:05.786467Z",
     "start_time": "2021-09-20T22:11:05.263165Z"
    }
   },
   "outputs": [
    {
     "data": {
      "text/plain": [
       "'vitalik.eth'"
      ]
     },
     "execution_count": 18,
     "metadata": {},
     "output_type": "execute_result"
    }
   ],
   "source": [
    "w3.ens.name('0xd8dA6BF26964aF9D7eEd9e03E53415D37aA96045')"
   ]
  },
  {
   "cell_type": "markdown",
   "metadata": {},
   "source": [
    "### Get address from ENS name"
   ]
  },
  {
   "cell_type": "code",
   "execution_count": 16,
   "metadata": {
    "ExecuteTime": {
     "end_time": "2021-09-20T22:06:54.809102Z",
     "start_time": "2021-09-20T22:06:54.284654Z"
    }
   },
   "outputs": [
    {
     "data": {
      "text/plain": [
       "'0xd8dA6BF26964aF9D7eEd9e03E53415D37aA96045'"
      ]
     },
     "execution_count": 16,
     "metadata": {},
     "output_type": "execute_result"
    }
   ],
   "source": [
    "w3.ens.address('vitalik.eth')"
   ]
  },
  {
   "cell_type": "markdown",
   "metadata": {},
   "source": [
    "### Get Gas Price"
   ]
  },
  {
   "cell_type": "code",
   "execution_count": 17,
   "metadata": {
    "ExecuteTime": {
     "end_time": "2021-09-10T16:08:27.768622Z",
     "start_time": "2021-09-10T16:08:27.628022Z"
    }
   },
   "outputs": [
    {
     "name": "stdout",
     "output_type": "stream",
     "text": [
      "101.097199948\n"
     ]
    }
   ],
   "source": [
    "print(w3.fromWei(w3.eth.gas_price,'gwei'))"
   ]
  },
  {
   "cell_type": "markdown",
   "metadata": {},
   "source": [
    "# Query Token (HEX)"
   ]
  },
  {
   "cell_type": "code",
   "execution_count": 29,
   "metadata": {
    "ExecuteTime": {
     "end_time": "2021-09-09T14:44:33.909022Z",
     "start_time": "2021-09-09T14:44:33.896539Z"
    }
   },
   "outputs": [],
   "source": [
    "import json"
   ]
  },
  {
   "cell_type": "code",
   "execution_count": 30,
   "metadata": {
    "ExecuteTime": {
     "end_time": "2021-09-09T14:44:34.432376Z",
     "start_time": "2021-09-09T14:44:34.416200Z"
    },
    "code_folding": [
     0
    ]
   },
   "outputs": [],
   "source": [
    "#abi and addrress\n",
    "abi=json.loads('[{\"inputs\":[],\"payable\":false,\"stateMutability\":\"nonpayable\",\"type\":\"constructor\"},{\"anonymous\":false,\"inputs\":[{\"indexed\":true,\"internalType\":\"address\",\"name\":\"owner\",\"type\":\"address\"},{\"indexed\":true,\"internalType\":\"address\",\"name\":\"spender\",\"type\":\"address\"},{\"indexed\":false,\"internalType\":\"uint256\",\"name\":\"value\",\"type\":\"uint256\"}],\"name\":\"Approval\",\"type\":\"event\"},{\"anonymous\":false,\"inputs\":[{\"indexed\":false,\"internalType\":\"uint256\",\"name\":\"data0\",\"type\":\"uint256\"},{\"indexed\":false,\"internalType\":\"uint256\",\"name\":\"data1\",\"type\":\"uint256\"},{\"indexed\":true,\"internalType\":\"bytes20\",\"name\":\"btcAddr\",\"type\":\"bytes20\"},{\"indexed\":true,\"internalType\":\"address\",\"name\":\"claimToAddr\",\"type\":\"address\"},{\"indexed\":true,\"internalType\":\"address\",\"name\":\"referrerAddr\",\"type\":\"address\"}],\"name\":\"Claim\",\"type\":\"event\"},{\"anonymous\":false,\"inputs\":[{\"indexed\":false,\"internalType\":\"uint256\",\"name\":\"data0\",\"type\":\"uint256\"},{\"indexed\":false,\"internalType\":\"uint256\",\"name\":\"data1\",\"type\":\"uint256\"},{\"indexed\":false,\"internalType\":\"uint256\",\"name\":\"data2\",\"type\":\"uint256\"},{\"indexed\":true,\"internalType\":\"address\",\"name\":\"senderAddr\",\"type\":\"address\"}],\"name\":\"ClaimAssist\",\"type\":\"event\"},{\"anonymous\":false,\"inputs\":[{\"indexed\":false,\"internalType\":\"uint256\",\"name\":\"data0\",\"type\":\"uint256\"},{\"indexed\":true,\"internalType\":\"address\",\"name\":\"updaterAddr\",\"type\":\"address\"}],\"name\":\"DailyDataUpdate\",\"type\":\"event\"},{\"anonymous\":false,\"inputs\":[{\"indexed\":false,\"internalType\":\"uint256\",\"name\":\"data0\",\"type\":\"uint256\"},{\"indexed\":true,\"internalType\":\"uint40\",\"name\":\"stakeId\",\"type\":\"uint40\"}],\"name\":\"ShareRateChange\",\"type\":\"event\"},{\"anonymous\":false,\"inputs\":[{\"indexed\":false,\"internalType\":\"uint256\",\"name\":\"data0\",\"type\":\"uint256\"},{\"indexed\":false,\"internalType\":\"uint256\",\"name\":\"data1\",\"type\":\"uint256\"},{\"indexed\":true,\"internalType\":\"address\",\"name\":\"stakerAddr\",\"type\":\"address\"},{\"indexed\":true,\"internalType\":\"uint40\",\"name\":\"stakeId\",\"type\":\"uint40\"}],\"name\":\"StakeEnd\",\"type\":\"event\"},{\"anonymous\":false,\"inputs\":[{\"indexed\":false,\"internalType\":\"uint256\",\"name\":\"data0\",\"type\":\"uint256\"},{\"indexed\":false,\"internalType\":\"uint256\",\"name\":\"data1\",\"type\":\"uint256\"},{\"indexed\":true,\"internalType\":\"address\",\"name\":\"stakerAddr\",\"type\":\"address\"},{\"indexed\":true,\"internalType\":\"uint40\",\"name\":\"stakeId\",\"type\":\"uint40\"},{\"indexed\":true,\"internalType\":\"address\",\"name\":\"senderAddr\",\"type\":\"address\"}],\"name\":\"StakeGoodAccounting\",\"type\":\"event\"},{\"anonymous\":false,\"inputs\":[{\"indexed\":false,\"internalType\":\"uint256\",\"name\":\"data0\",\"type\":\"uint256\"},{\"indexed\":true,\"internalType\":\"address\",\"name\":\"stakerAddr\",\"type\":\"address\"},{\"indexed\":true,\"internalType\":\"uint40\",\"name\":\"stakeId\",\"type\":\"uint40\"}],\"name\":\"StakeStart\",\"type\":\"event\"},{\"anonymous\":false,\"inputs\":[{\"indexed\":true,\"internalType\":\"address\",\"name\":\"from\",\"type\":\"address\"},{\"indexed\":true,\"internalType\":\"address\",\"name\":\"to\",\"type\":\"address\"},{\"indexed\":false,\"internalType\":\"uint256\",\"name\":\"value\",\"type\":\"uint256\"}],\"name\":\"Transfer\",\"type\":\"event\"},{\"anonymous\":false,\"inputs\":[{\"indexed\":false,\"internalType\":\"uint256\",\"name\":\"data0\",\"type\":\"uint256\"},{\"indexed\":true,\"internalType\":\"address\",\"name\":\"memberAddr\",\"type\":\"address\"},{\"indexed\":true,\"internalType\":\"uint256\",\"name\":\"entryId\",\"type\":\"uint256\"},{\"indexed\":true,\"internalType\":\"address\",\"name\":\"referrerAddr\",\"type\":\"address\"}],\"name\":\"XfLobbyEnter\",\"type\":\"event\"},{\"anonymous\":false,\"inputs\":[{\"indexed\":false,\"internalType\":\"uint256\",\"name\":\"data0\",\"type\":\"uint256\"},{\"indexed\":true,\"internalType\":\"address\",\"name\":\"memberAddr\",\"type\":\"address\"},{\"indexed\":true,\"internalType\":\"uint256\",\"name\":\"entryId\",\"type\":\"uint256\"},{\"indexed\":true,\"internalType\":\"address\",\"name\":\"referrerAddr\",\"type\":\"address\"}],\"name\":\"XfLobbyExit\",\"type\":\"event\"},{\"payable\":true,\"stateMutability\":\"payable\",\"type\":\"fallback\"},{\"constant\":true,\"inputs\":[],\"name\":\"allocatedSupply\",\"outputs\":[{\"internalType\":\"uint256\",\"name\":\"\",\"type\":\"uint256\"}],\"payable\":false,\"stateMutability\":\"view\",\"type\":\"function\"},{\"constant\":true,\"inputs\":[{\"internalType\":\"address\",\"name\":\"owner\",\"type\":\"address\"},{\"internalType\":\"address\",\"name\":\"spender\",\"type\":\"address\"}],\"name\":\"allowance\",\"outputs\":[{\"internalType\":\"uint256\",\"name\":\"\",\"type\":\"uint256\"}],\"payable\":false,\"stateMutability\":\"view\",\"type\":\"function\"},{\"constant\":false,\"inputs\":[{\"internalType\":\"address\",\"name\":\"spender\",\"type\":\"address\"},{\"internalType\":\"uint256\",\"name\":\"amount\",\"type\":\"uint256\"}],\"name\":\"approve\",\"outputs\":[{\"internalType\":\"bool\",\"name\":\"\",\"type\":\"bool\"}],\"payable\":false,\"stateMutability\":\"nonpayable\",\"type\":\"function\"},{\"constant\":true,\"inputs\":[{\"internalType\":\"address\",\"name\":\"account\",\"type\":\"address\"}],\"name\":\"balanceOf\",\"outputs\":[{\"internalType\":\"uint256\",\"name\":\"\",\"type\":\"uint256\"}],\"payable\":false,\"stateMutability\":\"view\",\"type\":\"function\"},{\"constant\":false,\"inputs\":[{\"internalType\":\"uint256\",\"name\":\"rawSatoshis\",\"type\":\"uint256\"},{\"internalType\":\"bytes32[]\",\"name\":\"proof\",\"type\":\"bytes32[]\"},{\"internalType\":\"address\",\"name\":\"claimToAddr\",\"type\":\"address\"},{\"internalType\":\"bytes32\",\"name\":\"pubKeyX\",\"type\":\"bytes32\"},{\"internalType\":\"bytes32\",\"name\":\"pubKeyY\",\"type\":\"bytes32\"},{\"internalType\":\"uint8\",\"name\":\"claimFlags\",\"type\":\"uint8\"},{\"internalType\":\"uint8\",\"name\":\"v\",\"type\":\"uint8\"},{\"internalType\":\"bytes32\",\"name\":\"r\",\"type\":\"bytes32\"},{\"internalType\":\"bytes32\",\"name\":\"s\",\"type\":\"bytes32\"},{\"internalType\":\"uint256\",\"name\":\"autoStakeDays\",\"type\":\"uint256\"},{\"internalType\":\"address\",\"name\":\"referrerAddr\",\"type\":\"address\"}],\"name\":\"btcAddressClaim\",\"outputs\":[{\"internalType\":\"uint256\",\"name\":\"\",\"type\":\"uint256\"}],\"payable\":false,\"stateMutability\":\"nonpayable\",\"type\":\"function\"},{\"constant\":true,\"inputs\":[{\"internalType\":\"bytes20\",\"name\":\"\",\"type\":\"bytes20\"}],\"name\":\"btcAddressClaims\",\"outputs\":[{\"internalType\":\"bool\",\"name\":\"\",\"type\":\"bool\"}],\"payable\":false,\"stateMutability\":\"view\",\"type\":\"function\"},{\"constant\":true,\"inputs\":[{\"internalType\":\"bytes20\",\"name\":\"btcAddr\",\"type\":\"bytes20\"},{\"internalType\":\"uint256\",\"name\":\"rawSatoshis\",\"type\":\"uint256\"},{\"internalType\":\"bytes32[]\",\"name\":\"proof\",\"type\":\"bytes32[]\"}],\"name\":\"btcAddressIsClaimable\",\"outputs\":[{\"internalType\":\"bool\",\"name\":\"\",\"type\":\"bool\"}],\"payable\":false,\"stateMutability\":\"view\",\"type\":\"function\"},{\"constant\":true,\"inputs\":[{\"internalType\":\"bytes20\",\"name\":\"btcAddr\",\"type\":\"bytes20\"},{\"internalType\":\"uint256\",\"name\":\"rawSatoshis\",\"type\":\"uint256\"},{\"internalType\":\"bytes32[]\",\"name\":\"proof\",\"type\":\"bytes32[]\"}],\"name\":\"btcAddressIsValid\",\"outputs\":[{\"internalType\":\"bool\",\"name\":\"\",\"type\":\"bool\"}],\"payable\":false,\"stateMutability\":\"pure\",\"type\":\"function\"},{\"constant\":true,\"inputs\":[{\"internalType\":\"address\",\"name\":\"claimToAddr\",\"type\":\"address\"},{\"internalType\":\"bytes32\",\"name\":\"claimParamHash\",\"type\":\"bytes32\"},{\"internalType\":\"bytes32\",\"name\":\"pubKeyX\",\"type\":\"bytes32\"},{\"internalType\":\"bytes32\",\"name\":\"pubKeyY\",\"type\":\"bytes32\"},{\"internalType\":\"uint8\",\"name\":\"claimFlags\",\"type\":\"uint8\"},{\"internalType\":\"uint8\",\"name\":\"v\",\"type\":\"uint8\"},{\"internalType\":\"bytes32\",\"name\":\"r\",\"type\":\"bytes32\"},{\"internalType\":\"bytes32\",\"name\":\"s\",\"type\":\"bytes32\"}],\"name\":\"claimMessageMatchesSignature\",\"outputs\":[{\"internalType\":\"bool\",\"name\":\"\",\"type\":\"bool\"}],\"payable\":false,\"stateMutability\":\"pure\",\"type\":\"function\"},{\"constant\":true,\"inputs\":[],\"name\":\"currentDay\",\"outputs\":[{\"internalType\":\"uint256\",\"name\":\"\",\"type\":\"uint256\"}],\"payable\":false,\"stateMutability\":\"view\",\"type\":\"function\"},{\"constant\":true,\"inputs\":[{\"internalType\":\"uint256\",\"name\":\"\",\"type\":\"uint256\"}],\"name\":\"dailyData\",\"outputs\":[{\"internalType\":\"uint72\",\"name\":\"dayPayoutTotal\",\"type\":\"uint72\"},{\"internalType\":\"uint72\",\"name\":\"dayStakeSharesTotal\",\"type\":\"uint72\"},{\"internalType\":\"uint56\",\"name\":\"dayUnclaimedSatoshisTotal\",\"type\":\"uint56\"}],\"payable\":false,\"stateMutability\":\"view\",\"type\":\"function\"},{\"constant\":true,\"inputs\":[{\"internalType\":\"uint256\",\"name\":\"beginDay\",\"type\":\"uint256\"},{\"internalType\":\"uint256\",\"name\":\"endDay\",\"type\":\"uint256\"}],\"name\":\"dailyDataRange\",\"outputs\":[{\"internalType\":\"uint256[]\",\"name\":\"list\",\"type\":\"uint256[]\"}],\"payable\":false,\"stateMutability\":\"view\",\"type\":\"function\"},{\"constant\":false,\"inputs\":[{\"internalType\":\"uint256\",\"name\":\"beforeDay\",\"type\":\"uint256\"}],\"name\":\"dailyDataUpdate\",\"outputs\":[],\"payable\":false,\"stateMutability\":\"nonpayable\",\"type\":\"function\"},{\"constant\":true,\"inputs\":[],\"name\":\"decimals\",\"outputs\":[{\"internalType\":\"uint8\",\"name\":\"\",\"type\":\"uint8\"}],\"payable\":false,\"stateMutability\":\"view\",\"type\":\"function\"},{\"constant\":false,\"inputs\":[{\"internalType\":\"address\",\"name\":\"spender\",\"type\":\"address\"},{\"internalType\":\"uint256\",\"name\":\"subtractedValue\",\"type\":\"uint256\"}],\"name\":\"decreaseAllowance\",\"outputs\":[{\"internalType\":\"bool\",\"name\":\"\",\"type\":\"bool\"}],\"payable\":false,\"stateMutability\":\"nonpayable\",\"type\":\"function\"},{\"constant\":true,\"inputs\":[],\"name\":\"globalInfo\",\"outputs\":[{\"internalType\":\"uint256[13]\",\"name\":\"\",\"type\":\"uint256[13]\"}],\"payable\":false,\"stateMutability\":\"view\",\"type\":\"function\"},{\"constant\":true,\"inputs\":[],\"name\":\"globals\",\"outputs\":[{\"internalType\":\"uint72\",\"name\":\"lockedHeartsTotal\",\"type\":\"uint72\"},{\"internalType\":\"uint72\",\"name\":\"nextStakeSharesTotal\",\"type\":\"uint72\"},{\"internalType\":\"uint40\",\"name\":\"shareRate\",\"type\":\"uint40\"},{\"internalType\":\"uint72\",\"name\":\"stakePenaltyTotal\",\"type\":\"uint72\"},{\"internalType\":\"uint16\",\"name\":\"dailyDataCount\",\"type\":\"uint16\"},{\"internalType\":\"uint72\",\"name\":\"stakeSharesTotal\",\"type\":\"uint72\"},{\"internalType\":\"uint40\",\"name\":\"latestStakeId\",\"type\":\"uint40\"},{\"internalType\":\"uint128\",\"name\":\"claimStats\",\"type\":\"uint128\"}],\"payable\":false,\"stateMutability\":\"view\",\"type\":\"function\"},{\"constant\":false,\"inputs\":[{\"internalType\":\"address\",\"name\":\"spender\",\"type\":\"address\"},{\"internalType\":\"uint256\",\"name\":\"addedValue\",\"type\":\"uint256\"}],\"name\":\"increaseAllowance\",\"outputs\":[{\"internalType\":\"bool\",\"name\":\"\",\"type\":\"bool\"}],\"payable\":false,\"stateMutability\":\"nonpayable\",\"type\":\"function\"},{\"constant\":true,\"inputs\":[{\"internalType\":\"bytes32\",\"name\":\"merkleLeaf\",\"type\":\"bytes32\"},{\"internalType\":\"bytes32[]\",\"name\":\"proof\",\"type\":\"bytes32[]\"}],\"name\":\"merkleProofIsValid\",\"outputs\":[{\"internalType\":\"bool\",\"name\":\"\",\"type\":\"bool\"}],\"payable\":false,\"stateMutability\":\"pure\",\"type\":\"function\"},{\"constant\":true,\"inputs\":[],\"name\":\"name\",\"outputs\":[{\"internalType\":\"string\",\"name\":\"\",\"type\":\"string\"}],\"payable\":false,\"stateMutability\":\"view\",\"type\":\"function\"},{\"constant\":true,\"inputs\":[{\"internalType\":\"bytes32\",\"name\":\"pubKeyX\",\"type\":\"bytes32\"},{\"internalType\":\"bytes32\",\"name\":\"pubKeyY\",\"type\":\"bytes32\"},{\"internalType\":\"uint8\",\"name\":\"claimFlags\",\"type\":\"uint8\"}],\"name\":\"pubKeyToBtcAddress\",\"outputs\":[{\"internalType\":\"bytes20\",\"name\":\"\",\"type\":\"bytes20\"}],\"payable\":false,\"stateMutability\":\"pure\",\"type\":\"function\"},{\"constant\":true,\"inputs\":[{\"internalType\":\"bytes32\",\"name\":\"pubKeyX\",\"type\":\"bytes32\"},{\"internalType\":\"bytes32\",\"name\":\"pubKeyY\",\"type\":\"bytes32\"}],\"name\":\"pubKeyToEthAddress\",\"outputs\":[{\"internalType\":\"address\",\"name\":\"\",\"type\":\"address\"}],\"payable\":false,\"stateMutability\":\"pure\",\"type\":\"function\"},{\"constant\":true,\"inputs\":[{\"internalType\":\"address\",\"name\":\"stakerAddr\",\"type\":\"address\"}],\"name\":\"stakeCount\",\"outputs\":[{\"internalType\":\"uint256\",\"name\":\"\",\"type\":\"uint256\"}],\"payable\":false,\"stateMutability\":\"view\",\"type\":\"function\"},{\"constant\":false,\"inputs\":[{\"internalType\":\"uint256\",\"name\":\"stakeIndex\",\"type\":\"uint256\"},{\"internalType\":\"uint40\",\"name\":\"stakeIdParam\",\"type\":\"uint40\"}],\"name\":\"stakeEnd\",\"outputs\":[],\"payable\":false,\"stateMutability\":\"nonpayable\",\"type\":\"function\"},{\"constant\":false,\"inputs\":[{\"internalType\":\"address\",\"name\":\"stakerAddr\",\"type\":\"address\"},{\"internalType\":\"uint256\",\"name\":\"stakeIndex\",\"type\":\"uint256\"},{\"internalType\":\"uint40\",\"name\":\"stakeIdParam\",\"type\":\"uint40\"}],\"name\":\"stakeGoodAccounting\",\"outputs\":[],\"payable\":false,\"stateMutability\":\"nonpayable\",\"type\":\"function\"},{\"constant\":true,\"inputs\":[{\"internalType\":\"address\",\"name\":\"\",\"type\":\"address\"},{\"internalType\":\"uint256\",\"name\":\"\",\"type\":\"uint256\"}],\"name\":\"stakeLists\",\"outputs\":[{\"internalType\":\"uint40\",\"name\":\"stakeId\",\"type\":\"uint40\"},{\"internalType\":\"uint72\",\"name\":\"stakedHearts\",\"type\":\"uint72\"},{\"internalType\":\"uint72\",\"name\":\"stakeShares\",\"type\":\"uint72\"},{\"internalType\":\"uint16\",\"name\":\"lockedDay\",\"type\":\"uint16\"},{\"internalType\":\"uint16\",\"name\":\"stakedDays\",\"type\":\"uint16\"},{\"internalType\":\"uint16\",\"name\":\"unlockedDay\",\"type\":\"uint16\"},{\"internalType\":\"bool\",\"name\":\"isAutoStake\",\"type\":\"bool\"}],\"payable\":false,\"stateMutability\":\"view\",\"type\":\"function\"},{\"constant\":false,\"inputs\":[{\"internalType\":\"uint256\",\"name\":\"newStakedHearts\",\"type\":\"uint256\"},{\"internalType\":\"uint256\",\"name\":\"newStakedDays\",\"type\":\"uint256\"}],\"name\":\"stakeStart\",\"outputs\":[],\"payable\":false,\"stateMutability\":\"nonpayable\",\"type\":\"function\"},{\"constant\":true,\"inputs\":[],\"name\":\"symbol\",\"outputs\":[{\"internalType\":\"string\",\"name\":\"\",\"type\":\"string\"}],\"payable\":false,\"stateMutability\":\"view\",\"type\":\"function\"},{\"constant\":true,\"inputs\":[],\"name\":\"totalSupply\",\"outputs\":[{\"internalType\":\"uint256\",\"name\":\"\",\"type\":\"uint256\"}],\"payable\":false,\"stateMutability\":\"view\",\"type\":\"function\"},{\"constant\":false,\"inputs\":[{\"internalType\":\"address\",\"name\":\"recipient\",\"type\":\"address\"},{\"internalType\":\"uint256\",\"name\":\"amount\",\"type\":\"uint256\"}],\"name\":\"transfer\",\"outputs\":[{\"internalType\":\"bool\",\"name\":\"\",\"type\":\"bool\"}],\"payable\":false,\"stateMutability\":\"nonpayable\",\"type\":\"function\"},{\"constant\":false,\"inputs\":[{\"internalType\":\"address\",\"name\":\"sender\",\"type\":\"address\"},{\"internalType\":\"address\",\"name\":\"recipient\",\"type\":\"address\"},{\"internalType\":\"uint256\",\"name\":\"amount\",\"type\":\"uint256\"}],\"name\":\"transferFrom\",\"outputs\":[{\"internalType\":\"bool\",\"name\":\"\",\"type\":\"bool\"}],\"payable\":false,\"stateMutability\":\"nonpayable\",\"type\":\"function\"},{\"constant\":true,\"inputs\":[{\"internalType\":\"uint256\",\"name\":\"\",\"type\":\"uint256\"}],\"name\":\"xfLobby\",\"outputs\":[{\"internalType\":\"uint256\",\"name\":\"\",\"type\":\"uint256\"}],\"payable\":false,\"stateMutability\":\"view\",\"type\":\"function\"},{\"constant\":false,\"inputs\":[{\"internalType\":\"address\",\"name\":\"referrerAddr\",\"type\":\"address\"}],\"name\":\"xfLobbyEnter\",\"outputs\":[],\"payable\":true,\"stateMutability\":\"payable\",\"type\":\"function\"},{\"constant\":true,\"inputs\":[{\"internalType\":\"address\",\"name\":\"memberAddr\",\"type\":\"address\"},{\"internalType\":\"uint256\",\"name\":\"entryId\",\"type\":\"uint256\"}],\"name\":\"xfLobbyEntry\",\"outputs\":[{\"internalType\":\"uint256\",\"name\":\"rawAmount\",\"type\":\"uint256\"},{\"internalType\":\"address\",\"name\":\"referrerAddr\",\"type\":\"address\"}],\"payable\":false,\"stateMutability\":\"view\",\"type\":\"function\"},{\"constant\":false,\"inputs\":[{\"internalType\":\"uint256\",\"name\":\"enterDay\",\"type\":\"uint256\"},{\"internalType\":\"uint256\",\"name\":\"count\",\"type\":\"uint256\"}],\"name\":\"xfLobbyExit\",\"outputs\":[],\"payable\":false,\"stateMutability\":\"nonpayable\",\"type\":\"function\"},{\"constant\":false,\"inputs\":[],\"name\":\"xfLobbyFlush\",\"outputs\":[],\"payable\":false,\"stateMutability\":\"nonpayable\",\"type\":\"function\"},{\"constant\":true,\"inputs\":[{\"internalType\":\"uint256\",\"name\":\"\",\"type\":\"uint256\"},{\"internalType\":\"address\",\"name\":\"\",\"type\":\"address\"}],\"name\":\"xfLobbyMembers\",\"outputs\":[{\"internalType\":\"uint40\",\"name\":\"headIndex\",\"type\":\"uint40\"},{\"internalType\":\"uint40\",\"name\":\"tailIndex\",\"type\":\"uint40\"}],\"payable\":false,\"stateMutability\":\"view\",\"type\":\"function\"},{\"constant\":true,\"inputs\":[{\"internalType\":\"address\",\"name\":\"memberAddr\",\"type\":\"address\"}],\"name\":\"xfLobbyPendingDays\",\"outputs\":[{\"internalType\":\"uint256[2]\",\"name\":\"words\",\"type\":\"uint256[2]\"}],\"payable\":false,\"stateMutability\":\"view\",\"type\":\"function\"},{\"constant\":true,\"inputs\":[{\"internalType\":\"uint256\",\"name\":\"beginDay\",\"type\":\"uint256\"},{\"internalType\":\"uint256\",\"name\":\"endDay\",\"type\":\"uint256\"}],\"name\":\"xfLobbyRange\",\"outputs\":[{\"internalType\":\"uint256[]\",\"name\":\"list\",\"type\":\"uint256[]\"}],\"payable\":false,\"stateMutability\":\"view\",\"type\":\"function\"}]')\n",
    "address=\"0x2b591e99afe9f32eaa6214f7b7629768c40eeb39\""
   ]
  },
  {
   "cell_type": "code",
   "execution_count": 31,
   "metadata": {
    "ExecuteTime": {
     "end_time": "2021-09-09T14:44:35.149862Z",
     "start_time": "2021-09-09T14:44:35.133853Z"
    }
   },
   "outputs": [],
   "source": [
    "address=Web3.toChecksumAddress(address)"
   ]
  },
  {
   "cell_type": "code",
   "execution_count": 32,
   "metadata": {
    "ExecuteTime": {
     "end_time": "2021-09-09T14:44:35.829657Z",
     "start_time": "2021-09-09T14:44:35.796838Z"
    }
   },
   "outputs": [],
   "source": [
    "contract=w3.eth.contract(address=address, abi=abi)"
   ]
  },
  {
   "cell_type": "markdown",
   "metadata": {},
   "source": [
    "### Metadata"
   ]
  },
  {
   "cell_type": "code",
   "execution_count": 33,
   "metadata": {
    "ExecuteTime": {
     "end_time": "2021-09-09T14:44:37.536157Z",
     "start_time": "2021-09-09T14:44:37.077011Z"
    }
   },
   "outputs": [
    {
     "name": "stdout",
     "output_type": "stream",
     "text": [
      "Name : HEX\n",
      "Symbol : HEX\n",
      "Decimals : 8\n"
     ]
    }
   ],
   "source": [
    "print('Name :', contract.functions.name().call())\n",
    "symbol=contract.functions.symbol().call()\n",
    "print('Symbol :', symbol)\n",
    "print('Decimals :',contract.functions.decimals().call())"
   ]
  },
  {
   "cell_type": "markdown",
   "metadata": {},
   "source": [
    "### Total Supply"
   ]
  },
  {
   "cell_type": "code",
   "execution_count": 34,
   "metadata": {
    "ExecuteTime": {
     "end_time": "2021-09-09T14:44:41.844000Z",
     "start_time": "2021-09-09T14:44:41.270838Z"
    }
   },
   "outputs": [
    {
     "name": "stdout",
     "output_type": "stream",
     "text": [
      "Total Supply : 572528097560.1211 HEX\n"
     ]
    }
   ],
   "source": [
    "dec=contract.functions.decimals().call()\n",
    "dec=10**dec\n",
    "supply=contract.functions.totalSupply().call()/dec\n",
    "print(f'Total Supply : {supply} {symbol}')"
   ]
  },
  {
   "cell_type": "markdown",
   "metadata": {},
   "source": [
    "### Tokens with the contract"
   ]
  },
  {
   "cell_type": "code",
   "execution_count": 35,
   "metadata": {
    "ExecuteTime": {
     "end_time": "2021-09-09T14:44:43.964552Z",
     "start_time": "2021-09-09T14:44:43.269887Z"
    }
   },
   "outputs": [
    {
     "name": "stdout",
     "output_type": "stream",
     "text": [
      "Tokens with the contract : 27143496.89378782 HEX\n"
     ]
    }
   ],
   "source": [
    "temp=contract.functions.balanceOf(address).call()/dec\n",
    "print(f\"Tokens with the contract : {temp} {symbol}\")"
   ]
  },
  {
   "cell_type": "markdown",
   "metadata": {},
   "source": [
    "### Token Balance of Holder"
   ]
  },
  {
   "cell_type": "code",
   "execution_count": 36,
   "metadata": {
    "ExecuteTime": {
     "end_time": "2021-09-09T14:44:48.966445Z",
     "start_time": "2021-09-09T14:44:48.604520Z"
    }
   },
   "outputs": [
    {
     "name": "stdout",
     "output_type": "stream",
     "text": [
      "Tokens with 0xBC610372632700d096763520B789DCeA3E7F2294 : 3.03076228 HEX\n"
     ]
    }
   ],
   "source": [
    "q_address=w3.toChecksumAddress('0xBC610372632700d096763520B789DCeA3E7F2294')\n",
    "temp=contract.functions.balanceOf(q_address).call()/dec\n",
    "print(f\"Tokens with {q_address} : {temp} {symbol}\")"
   ]
  },
  {
   "cell_type": "markdown",
   "metadata": {},
   "source": [
    "# Query Tether USD"
   ]
  },
  {
   "cell_type": "code",
   "execution_count": 37,
   "metadata": {
    "ExecuteTime": {
     "end_time": "2021-09-09T14:44:51.937173Z",
     "start_time": "2021-09-09T14:44:51.916908Z"
    },
    "code_folding": [
     0
    ]
   },
   "outputs": [],
   "source": [
    "#Get address and abi\n",
    "address='0xdac17f958d2ee523a2206206994597c13d831ec7'\n",
    "abi=json.loads('[{\"constant\":true,\"inputs\":[],\"name\":\"name\",\"outputs\":[{\"name\":\"\",\"type\":\"string\"}],\"payable\":false,\"stateMutability\":\"view\",\"type\":\"function\"},{\"constant\":false,\"inputs\":[{\"name\":\"_upgradedAddress\",\"type\":\"address\"}],\"name\":\"deprecate\",\"outputs\":[],\"payable\":false,\"stateMutability\":\"nonpayable\",\"type\":\"function\"},{\"constant\":false,\"inputs\":[{\"name\":\"_spender\",\"type\":\"address\"},{\"name\":\"_value\",\"type\":\"uint256\"}],\"name\":\"approve\",\"outputs\":[],\"payable\":false,\"stateMutability\":\"nonpayable\",\"type\":\"function\"},{\"constant\":true,\"inputs\":[],\"name\":\"deprecated\",\"outputs\":[{\"name\":\"\",\"type\":\"bool\"}],\"payable\":false,\"stateMutability\":\"view\",\"type\":\"function\"},{\"constant\":false,\"inputs\":[{\"name\":\"_evilUser\",\"type\":\"address\"}],\"name\":\"addBlackList\",\"outputs\":[],\"payable\":false,\"stateMutability\":\"nonpayable\",\"type\":\"function\"},{\"constant\":true,\"inputs\":[],\"name\":\"totalSupply\",\"outputs\":[{\"name\":\"\",\"type\":\"uint256\"}],\"payable\":false,\"stateMutability\":\"view\",\"type\":\"function\"},{\"constant\":false,\"inputs\":[{\"name\":\"_from\",\"type\":\"address\"},{\"name\":\"_to\",\"type\":\"address\"},{\"name\":\"_value\",\"type\":\"uint256\"}],\"name\":\"transferFrom\",\"outputs\":[],\"payable\":false,\"stateMutability\":\"nonpayable\",\"type\":\"function\"},{\"constant\":true,\"inputs\":[],\"name\":\"upgradedAddress\",\"outputs\":[{\"name\":\"\",\"type\":\"address\"}],\"payable\":false,\"stateMutability\":\"view\",\"type\":\"function\"},{\"constant\":true,\"inputs\":[{\"name\":\"\",\"type\":\"address\"}],\"name\":\"balances\",\"outputs\":[{\"name\":\"\",\"type\":\"uint256\"}],\"payable\":false,\"stateMutability\":\"view\",\"type\":\"function\"},{\"constant\":true,\"inputs\":[],\"name\":\"decimals\",\"outputs\":[{\"name\":\"\",\"type\":\"uint256\"}],\"payable\":false,\"stateMutability\":\"view\",\"type\":\"function\"},{\"constant\":true,\"inputs\":[],\"name\":\"maximumFee\",\"outputs\":[{\"name\":\"\",\"type\":\"uint256\"}],\"payable\":false,\"stateMutability\":\"view\",\"type\":\"function\"},{\"constant\":true,\"inputs\":[],\"name\":\"_totalSupply\",\"outputs\":[{\"name\":\"\",\"type\":\"uint256\"}],\"payable\":false,\"stateMutability\":\"view\",\"type\":\"function\"},{\"constant\":false,\"inputs\":[],\"name\":\"unpause\",\"outputs\":[],\"payable\":false,\"stateMutability\":\"nonpayable\",\"type\":\"function\"},{\"constant\":true,\"inputs\":[{\"name\":\"_maker\",\"type\":\"address\"}],\"name\":\"getBlackListStatus\",\"outputs\":[{\"name\":\"\",\"type\":\"bool\"}],\"payable\":false,\"stateMutability\":\"view\",\"type\":\"function\"},{\"constant\":true,\"inputs\":[{\"name\":\"\",\"type\":\"address\"},{\"name\":\"\",\"type\":\"address\"}],\"name\":\"allowed\",\"outputs\":[{\"name\":\"\",\"type\":\"uint256\"}],\"payable\":false,\"stateMutability\":\"view\",\"type\":\"function\"},{\"constant\":true,\"inputs\":[],\"name\":\"paused\",\"outputs\":[{\"name\":\"\",\"type\":\"bool\"}],\"payable\":false,\"stateMutability\":\"view\",\"type\":\"function\"},{\"constant\":true,\"inputs\":[{\"name\":\"who\",\"type\":\"address\"}],\"name\":\"balanceOf\",\"outputs\":[{\"name\":\"\",\"type\":\"uint256\"}],\"payable\":false,\"stateMutability\":\"view\",\"type\":\"function\"},{\"constant\":false,\"inputs\":[],\"name\":\"pause\",\"outputs\":[],\"payable\":false,\"stateMutability\":\"nonpayable\",\"type\":\"function\"},{\"constant\":true,\"inputs\":[],\"name\":\"getOwner\",\"outputs\":[{\"name\":\"\",\"type\":\"address\"}],\"payable\":false,\"stateMutability\":\"view\",\"type\":\"function\"},{\"constant\":true,\"inputs\":[],\"name\":\"owner\",\"outputs\":[{\"name\":\"\",\"type\":\"address\"}],\"payable\":false,\"stateMutability\":\"view\",\"type\":\"function\"},{\"constant\":true,\"inputs\":[],\"name\":\"symbol\",\"outputs\":[{\"name\":\"\",\"type\":\"string\"}],\"payable\":false,\"stateMutability\":\"view\",\"type\":\"function\"},{\"constant\":false,\"inputs\":[{\"name\":\"_to\",\"type\":\"address\"},{\"name\":\"_value\",\"type\":\"uint256\"}],\"name\":\"transfer\",\"outputs\":[],\"payable\":false,\"stateMutability\":\"nonpayable\",\"type\":\"function\"},{\"constant\":false,\"inputs\":[{\"name\":\"newBasisPoints\",\"type\":\"uint256\"},{\"name\":\"newMaxFee\",\"type\":\"uint256\"}],\"name\":\"setParams\",\"outputs\":[],\"payable\":false,\"stateMutability\":\"nonpayable\",\"type\":\"function\"},{\"constant\":false,\"inputs\":[{\"name\":\"amount\",\"type\":\"uint256\"}],\"name\":\"issue\",\"outputs\":[],\"payable\":false,\"stateMutability\":\"nonpayable\",\"type\":\"function\"},{\"constant\":false,\"inputs\":[{\"name\":\"amount\",\"type\":\"uint256\"}],\"name\":\"redeem\",\"outputs\":[],\"payable\":false,\"stateMutability\":\"nonpayable\",\"type\":\"function\"},{\"constant\":true,\"inputs\":[{\"name\":\"_owner\",\"type\":\"address\"},{\"name\":\"_spender\",\"type\":\"address\"}],\"name\":\"allowance\",\"outputs\":[{\"name\":\"remaining\",\"type\":\"uint256\"}],\"payable\":false,\"stateMutability\":\"view\",\"type\":\"function\"},{\"constant\":true,\"inputs\":[],\"name\":\"basisPointsRate\",\"outputs\":[{\"name\":\"\",\"type\":\"uint256\"}],\"payable\":false,\"stateMutability\":\"view\",\"type\":\"function\"},{\"constant\":true,\"inputs\":[{\"name\":\"\",\"type\":\"address\"}],\"name\":\"isBlackListed\",\"outputs\":[{\"name\":\"\",\"type\":\"bool\"}],\"payable\":false,\"stateMutability\":\"view\",\"type\":\"function\"},{\"constant\":false,\"inputs\":[{\"name\":\"_clearedUser\",\"type\":\"address\"}],\"name\":\"removeBlackList\",\"outputs\":[],\"payable\":false,\"stateMutability\":\"nonpayable\",\"type\":\"function\"},{\"constant\":true,\"inputs\":[],\"name\":\"MAX_UINT\",\"outputs\":[{\"name\":\"\",\"type\":\"uint256\"}],\"payable\":false,\"stateMutability\":\"view\",\"type\":\"function\"},{\"constant\":false,\"inputs\":[{\"name\":\"newOwner\",\"type\":\"address\"}],\"name\":\"transferOwnership\",\"outputs\":[],\"payable\":false,\"stateMutability\":\"nonpayable\",\"type\":\"function\"},{\"constant\":false,\"inputs\":[{\"name\":\"_blackListedUser\",\"type\":\"address\"}],\"name\":\"destroyBlackFunds\",\"outputs\":[],\"payable\":false,\"stateMutability\":\"nonpayable\",\"type\":\"function\"},{\"inputs\":[{\"name\":\"_initialSupply\",\"type\":\"uint256\"},{\"name\":\"_name\",\"type\":\"string\"},{\"name\":\"_symbol\",\"type\":\"string\"},{\"name\":\"_decimals\",\"type\":\"uint256\"}],\"payable\":false,\"stateMutability\":\"nonpayable\",\"type\":\"constructor\"},{\"anonymous\":false,\"inputs\":[{\"indexed\":false,\"name\":\"amount\",\"type\":\"uint256\"}],\"name\":\"Issue\",\"type\":\"event\"},{\"anonymous\":false,\"inputs\":[{\"indexed\":false,\"name\":\"amount\",\"type\":\"uint256\"}],\"name\":\"Redeem\",\"type\":\"event\"},{\"anonymous\":false,\"inputs\":[{\"indexed\":false,\"name\":\"newAddress\",\"type\":\"address\"}],\"name\":\"Deprecate\",\"type\":\"event\"},{\"anonymous\":false,\"inputs\":[{\"indexed\":false,\"name\":\"feeBasisPoints\",\"type\":\"uint256\"},{\"indexed\":false,\"name\":\"maxFee\",\"type\":\"uint256\"}],\"name\":\"Params\",\"type\":\"event\"},{\"anonymous\":false,\"inputs\":[{\"indexed\":false,\"name\":\"_blackListedUser\",\"type\":\"address\"},{\"indexed\":false,\"name\":\"_balance\",\"type\":\"uint256\"}],\"name\":\"DestroyedBlackFunds\",\"type\":\"event\"},{\"anonymous\":false,\"inputs\":[{\"indexed\":false,\"name\":\"_user\",\"type\":\"address\"}],\"name\":\"AddedBlackList\",\"type\":\"event\"},{\"anonymous\":false,\"inputs\":[{\"indexed\":false,\"name\":\"_user\",\"type\":\"address\"}],\"name\":\"RemovedBlackList\",\"type\":\"event\"},{\"anonymous\":false,\"inputs\":[{\"indexed\":true,\"name\":\"owner\",\"type\":\"address\"},{\"indexed\":true,\"name\":\"spender\",\"type\":\"address\"},{\"indexed\":false,\"name\":\"value\",\"type\":\"uint256\"}],\"name\":\"Approval\",\"type\":\"event\"},{\"anonymous\":false,\"inputs\":[{\"indexed\":true,\"name\":\"from\",\"type\":\"address\"},{\"indexed\":true,\"name\":\"to\",\"type\":\"address\"},{\"indexed\":false,\"name\":\"value\",\"type\":\"uint256\"}],\"name\":\"Transfer\",\"type\":\"event\"},{\"anonymous\":false,\"inputs\":[],\"name\":\"Pause\",\"type\":\"event\"},{\"anonymous\":false,\"inputs\":[],\"name\":\"Unpause\",\"type\":\"event\"}]')"
   ]
  },
  {
   "cell_type": "code",
   "execution_count": 38,
   "metadata": {
    "ExecuteTime": {
     "end_time": "2021-09-09T14:44:58.112130Z",
     "start_time": "2021-09-09T14:44:58.084665Z"
    }
   },
   "outputs": [],
   "source": [
    "address=w3.toChecksumAddress(address)\n",
    "contract=w3.eth.contract(address=address, abi=abi)"
   ]
  },
  {
   "cell_type": "code",
   "execution_count": 39,
   "metadata": {
    "ExecuteTime": {
     "end_time": "2021-09-09T14:45:01.007388Z",
     "start_time": "2021-09-09T14:45:00.261948Z"
    }
   },
   "outputs": [
    {
     "name": "stdout",
     "output_type": "stream",
     "text": [
      "Name : Tether USD\n",
      "Symbol : USDT\n",
      "Decimals : 6\n",
      "Total Supply : 33873006368.9485 USDT\n"
     ]
    }
   ],
   "source": [
    "#Metadata\n",
    "print('Name :', contract.functions.name().call())\n",
    "symbol=contract.functions.symbol().call()\n",
    "print('Symbol :', symbol)\n",
    "print('Decimals :',contract.functions.decimals().call())\n",
    "dec=contract.functions.decimals().call()\n",
    "dec=10**dec\n",
    "supply=contract.functions.totalSupply().call()/dec\n",
    "print(f'Total Supply : {supply} {symbol}')"
   ]
  },
  {
   "cell_type": "code",
   "execution_count": 40,
   "metadata": {
    "ExecuteTime": {
     "end_time": "2021-09-09T14:45:02.310998Z",
     "start_time": "2021-09-09T14:45:02.115355Z"
    }
   },
   "outputs": [
    {
     "name": "stdout",
     "output_type": "stream",
     "text": [
      "Tokens with the contract : 704628.19636 USDT\n"
     ]
    }
   ],
   "source": [
    "temp=contract.functions.balanceOf(address).call()/dec\n",
    "print(f\"Tokens with the contract : {temp} {symbol}\")"
   ]
  },
  {
   "cell_type": "code",
   "execution_count": 41,
   "metadata": {
    "ExecuteTime": {
     "end_time": "2021-09-09T14:45:03.926279Z",
     "start_time": "2021-09-09T14:45:03.780537Z"
    }
   },
   "outputs": [
    {
     "name": "stdout",
     "output_type": "stream",
     "text": [
      "Tokens with 0xA929022c9107643515F5c777cE9a910F0D1e490C : 1878400448.0 USDT\n"
     ]
    }
   ],
   "source": [
    "q_address=w3.toChecksumAddress('0xa929022c9107643515f5c777ce9a910f0d1e490c')\n",
    "temp=contract.functions.balanceOf(q_address).call()/dec\n",
    "print(f\"Tokens with {q_address} : {temp} {symbol}\")"
   ]
  }
 ],
 "metadata": {
  "kernelspec": {
   "display_name": "web3env",
   "language": "python",
   "name": "web3env"
  },
  "language_info": {
   "codemirror_mode": {
    "name": "ipython",
    "version": 3
   },
   "file_extension": ".py",
   "mimetype": "text/x-python",
   "name": "python",
   "nbconvert_exporter": "python",
   "pygments_lexer": "ipython3",
   "version": "3.7.4"
  }
 },
 "nbformat": 4,
 "nbformat_minor": 2
}
