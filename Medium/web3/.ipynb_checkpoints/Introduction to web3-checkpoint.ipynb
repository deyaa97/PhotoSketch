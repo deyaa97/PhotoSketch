{
 "cells": [
  {
   "cell_type": "markdown",
   "metadata": {},
   "source": [
    "### Import Library"
   ]
  },
  {
   "cell_type": "code",
   "execution_count": 1,
   "metadata": {
    "ExecuteTime": {
     "end_time": "2021-09-08T21:55:26.134963Z",
     "start_time": "2021-09-08T21:55:26.119334Z"
    }
   },
   "outputs": [],
   "source": [
    "from web3 import Web3"
   ]
  },
  {
   "cell_type": "code",
   "execution_count": 2,
   "metadata": {
    "ExecuteTime": {
     "end_time": "2021-09-08T22:02:32.068382Z",
     "start_time": "2021-09-08T22:02:32.051385Z"
    }
   },
   "outputs": [],
   "source": [
    "infura_url='https://mainnet.infura.io/v3/29547b52f77647b68da777e3ecc06811'\n",
    "w3 = Web3(Web3.HTTPProvider(infura_url))"
   ]
  },
  {
   "cell_type": "markdown",
   "metadata": {},
   "source": [
    "### Check connection"
   ]
  },
  {
   "cell_type": "code",
   "execution_count": 3,
   "metadata": {
    "ExecuteTime": {
     "end_time": "2021-09-08T22:02:46.347525Z",
     "start_time": "2021-09-08T22:02:46.207495Z"
    },
    "scrolled": true
   },
   "outputs": [
    {
     "data": {
      "text/plain": [
       "True"
      ]
     },
     "execution_count": 3,
     "metadata": {},
     "output_type": "execute_result"
    }
   ],
   "source": [
    "w3.isConnected()"
   ]
  },
  {
   "cell_type": "markdown",
   "metadata": {},
   "source": [
    "### Print Latest Block Number"
   ]
  },
  {
   "cell_type": "code",
   "execution_count": 5,
   "metadata": {
    "ExecuteTime": {
     "end_time": "2021-09-08T22:03:34.529738Z",
     "start_time": "2021-09-08T22:03:34.394321Z"
    }
   },
   "outputs": [
    {
     "data": {
      "text/plain": [
       "13187706"
      ]
     },
     "execution_count": 5,
     "metadata": {},
     "output_type": "execute_result"
    }
   ],
   "source": [
    "w3.eth.blockNumber"
   ]
  },
  {
   "cell_type": "code",
   "execution_count": 6,
   "metadata": {
    "ExecuteTime": {
     "end_time": "2021-09-08T22:05:42.042095Z",
     "start_time": "2021-09-08T22:05:41.770550Z"
    }
   },
   "outputs": [
    {
     "data": {
      "text/plain": [
       "AttributeDict({'baseFeePerGas': 97463416289,\n",
       " 'difficulty': 9012324489107398,\n",
       " 'extraData': HexBytes('0xd883010a08846765746888676f312e31362e37856c696e7578'),\n",
       " 'gasLimit': 30000000,\n",
       " 'gasUsed': 29986648,\n",
       " 'hash': HexBytes('0x9b7c45b3a543d253c7b6722b23ae190b2ada693d79a71ca61449a32cbc3d7759'),\n",
       " 'logsBloom': HexBytes('0xfbf37dd762d157dbbb081c5ee25ef2a3f20ea5497f1141c521e77fe83dd2b39255b6110cdc9b9ebbc6dddbdb50657dde6a95a5f0ddb3bdd7874befc00f267f5e1fa8d624c8ee9f7bfb3abc5fdd79e9fbc5fa38088b7d1064baeddec38b8f1bb91f9572b66a6616d7d8cedf752574ec542479bd9195ed875fc4fab5d825cc4b2cb01055bc86c3cc03a4d39f7433253abcc1e68db109053d4b9f32a27bea1193c0b6eef7c8b7e36bd3027f54f5c02b24d258e0ae7328a711afafbba6999c4463d9df39fa366eb118e13fc299f2a7afddf4186d6f45bccf5dbade64aafa114dfc9dfabbef9bcb96637d0427f3e88cfd93c3d0628e0f75ed8f4a280cc87a69c8b4df'),\n",
       " 'miner': '0x5A0b54D5dc17e0AadC383d2db43B0a0D3E029c4c',\n",
       " 'mixHash': HexBytes('0xe2597104b8115d9c08cc77c090ddb7249fad97c5e0f9addff8718d60a9d7f1b2'),\n",
       " 'nonce': HexBytes('0xc2aa74873efab668'),\n",
       " 'number': 13187720,\n",
       " 'parentHash': HexBytes('0x16b558cca1176bdc5bba4d3a5a4f6b3459c02a77c17c38f8edbd82bd12172b3f'),\n",
       " 'receiptsRoot': HexBytes('0x1f1663418fbda55b11e2bff442b104ce2dacbcea646f4cf6501055351a325358'),\n",
       " 'sha3Uncles': HexBytes('0x1dcc4de8dec75d7aab85b567b6ccd41ad312451b948a7413f0a142fd40d49347'),\n",
       " 'size': 121909,\n",
       " 'stateRoot': HexBytes('0x27ecc8460944ea7df987bbed8bc11d4e0b735d69f897583e0d35832946d8492f'),\n",
       " 'timestamp': 1631138706,\n",
       " 'totalDifficulty': 30295334454941984878230,\n",
       " 'transactions': [HexBytes('0xf5fc537da32fcabf322ec007be36774e42a26bc843374664adf861bea1113f92'),\n",
       "  HexBytes('0xc00ba5cc067cbf31ae0766f243cf49a0927349b603861628f3d3e65f0bf9afc3'),\n",
       "  HexBytes('0xc884a7ff727d0e00902c00382654d8e2126cc7a87ef2c69f2b296ffad1f9dbd2'),\n",
       "  HexBytes('0x322185e75cfdb6badbdf87f5d45fd891111f2100e43fe125217855c11ea71e83'),\n",
       "  HexBytes('0xdbe0522a84dbfbe598f6dc027e04b26792ab030fc2356d34710bc7da430afebd'),\n",
       "  HexBytes('0x331f77dbb0ad4094e73410370eb7768373bc5fbf9734d97988a50e928d4de3e1'),\n",
       "  HexBytes('0xc33aeb42f0d12d7cefb99639f9020f29a53ecf16433d5c593455901496c2da56'),\n",
       "  HexBytes('0x421add530fa212fbdedc9a363976de3c6e45c1c655381ed54a07bd4ede13ffdc'),\n",
       "  HexBytes('0x1847b9806b998bdb433c543d7d4233d61c0208918238d80e504acaa57340d8da'),\n",
       "  HexBytes('0x0732a165c8cbd68fa64d88da1331d0ccf84af4de242bfb0d0b447f6138b089ae'),\n",
       "  HexBytes('0x764f2691661d6fac13a670df700668695c4ce2a38f110a98b99e2e61abc45d6e'),\n",
       "  HexBytes('0x619a1241279c5af37f976fb714b363ee1c8458a85ce75bf489de7f0fc5075d6c'),\n",
       "  HexBytes('0xb2809155dd5a23dd1c9f704f551b5d5e1d92ac37dabd4cc248b69ee7e8c90cbf'),\n",
       "  HexBytes('0x864843208226019f4e13745a77c911344de4a81792d8cb88e6f76e5b98ad4e35'),\n",
       "  HexBytes('0xbd3e0d1c940924718143ab954d2477c96610b793fbaeacf10345b40e1b0d4642'),\n",
       "  HexBytes('0x8f934e393a2a7a4c6ff087c637ada78745091255472946629695b1ba73ad246f'),\n",
       "  HexBytes('0x09aec5eaec1e34e337fe8cc49321403d7fe0216cdcb72396b6c4aaf16b90eeab'),\n",
       "  HexBytes('0xe2ec7e77a9cb2433ab2372ac9888008ad906fe11fe5846f843ea822a53f95cc7'),\n",
       "  HexBytes('0x9a41e390125496cee0897c4e822d653eb4ee1dbb98686f3e6fe85440f2e1e3ba'),\n",
       "  HexBytes('0x39411a098e2d39207adfa2c02710e1e331a5e814455ec9fccbe381f78a0e4db5'),\n",
       "  HexBytes('0xb1a2181dd752d2cc23337ce5ba00128d0c8f99ec2b8408279e7d0a955ac2b1e4'),\n",
       "  HexBytes('0xaffc710ed74954fab358326308806dda734ef6f8b76709018a997234a8f38d0b'),\n",
       "  HexBytes('0xc09245a738b9d7093805e9212e95f1e88ca45af8c32c7e1ec910a991aed29284'),\n",
       "  HexBytes('0xb7208f140d3ad00d06d8f61a15a1d5b081c7d0ef9af5170a6f3ff2b5163fc347'),\n",
       "  HexBytes('0x54d7a11c5e982896bf9dab40352755f0a315650bacf528561f5f0027d1710dd5'),\n",
       "  HexBytes('0x0ef81e3ad2bb54a25c462b7388b08c74f08d605d84a10bfe665bcbe1d6cddc0b'),\n",
       "  HexBytes('0x240690e1576cf6cb6082276ede3f97d264b1e10a84726d0ba96fc31645cf074c'),\n",
       "  HexBytes('0xb08377dd03f739dfcc5764fd099cc014584ca86b29a9ae0df2b5aea80343ba4e'),\n",
       "  HexBytes('0xa64f13589f8efeff90fb816af02ee4fdf47f490207c8a4a79a9f8af7f3f04965'),\n",
       "  HexBytes('0xf97b6523a7073063319116ce54569c68bd7998a3737ce7fcc05d9fcf099d6210'),\n",
       "  HexBytes('0x4b5f1df93950db60e7a9368525adce96588a4fde829e96d455351bf488b06605'),\n",
       "  HexBytes('0xa9c2f21da90e233c0723aeb448cf2f9660e8023fa4670c6fa99ecd314b9fc864'),\n",
       "  HexBytes('0x368a88c475e67ccf53e60da32cee76ae69c5ea61d1ba94e373a8741acdeda8bd'),\n",
       "  HexBytes('0x6f3ca674d48303e4b1419da08056250df8f7f53d969fa726d9e28303403b2b25'),\n",
       "  HexBytes('0x309a00421e513105977d2033fb50934b8b65a31242d21910fd1a19e5fa2e84f3'),\n",
       "  HexBytes('0x55dad9fd20782d68ed5c1fd4318f19b6c721076ba8c14ab251835e1449158a89'),\n",
       "  HexBytes('0x6cfbee94bf75ee093d2c99159b35854356fff221872e5278909d4e48318e0d0a'),\n",
       "  HexBytes('0x1a765d9b07e3f50f446248cf8b922274f00d34e79f85bef52e3f01cfb57e5a55'),\n",
       "  HexBytes('0x56f6134c6d2c7c387db63db10a4624247b6297bf9ab6d9e3c701560225332f11'),\n",
       "  HexBytes('0x2d84ca098e3654d4b64e8b21b241466b92ab71cf35e88faccd914e5769b1fbba'),\n",
       "  HexBytes('0x34ac46e26771501276baf283a3979ef1f6536ca27ddacae3374a26133bdcbed8'),\n",
       "  HexBytes('0xd424ed2466299f4916230f132184f78a5def2a39dd727386d8244ea2ae7b41d2'),\n",
       "  HexBytes('0x47bbd9830ff9e3be95936a99f3d41e5c06346872c0b9598243e381daeb712e8e'),\n",
       "  HexBytes('0x183180b75c411f91e1c2a98271dd3ad9c7036244d5832522192341196211c519'),\n",
       "  HexBytes('0xdaf4bb7a580d6d010bf48c6c9b543582677e66cb01c95f8be83752e3885dcde6'),\n",
       "  HexBytes('0x273defd59aa3bb454a6b0308bdfb0ffc8d7dd5c666947b6398ad48a6a3698505'),\n",
       "  HexBytes('0xdb5a864ef9e6a58e15ecbd29df2f0e3d216f2f50aa13a5ad3fa31eb5e47be77e'),\n",
       "  HexBytes('0x1206ab884d62da74734489fec9f5ac7974c0656eed1ccecce0be966d14b11e9f'),\n",
       "  HexBytes('0xa0fff704c7e28fd4bf33a4b4ab4eb65029c37af044e1bf4be2736d29f2713555'),\n",
       "  HexBytes('0x87d05776cc7f9c13e19a96facb402878240e9eb057a39e7bde9887b348bac08d'),\n",
       "  HexBytes('0x8d5901635114f3033f137a8c2533a2fb3c9072e43e563562d7177f2386508b86'),\n",
       "  HexBytes('0x8696f880c2068ac66b1ca5ccc184b0d6111dfa7785fe404afa8ad4f6464bbc8e'),\n",
       "  HexBytes('0x88a5c8afbd94a46e6416177b84978b3411590dd622e01ae63bcde9619a16edd1'),\n",
       "  HexBytes('0x97ebd9d71935f97009f7b2280c790852b195e896f64b573d64e9d9ea44092cf3'),\n",
       "  HexBytes('0x59996812b2bef633cd8ba1b0497b2c47c790d15c42fbbfc06002031ecd8b0708'),\n",
       "  HexBytes('0x4d00e4cbcd80d22840a76ce5743534953c2490d30279d2f119a5dba3ac7ca45c'),\n",
       "  HexBytes('0x3e35f74e007eab9992f43a71b7e75b24043bb911431753a882a750d3556d5329'),\n",
       "  HexBytes('0xac2f4370b51693e420099be1d289e8f3ddda5ff074aa54f898c7075b9e5479b3'),\n",
       "  HexBytes('0x39c77c94838953597df0f9f8cdcb444bca63a6077b70f1ee1ee72c8a85479df9'),\n",
       "  HexBytes('0x88df3aefe345fa3ba9bf15e3e757c255a903a6ccc95e27afd5f1badd2ba7c795'),\n",
       "  HexBytes('0xa1bece0c687d350d44af71e7a8e391510abebb198f3debf9b2976643b92f9301'),\n",
       "  HexBytes('0xe2ac3c732629e367197d861370963b83f46736f187bdc4efdd3136e1cba33737'),\n",
       "  HexBytes('0x111fa2524b7ff1e5a03ac631d9cdce8750828d920b829b3f178f667f154d84ce'),\n",
       "  HexBytes('0x00f7ec7df7b801cfc8b4fd212735cb91752c0c457844c58c9f3c6846ab4934fb'),\n",
       "  HexBytes('0x38ad3fdd985a80bda4783c9884b82f0430802d5059c9e989b62ba290eb275ccf'),\n",
       "  HexBytes('0x705b6a75515820e2fd6e4659a2929bd1fd7e37b6fca2f1597763a8537684a980'),\n",
       "  HexBytes('0x80ccaed8189982f0f2c86b28a616ffa933fa7d9de9b4a362885dc7caf16a8517'),\n",
       "  HexBytes('0x8e2bf4154ebb5c8acf3f949952214bcf84314f03bf0e5193fa4756918c6c9701'),\n",
       "  HexBytes('0xc5405952a62306b439b6449f33da38f3f6a896ce93e0a3b79cc4807c87fdc990'),\n",
       "  HexBytes('0xd5c2f03de9ec049279e133001b9e1357cb97d1dba326e77760e12cd935504e20'),\n",
       "  HexBytes('0x6af04092ec3028ec12016d549624c0a71c10f37db80d3c3570acc42abad08fb1'),\n",
       "  HexBytes('0xe1e0f9fb9afc66b1a13ce5da0606865fadd97348f6b4509958302b55e93fe575'),\n",
       "  HexBytes('0xc1ddaf949f5f76e9df36103994a661db9ff9d31371a685296fc983b850b2ea22'),\n",
       "  HexBytes('0xce959b6c5e387ef1bb97a299d35f067c89a44eb4e3a9541d500fa649cc84559e'),\n",
       "  HexBytes('0xc174eec9e73025c4f16664e27ef3b9e75c7da71daa33303c55cb0a8b1a7cce5a'),\n",
       "  HexBytes('0xa0bda1390f56201e20ef7d3a5aafd2ee0a2447807fa1b1f286889088e8b8132e'),\n",
       "  HexBytes('0x8f3c9b339a3b77294de78ad9b51cb19d525ca008056a3e6ab59c64671b8c44c5'),\n",
       "  HexBytes('0xff2561384a0272b30c3b46a98cb55793371b36b50bd051f719ce7ddb7e24e0dc'),\n",
       "  HexBytes('0x0112159961bae53eb1f8d8968d2199d91d14ec74dda881f08a7f818f94b9d6d3'),\n",
       "  HexBytes('0x2a29c66afe8960a5ae0fa197c38e3b7d8f6aa5b3c944a8fccf18cf2b7b6959b4'),\n",
       "  HexBytes('0xe01f4ed4f3db6084179aaf8e07124ccb722a20fa3703048f15aa967a2d5cb9c3'),\n",
       "  HexBytes('0x2f2ee79462e5afcb82996960d28a93aa3e5e33dc46588373abbeaf5a9e91736d'),\n",
       "  HexBytes('0x355294f6af96491b5f1310ec7432c41fdefc0c0e68634fa4339b38b16019a033'),\n",
       "  HexBytes('0x9bc4c339c26c24b9388c4f7602405a3f45d9be4d16666b640761b00f7bd3db54'),\n",
       "  HexBytes('0x0dd588f9136fcd08673719db548ce6d60313e2444faaef154953b10c0a272770'),\n",
       "  HexBytes('0x08111130c197675739b532bb2065ae94c4803a60914baf3d9bd925db679f3d90'),\n",
       "  HexBytes('0x8f8756280c553b463bbcfab1d44eec318d01b862afea19a5da095420f4b9d0e1'),\n",
       "  HexBytes('0x32f10ac5ae59189767853062dee111003fc7409e31e05a66e9e41701e8b2884a'),\n",
       "  HexBytes('0xd100fcc3f01244cb140932b1d46676000c6fb1bccd57f33bc8dcb282b5870738'),\n",
       "  HexBytes('0x171f34ad35e90048fb69e6b239c7f6857d24add6d8b84580572de603f0a14f80'),\n",
       "  HexBytes('0xf8c1a38580068eff237f681560e7776fa120c0a22b5623a805cee46d31c7254a'),\n",
       "  HexBytes('0xe25c0ad9f304b68a3a1c37c5b96740ee0c661db09dd15fcb7488fb2f011ae7eb'),\n",
       "  HexBytes('0x184e0932e11af00b1c3df6c86021d61c0514c1d35f733abce86793de7a5e98f1'),\n",
       "  HexBytes('0x4af75ef8306872472ba32da2a08703bc8016b255e421a9692fe41719fb5724ec'),\n",
       "  HexBytes('0xd9c2720090a7faf1f8ee5fdb9313af33bd148b659b3bb179a4a2aacf2c892c23'),\n",
       "  HexBytes('0xdbb4c7cb3619b56abb2ec2e79e9253d1d70a1de404303575f19c9053e19063ad'),\n",
       "  HexBytes('0xfb5c6864ad47a4b5eb0331d455db8d8ddeecf393e18eddf6f9ff38cb71f7a062'),\n",
       "  HexBytes('0x1e3bfb9d850247519f5a6842d5c33ce1684294a1c2b27026923c21e256d7c205'),\n",
       "  HexBytes('0xe004f628ee3cb210d79ad3d8096b912ea5512ab4bcd4024afc653039eabdfd7d'),\n",
       "  HexBytes('0xe06cc4135b3097e8c93b8d2c5f652523e410fff0e2f282775707806315d154c8'),\n",
       "  HexBytes('0xe5496af1dba76da3806f874b11044637f9ce96d2314b5c50cbc7bccc579f55b7'),\n",
       "  HexBytes('0xe9773e475c2f89ea4f9c47944a2f9659103f029bf0b53d1d377138d4cc43024f'),\n",
       "  HexBytes('0xeb0fbfce7ecafc1d2c221512dbe6db0e12838492aa262c774fdd7bab3a8b32ac'),\n",
       "  HexBytes('0xec4ec1213b0d4c19e29aa80799105b68bee53f20243ac7a2698c399d8f09d479'),\n",
       "  HexBytes('0xed011ca34dfcd285e81093a8fc583a062476c8c372a0b64ca7ab4e14c80f6ca3'),\n",
       "  HexBytes('0xed5ff61eb3ab11b678cbe04f22d2c2e25d8a28cc882b0f3ff601b8753538f0b8'),\n",
       "  HexBytes('0xee55dc84d22bb60159fea8aa83e2ef9f6d1a17de7ed4690367396692a128dc01'),\n",
       "  HexBytes('0xefb67ebb1551ea3201fc40a7d16ac46590e2327cea242d9b01765ba5c0bed629'),\n",
       "  HexBytes('0xf21e3fa2056e875c5f30356fee40af2a51c8d7b8a4cf2424f4830a5c180a07de'),\n",
       "  HexBytes('0xf55114a56ad19df14e701e970a53cdf08d7c6e4ea6345f57b80230d304724e8c'),\n",
       "  HexBytes('0xf6a3aa17857dc95b7837b8b15d2682edf4377d20a5e2ba968ebab627e823d294'),\n",
       "  HexBytes('0xf8328c299b4538a69e89aa5716730f21b4d28ed479e8729c98c18d0d5aef5ad5'),\n",
       "  HexBytes('0xfbae26479c946230ced8f2b2f3d2dd97590b4324f21ae41a5ee3933f279c5507'),\n",
       "  HexBytes('0xfbdc6f6e4e99df7271aaae7640ee849c7496952d1e70d7d64a1ae4725accc15e'),\n",
       "  HexBytes('0xfdcd9235881503a594ecb99574b1c189dbba02a7a99bd2368959294c6f30c5e9'),\n",
       "  HexBytes('0x02d0a431ceda593c699428f4937c361882eb34c8ed1202930766165601caf840'),\n",
       "  HexBytes('0xa03c1fa59e8c1ca05e6d58fbe2749726ab0bb193725ab30667da7057bc5694f3'),\n",
       "  HexBytes('0x7f27c9df3fc6421cc9e0f8e18430a2ae66a33804fda474cccefdc2ceffa8d18e'),\n",
       "  HexBytes('0x5a519386308b5d4df00aaa9c5df7327f7f215c833ad89b75e2a346a43a0274b2'),\n",
       "  HexBytes('0xef18b483ddb8da6351ee2b1fb2c27b3d119be69c44acf513438d87839b03bb0d'),\n",
       "  HexBytes('0x261efd83ad949e63b6c34fcdb33b7b469c8d1956dde685c04c5e6d8c5e5d2124'),\n",
       "  HexBytes('0xeaaf830aa8b61f6311d112dc1f4f4d93ad8e693e7fb2db16bfb2e0a0ecaaf313'),\n",
       "  HexBytes('0xfafa65710a6d1c1ac9af3743eb3f458e838b51360356207448e661fe6e449005'),\n",
       "  HexBytes('0x21e951f13b8f4ee5e427ee85c51b4bf6e51f5dd2c0f73b828fcf6de9a8054dc6'),\n",
       "  HexBytes('0x286c1b8da30d6198b6a6498c032481d986aa659aafe3cbb03afea575e4de90fc'),\n",
       "  HexBytes('0x55379e5cb1c531c80fee653db1326b15ccbbbf09e4cac39ca5287ccd7c201b20'),\n",
       "  HexBytes('0xe72953ef068578e99848fd4a4ecefccd027c4973f7603098e1ae7ca095c29c76'),\n",
       "  HexBytes('0x47dc27df302aa20978f039ad6097e1d04e394eb05d436e37e33741d404076aff'),\n",
       "  HexBytes('0x3271d9b94fb23fb00c06a76611045458d84c146c17df1e540e9042323fce19fb'),\n",
       "  HexBytes('0xb29e9499b095d0cedfd061e59060de0afa50bd6a92f8515d2a8ce4f15b50ea6a'),\n",
       "  HexBytes('0x2db4125b11c76c2e1cb22b4eaf94634dd4d5f49c9e7d8fb2c1b39b0805a0afd4'),\n",
       "  HexBytes('0xe81618f72377754d416f36c3c3ee258f2e0d5e5aa3faf83dee92e88b07011022'),\n",
       "  HexBytes('0x5689d14f11c863b58f1e20265c839986f2b64aa5f18a8dbf24483520fc3ec0dd'),\n",
       "  HexBytes('0x26b828377a8f93529751ce1146b50490d37d2a552ec3fcc9791a67fe0bb45a9e'),\n",
       "  HexBytes('0x57955e2e9e327b8f3c4ae0f89282a44864bd9761303e4216e9dadcc89480c0db'),\n",
       "  HexBytes('0x9403898ffc456d750df073b967a0464dccb8f9df701c9833aaabffee086e23a7'),\n",
       "  HexBytes('0x3508c0945bf797e015941ad4ed0d6d6faaa4d8dda36cca44e7b52dd8de89b5cd'),\n",
       "  HexBytes('0x351c11c6c1032a780af7e20afc08483ee7d7585affa3e52562d1b1ab12c2ce7c'),\n",
       "  HexBytes('0x1b4bdf8a01dc69c2ef42c35a8a4b77b44a5251bdd58b85a282b00422eb5a8e9d'),\n",
       "  HexBytes('0x73d3290ae5b88db71f1c5cc6dd4393e26cdab68a48ab7e497fce95ec1cc2c605'),\n",
       "  HexBytes('0x73d563ac37a9abbc3a521581100e0e128fe875f4d23186b4682f6651a7ed0fe0'),\n",
       "  HexBytes('0x1dd5f9175062a99f3e13918c6b8b707c79988bab81a5bbbeaf593071d9144ecf'),\n",
       "  HexBytes('0x24fc335096b6db2a48865d0a2553f141a47fc2b2dac3283d4b7a2b44f5ba26db'),\n",
       "  HexBytes('0x73d465bd7ceb2de2de9b5b08a387604e7613dde843342b5355b1dae364fa7e47'),\n",
       "  HexBytes('0x8b56febf1feb44a6341e21dda88ead73507aeef133f53e02b9a5e9ba74cecb42'),\n",
       "  HexBytes('0x6572dbc61ed62c0d45d5b64e4d9de847dd21d9e4da18a5ee1bbf9767a4119b0a'),\n",
       "  HexBytes('0xc8767636c55e3105e56cea4df522a711cddab16536812c00128dd04dbb1c2dd5'),\n",
       "  HexBytes('0x16ad7709f0819468153eb964b1cac5d7f1ce96134b861fe3e759c72ade6c8228'),\n",
       "  HexBytes('0xd1212d251b841bdd16fdd87c1189f856fd227fc2eaef85fe1e95f39a82518a16'),\n",
       "  HexBytes('0x8fd2f5a80415dcedd001c11afe81a18f60c7cd0e3d5e20c04e8e7a3764442e5e'),\n",
       "  HexBytes('0x0aeea7d0b4de606243d51ece1297d5a21d194fea520f17f38be4cc8f73152291'),\n",
       "  HexBytes('0x91ecdd7e397faa417c86d3795eb42bc11ea3ae231003020938eff6033e332687'),\n",
       "  HexBytes('0x98df6fa648ec81927fda50ed380b2ab22203fd05739ab2b7fd49643c4cd19faf'),\n",
       "  HexBytes('0x782dbd77a068708dc2649bf15e78f6980ae0f6fd3d9e9ed182c66398c5eaa343'),\n",
       "  HexBytes('0x32b0906a085caee7c6e6050cdaea9de1cecd5d07ae1db8fcbfb95a68e73c3683'),\n",
       "  HexBytes('0xfedf0e3e60bf7b8b8db6abf6a4b128f06d4cf4f72832fda946b14c098d3bddb4'),\n",
       "  HexBytes('0x444a7dff48f6f439a2dec08b8c0375fd609465f5067e60af0ce173f4e6cba30c'),\n",
       "  HexBytes('0x62097b8838e5a9a9d16c60e4f8cb996c2698e2b20b8abb633771f38050dccf47'),\n",
       "  HexBytes('0xc420a1b665ce83c4d091edd5ef7f3b27aa238dafb8536a351305cf3efa50fdb0'),\n",
       "  HexBytes('0x191f51b291d39faef5348230c2755aacb7faa8b4f6568f7475a9a099b42962eb'),\n",
       "  HexBytes('0x0e0565cc90f57732eddfeff835b7e09e2770122b02c02d4a3dd6d6aed31a56b9'),\n",
       "  HexBytes('0x5f3503e827a1dff4530221210893a2fe7a1d4ba782c75b3b3c90d958bc5bb05b'),\n",
       "  HexBytes('0x0f71644de10040498289caa284ae65c3601972f5362af92145895dcad893b10a'),\n",
       "  HexBytes('0xc93e8459260071e6a2b699539429e2c3e5a47a7871481b1ef207f20ae26b63f5'),\n",
       "  HexBytes('0x32daa1755d9840adfa9657208c0924298654b96c8de7f52527fb36c8f363c2cb'),\n",
       "  HexBytes('0xf062afb717b06986344c74f1ecdce0fa73dfcde80919819013bbff5e48d2e67a'),\n",
       "  HexBytes('0xa3d08b09211ab025c49f51ff03521c19bfaf9f0c73eb486d2c04e06838a6c67b'),\n",
       "  HexBytes('0x8064a3702269b183ace0231d2b98f5aad5ec979123b7d6958c3721f73d64dbbe'),\n",
       "  HexBytes('0x440a1bc6d27d984f83042c9614ba796e8f0bb3a7d673faa49b69aac8065f6707'),\n",
       "  HexBytes('0x02e50a436073edb1ab3dfdd87ea7584104a3f7d2443b9816918bab70a8de14fb'),\n",
       "  HexBytes('0xd0fc73199dcdfc474cc814f9a5f99186081ba07e975b9100237bdc65c139d3d8'),\n",
       "  HexBytes('0x77f564f4459b388cfbd4eb123ee8d489f5aaba2e2bd2848db4efc700d3ef3370'),\n",
       "  HexBytes('0xe478449a688cef8d44bcce1737644630b2f51ddc10774ea3cf02582eeff9c33d'),\n",
       "  HexBytes('0x28e4fb50deea44439564b8c0e3050fc2d7640539d8bf283fbecd1d86ea06a6db'),\n",
       "  HexBytes('0xededfb7a0f6a821b3b7787ddc58d4b83c3674f49e82fb33c89369d46e0ec4726'),\n",
       "  HexBytes('0x65548aea1b83f4b62909069f0315eca6bf380ff9b044c856136fdd08456d46f8'),\n",
       "  HexBytes('0x4b7646a5093aa9532eedbe6ebca7f5378b867d93dafd67a535e270289e31585e'),\n",
       "  HexBytes('0xa310d4cf1b9abe76f8580a5bedcc38f80f504d5168557a85f610371478c75354'),\n",
       "  HexBytes('0x761ba38adc63bb39bc50c4388f492f46e771122fc1c24ab8a6b8447e20d68e53'),\n",
       "  HexBytes('0x2bb2718ad3cdda1c9a0c67b7d5308d197dbea76fc7efdc2e70e603f1c4f4fb0a'),\n",
       "  HexBytes('0x3de32f4f4bf084e240ee52956526a3dd1d9235aeae8e70f61eb5e168bb16d45c'),\n",
       "  HexBytes('0xaa631e7a2638612849fcd89f0cbec5ac6663316444e1e39cbb652bdb43587bf7'),\n",
       "  HexBytes('0xdb6152a42b4ac647e66fa28c0f3746c4d578900d372d99d2eb18dcc0ce2f2ee1'),\n",
       "  HexBytes('0x43889addb1007f5709801e5a093c5b654b271307ebbff11c269fc04779bad76d'),\n",
       "  HexBytes('0x9d6f632067afdc908df9dbf4da360873967760b4ec493f620a2ab93324e39f18'),\n",
       "  HexBytes('0x1d3236efbd83447089406ee4672d6bce3a3167676ee18f760dcc060065f37e2b'),\n",
       "  HexBytes('0xf11032396d9383779a9be80506873feae2e91eda83dbd8efb14e657fb198fa68'),\n",
       "  HexBytes('0x023ddc241cd1e7488ed5d651146ab7078fe100d37c4e468a9fbc098c7ef0e245'),\n",
       "  HexBytes('0xc9624b990b7e8163c7ab5364e084333975910c418cc9caed74ca08a29686ce87'),\n",
       "  HexBytes('0xc08a9de7267caafbb3581381e582e2df0febf013089b4c5664f8d9b9869fe875'),\n",
       "  HexBytes('0xf10756bddcad35eef4159e0986df866010956be2cc22f7192dda9b7affa5086d'),\n",
       "  HexBytes('0xa7d370207a0fabd31fcd16262c97f69e11e2b3cfb692b50701020febe32addf2'),\n",
       "  HexBytes('0x33c890dffb808d1d6c6c64c4ee723d001b4668ea6c5208d21b67183532b780a9'),\n",
       "  HexBytes('0x83030a4067217dfbc7510cd056e8c52f8ddbede1116788666fe27e6107774b8c'),\n",
       "  HexBytes('0x61cfbaa784767ff62552ce1ce71e37304557ef6de7ac962055d03a066a974903'),\n",
       "  HexBytes('0xd3f7c03176c7af387ed6051ff4a300a26597d2202a60b1eb4f31cafe46255a3e'),\n",
       "  HexBytes('0xcd267a18181d9cacd58e16746f65ae486d47fa54d76a691e9753916a1385d2ec'),\n",
       "  HexBytes('0x9592a6b9a3001151529622bc30660520f1f2d79f77cd0a6aad01d5122be09cf7'),\n",
       "  HexBytes('0x09cbd58226f17426c19a8c45f203a49d746948807124445899808c44f6b883b6'),\n",
       "  HexBytes('0x8885df77adf3544b0c4cb790cbf10465639d654052c10511f347fd480ca57d91'),\n",
       "  HexBytes('0x3e1e6c3062e396e888f7020d4c6ec189f3f8cb699f268bec6ff9083860fc4b6a'),\n",
       "  HexBytes('0x7ae0a2cc8fb8a90f88f3d5484ca5941a674291b8e3aa97bdd98e499d4bcda58e'),\n",
       "  HexBytes('0x5ea7bb343d27add9fd2ad1a9f4a5ed35ee1d79dc747eb3849cc1980b85dde351'),\n",
       "  HexBytes('0xfd256b4a0033ea9d3a766f11b8c8d3d4c4c3b208bc9b21245edf11f242532adf'),\n",
       "  HexBytes('0xb9a6c4afab6061b22f1d06048f4f7d4dfa2dfd01619a039f81ee70a3384cdb40'),\n",
       "  HexBytes('0x3df3beb827b7aa30ccbdc5801dd0bdc226a43771755da98d22bde43b497dc39b'),\n",
       "  HexBytes('0x9daa7c40cf4951e07121833402cbb5975bc917a1122f90fdac5902d3bd5338ac'),\n",
       "  HexBytes('0xeac6112761ad9917e848a117d8f67e0df0ce9c95c6f365be3f5a81bb3b3047e2'),\n",
       "  HexBytes('0x6cc32d2b1e63593fab6a3aa467693244770f99b712c57966c62bd3cac022b572'),\n",
       "  HexBytes('0xad9f9bba8a304f17bf883c24e6e0143d57cdad1cca78f1179256cc1f3dcb54da'),\n",
       "  HexBytes('0x2575c7269bb7a71258087559ae06b02d40ad35d0ed21a229288c64583aac0e4d'),\n",
       "  HexBytes('0x12babcb38156235c5f156d36d192c92975e6d2e0dae22fe9876f20075c6fc2fd'),\n",
       "  HexBytes('0x34d2bd2c57b10463d02ee4417e6553baf00ce1a0e2a3fe11460e6e47f40d56a1'),\n",
       "  HexBytes('0x453e25cd57b19bf96c0e5b5641b716c26536a902cbfe2f9cbb0c69332b229713'),\n",
       "  HexBytes('0x713e7c4d4624cb9255e4a3f6feb066a44a70a45cac877b313afacdb07c642a69'),\n",
       "  HexBytes('0x862cba970f0433d48893f9f07dea07a5f8a1ba336a41f4907a4bae5c6a650a38'),\n",
       "  HexBytes('0x9e6b8b879295683fe2944ad176e7b155c2a49b2f17b590814fea0180508b3a9f'),\n",
       "  HexBytes('0x5db99245166a4e468c2e027c4b30591e1f85b46ca89cfbf692e078ccb9f2e39f'),\n",
       "  HexBytes('0xb87439a69175d41dcc72572ed487a0e1142313db375bc0bf29cedd3f005560ef'),\n",
       "  HexBytes('0x2cf26c5f017493c732f181c63eda790f2975e2a963b9a4e41db5c9fe647fe511'),\n",
       "  HexBytes('0xc22f766f501467c4dc64b5196d07395bff1b4b811a5bd5a46fcd565c134ad97a'),\n",
       "  HexBytes('0xe2d6ce933d2c811569e80a730bfac02217afc1f87d14cbe467917db9408466d0'),\n",
       "  HexBytes('0x2bed9722b8d56acc09d9cbc65e968443b89a081390c7acbefb9bccebaf6099e9'),\n",
       "  HexBytes('0xc98f018b58db214d72c7f6ea7e4378869f40ff3947f1ccd83095f81b65697afe'),\n",
       "  HexBytes('0xe6b89df9a26a7460f72b82ba8b150914d4ba144e7afa77a20592a43d84d76300'),\n",
       "  HexBytes('0x05cfd12f4076927b67bb94d10a58867f092b49b6418b8b1e836da8dcbbc64e7d'),\n",
       "  HexBytes('0x4dd0fea563a1428d630d5481d565ab85d565d4ee90a097003e3e421f0b3efb95'),\n",
       "  HexBytes('0x05e39100a3dda341a88494bb47c10c98e3575cc4f44819f2eb6276f83b18dc55'),\n",
       "  HexBytes('0xc637020b330739a15c8f0816da66624dee10fa8bbba1c841011c02359942f498'),\n",
       "  HexBytes('0xbd75f72d331f8c7e2833af9a9d90b00fa51b74f75d1db8ebb8b8c9b3fd1b6fac'),\n",
       "  HexBytes('0x1c68142b2f4dd6b90e6ee0ede5248a5fbb78ec70e26a9b56cca48194910b5204'),\n",
       "  HexBytes('0xe31f566260847d845da7e50da6b86096ca4e10a5bef38468957dff466cb9ab14'),\n",
       "  HexBytes('0x402201f7c020791cdc4343452984990bf44520f0218be1873b44c2bc3e7ffa6a'),\n",
       "  HexBytes('0x430afc073edcefc8c47c4f2e78872d7e7906f6b7daa9f0f2d0ccf46fcbc7f2b1'),\n",
       "  HexBytes('0x3cb538d06e504737e95516cbf25250912f566bf3223224ed0eefb4d0c6fe1392'),\n",
       "  HexBytes('0x0038d63a7841ce806f692e2407e30c70191dea6919c9bb92152e73ee86fee1fc'),\n",
       "  HexBytes('0x9e587df22710c1f0c8bcf1ecc2f905fe81b1a956e1a7eaa839111902fb48838b'),\n",
       "  HexBytes('0x775fdfd12a1a8f0f2350897c25e9b61355782033b4284464f146f9c28dc45704'),\n",
       "  HexBytes('0xd1ec1650ed4450254d4f736240dbd1d589142ba59a143846c92679257a25ccb6'),\n",
       "  HexBytes('0xe4e1afe441c4fef38b340165de39ecfb341f9a482619d7c991e7b1a9a5818bd5'),\n",
       "  HexBytes('0x2022c66a380222e4ce544c8fb0794c0dd7d2af681b7791c07d1db2e7eca9538e'),\n",
       "  HexBytes('0xeda5d925281e01a8e8adb0f1e167f4c77ad90eb8409923ea6fe72049cb52d0e9'),\n",
       "  HexBytes('0xf6e0bc61b7969b220c418d10c3cca649bb64f2053555e7504aac6bd6b6916a5b'),\n",
       "  HexBytes('0xd018afad3b28a81142f6abf0ba80ffe50edf895b986e42098a774714407b175a'),\n",
       "  HexBytes('0x144ccb18f9058ce75b2cf53ed883adab67aa6d176ebd193e29e9374a0905b882'),\n",
       "  HexBytes('0x4c20025f4624a70d4c9ce6ac1a51af5295f2dcd54fe2f6a36308f416a8398de3'),\n",
       "  HexBytes('0x937e1e3b4df2e83fd6d4c90ba59ae0e96324728cd475e67a64a82196f1b56484'),\n",
       "  HexBytes('0xb1e5bcc42cd1c5f10ecc38475ba96dde5b7371ba4b44d5bc7b25d1a20058acce'),\n",
       "  HexBytes('0x8437966843a384f671ce08c8228b8eba7c3a8ec3d8b2180f1d530e08a6c9c4fc'),\n",
       "  HexBytes('0x91ba7f8ca88755737e63d4b6b622a736461b818751b9efcbba0ed0daa1e49d04'),\n",
       "  HexBytes('0xb3854e91df501f8376495dbec11db58b5bd17617433cb8d1c00c8d9998259eb0'),\n",
       "  HexBytes('0x3dcd0cc91607b455f97a8b26c8cca45dfa73814bd2fbd78e5f472579fddc4783'),\n",
       "  HexBytes('0xe05d94eb5d929dff3be1f31c7ca3f67574eaecff3c9ddc410a00714ae794b7f1'),\n",
       "  HexBytes('0x351f51d7c02999cca02194e3d5f5bf1be898fa4ab268353b5d902161ee679d24'),\n",
       "  HexBytes('0x0e0f6a1ec97ae82fd862ff202837350b0d84dd7cfef8d3c55b79953038c8ba69'),\n",
       "  HexBytes('0xf7b81a3a8bbf4eb0720f37fc566a97741f5709b3d57cd7b423f76174456e3cef'),\n",
       "  HexBytes('0xec78a8b1f7f8f8215e465db4508aa8ef0d29c3d3af2d1decb453979c8f00c66d'),\n",
       "  HexBytes('0x2721015452cfeccc8436b627d01b77808b5a121f2f00134419f165e197925f9d'),\n",
       "  HexBytes('0x3f2e741c4f06c230c62800c89a470d0e508eb62308b32097aee50194039ad80d'),\n",
       "  HexBytes('0x3c555e2a7c4bb5302874e7e6a19bded7c0d84ea62f01d6f68bfca748baa78054'),\n",
       "  HexBytes('0x51509a0246051b908f694fd9453c090f1969bae76682d793cfd0cc923b8c70fd'),\n",
       "  HexBytes('0x1ffb478fff93f52590832815765cee1be83acb47ecb07735889a65fb46534c3e'),\n",
       "  HexBytes('0x34b91eed869db892d54721a31fdf31ebdb3337c01f40b50a0caddfd5fd7fc07c'),\n",
       "  HexBytes('0x2a1e9dbe1a056ef22d5c9d2b0828b823f38d23088141c099bcf35b51fdfe6a9a'),\n",
       "  HexBytes('0x707b746e366d026b4425e96e450e97be68cba760ee08c686ac91adf39653dfb8'),\n",
       "  HexBytes('0xb09822955e4177236317c4b59978cf418d696eab93f6985af9228a4799784278'),\n",
       "  HexBytes('0xc94e0894dd02319aa9acc8730d0e96219f673931d16ef0d941d690f71ca01806'),\n",
       "  HexBytes('0x97030b25f85a54cc1ec600c0fa8b3a35111147767e194954c4f26f1f81549f37'),\n",
       "  HexBytes('0x54a584940dd47d129ab6bfdc9d71ef43f77a1e14487af94c2c56a2dfff752d53'),\n",
       "  HexBytes('0x1be409cbd2fc3a28d9c9c238f0c60d2c0180e9d2ed49fe72576f96f49a2ded65'),\n",
       "  HexBytes('0x2a2739a0939beff5ab6b052ceb1fa1fbe3daf3e2dd47b2ffcc295d36dbeb0540'),\n",
       "  HexBytes('0xfcd1a0698729644cfa184106b568eb8c714ebbe19c50c3eea5091218dde5d3b6'),\n",
       "  HexBytes('0xb3686463c927e3a2fb8cb8ad779ffd930042353dac90bc268118d761a8d76480'),\n",
       "  HexBytes('0x2f497a0efaa74d70bd9a7bf1282f8a2a76e6ed995bce1b08cd4a69d0d2544450'),\n",
       "  HexBytes('0x4f3cd8da479108e1f0dac9e624757dee879c3977e123efa3d1e6c62e5e1e2344'),\n",
       "  HexBytes('0x82ea48c70b3b13773252ebc3635352040e5f413dab2c76e0d99c6dc469f4db56'),\n",
       "  HexBytes('0x27a239fbf3a6331bd5478baaa2a85f7de9071f2af53db213b98723a3b4d4a329'),\n",
       "  HexBytes('0x700938e29db4c0c50db73d69de674e7730176965a2234fb5107f879bf84809f7'),\n",
       "  HexBytes('0x2243ddaa03fdef7d7aaa2c4a0d337fba2492b49f3967f2bac0cc5c5b80e21685'),\n",
       "  HexBytes('0x75da26d33324c5119d0e72fb8fc754384254a46be6e41fdd3bae05dd9420eb6f'),\n",
       "  HexBytes('0x55b33c16670aaa0c4155cd66b1bc76b3415ee717d9237d8374cbace2027be54a'),\n",
       "  HexBytes('0x514e93805615857466184b43ed0e44f9286e31bea243b17c6864f837f5d90690'),\n",
       "  HexBytes('0xd5a342c7fa0dd5b22e4c2d2258440e3f8c0b96542a25f73808680f61195ca401'),\n",
       "  HexBytes('0xde0d724420737eb3448ee3f17d3e7bdebe636070f3607e784504569624a89396'),\n",
       "  HexBytes('0x2c7fd5364753ffab759f5f2d02df6ad5e10ea6b1197c8402fba6fe770041d1d3'),\n",
       "  HexBytes('0xdb3f9d4a78a8893b9bbf475e477a5d8224a411e6580b63cd78b1213fbe1e6bde'),\n",
       "  HexBytes('0xa7ee00d9be45200021319ff8fc41602b1af729eeb626f7011ffd8e151622dfbc'),\n",
       "  HexBytes('0xa1423fc7ea58f5220cbb005ba61553c425523a7738457c65ef5ee59398ea04f9'),\n",
       "  HexBytes('0xebfd33ca44a553021f035e530a5ac875e23badf19f0d01c3f00d6c2c7de75d5e'),\n",
       "  HexBytes('0x341488e33d8d546001a53d2590217fea89ce098e6e6cd18f96aca7484a7dd806'),\n",
       "  HexBytes('0xee159c2a5d97fb3b9017061ed1cfb4d0d03c7e9778a18461382a5da9cbad2f51'),\n",
       "  HexBytes('0xc73de877fe1f8dab449a3a80e9281420679173647d858f5695b1dbef8cdf203d'),\n",
       "  HexBytes('0x0e7a2e44429f7b0ccf3ed7915b34725563ea44c0a351fa710b9079c8dbf2ede9'),\n",
       "  HexBytes('0xcb05ff1e3d42f8aec1ccc478fd5b4e338362d62e55b2594c1c3086a95eb6ca29'),\n",
       "  HexBytes('0x11faeef8f455c3ef56e8a8f08c4942732d90cd8a854091034f350fddf262e57e'),\n",
       "  HexBytes('0x659a68dc59f1f8dc45f2e2af653c0f70879b2efe8059bc4e8a9825cffa204a60'),\n",
       "  HexBytes('0x9f7a57d55a696d1e52128e8256fae430f778fc2b580ce3695638327305e8736d'),\n",
       "  HexBytes('0x1803f7ad2750d4a1e0878e89b7089ef1bc2588d53090665c4be75c2565fe9a93'),\n",
       "  HexBytes('0x63b127c0b573bf12c896de4b45f027b1526efd612470fea4fe11f09ee86f080b'),\n",
       "  HexBytes('0xbfe8b1acdbe59cbeaec66a60ff585e9f7aa98d8af42ddfe8b8c573de013de0b7'),\n",
       "  HexBytes('0x7840de82a983e4d7a7ea743a342e9f4d31d6bb72a2b0a551a5a95db76f57cb34'),\n",
       "  HexBytes('0x7b683adb4917491a8e31c8c91b87562c40fd30bfe47feea86a9ca4b13836168b'),\n",
       "  HexBytes('0x647bff2e757add9e259c05c6eb3f15d1c86a7f9fe330e1229f5f2b7ed9cc8b58'),\n",
       "  HexBytes('0x1396a4800c5deaf4bfb66e9ace92674354545cf1c523b8ac6a98733d05caf7a6'),\n",
       "  HexBytes('0xe0857f57ad446744cc0b0eeecdc4b3dc57650614dd9bc7a1aee28cc3a04939d3'),\n",
       "  HexBytes('0x77b4e7881fa954b2cdeccf43d975df1b552a0e9d594fc385c6a47f59227f86e8'),\n",
       "  HexBytes('0xb6bb1b8e1e90ce27270427e8421bf7c02492b35ed605330bb47b508f14abd52c'),\n",
       "  HexBytes('0xc5b8b2b4b23db96cb39ccc3d24a206a9e5876dcad4e88d3295bb711d4235790f'),\n",
       "  HexBytes('0xb80e6944e6273042ae84e9aa93b019e7032b51e9ba0fdee8cdad2c078af2537e'),\n",
       "  HexBytes('0xd989180ea71b49a34c6bf42762f3e48b6e8a5f35776ded798e7dfaa10e8d85a7'),\n",
       "  HexBytes('0xe1d62a1ca8c98507b697442c5e2dc3e07f91657c7dd0b7b2e11d3ef24037c904'),\n",
       "  HexBytes('0x799665b22093043c157c70aad0397b562c88e2722045e4930a69947aa4be7dd8'),\n",
       "  HexBytes('0x1cd386575129c76ec9e727073eba2b47907b35c3034e381b08882f96079b278a'),\n",
       "  HexBytes('0xd221bf52e45d935d7d46f17c03a7cb9c9a7d21bf4b04d01b6bece74202dc99c6'),\n",
       "  HexBytes('0xe7f08829d724448c2b84b28938b084f3b36f5e8f56e8800ccfae7295e1614b3c'),\n",
       "  HexBytes('0x195ea8d6a6a6071df2c6564370118e5736ab82e2ff669a67e68c0ff060166002'),\n",
       "  HexBytes('0xa61a52c8d043dfbe5b9fe2212edab9795099ca3208ca5070086743c9122c7247'),\n",
       "  HexBytes('0x02fb0ea9bada8ad3397e760d27ff46ba53f5adbeb1f9afe941daafd98411f7cf'),\n",
       "  HexBytes('0x165cf2e09490a7e439edd960da85a53204f0459f6139e55d21e88708513737bb'),\n",
       "  HexBytes('0x3eec28195a327a8bcdbfe3d2c4357d0e9c149917a9647a639a8cc45144645de8'),\n",
       "  HexBytes('0xbef4081b537edc575e35d1c9314e4133d8441dc60c59044c129c9b0a02e99628'),\n",
       "  HexBytes('0x50dfe33de99a5df765ea11b010c09bc6d854be50d3ebd43150385a67154631e0'),\n",
       "  HexBytes('0xaea6bef8d68884494ecc8338ed487124838808d86adb827f9926843a1a122c70'),\n",
       "  HexBytes('0xd09a176a204c4710cad14f375de2fdac38970b40ccd1f5dad558d267a7865d53'),\n",
       "  HexBytes('0xe574ae74c6d77c774b44f81bd21d9e6fc89e36cd41c7ef97ba19982f5c2d490c'),\n",
       "  HexBytes('0x92b0d8d97afb54cdb390893aa18eef1976f6d50a561bcb54844e14f1396f3dff'),\n",
       "  HexBytes('0x234a06d82ef32108b615a2f0fc07e2a110bd7efe4ec3e00da1a224dbb4726d85'),\n",
       "  HexBytes('0xe1a8942109187500cb31aa19f1ea29322b72ebaab16f2a48f9ec8e2ae777efe7'),\n",
       "  HexBytes('0x400f2c364aec9bbf494b2806a1387228287969930739e2d88a7adc5b4af556bc'),\n",
       "  HexBytes('0xc9fb04da332c953747144ca6fded54691940e441a3b5bc00d5fa36f929f0da45'),\n",
       "  HexBytes('0xa2c15a0306b9b6a14e9f2c00c6d6237f7fe34fc86450ce61dfa0e246d860c941'),\n",
       "  HexBytes('0x8baa757a183108d307d2f6cfc7aa38eaa47941cd2d96974a841e6cf026188ed7'),\n",
       "  HexBytes('0xc7d6351a97595e2232fdf4400c3361ed334781aaa7da69de78b4fcfba513b821'),\n",
       "  HexBytes('0x96b438dd0d7ff8387558b0ede2aa86de1d971aa0de8e41d9b7bc79a75f5727be')],\n",
       " 'transactionsRoot': HexBytes('0xa7cc649ea8211941f2efb26719847f263aae0a8081df89e68c65e35e3146ac41'),\n",
       " 'uncles': []})"
      ]
     },
     "execution_count": 6,
     "metadata": {},
     "output_type": "execute_result"
    }
   ],
   "source": [
    "w3.eth.get_block('latest')"
   ]
  },
  {
   "cell_type": "code",
   "execution_count": 84,
   "metadata": {
    "ExecuteTime": {
     "end_time": "2021-09-08T23:50:03.541399Z",
     "start_time": "2021-09-08T23:50:03.398276Z"
    }
   },
   "outputs": [
    {
     "data": {
      "text/plain": [
       "41057057823736408298"
      ]
     },
     "execution_count": 84,
     "metadata": {},
     "output_type": "execute_result"
    }
   ],
   "source": [
    "w3.eth.getBalance('0x5A0b54D5dc17e0AadC383d2db43B0a0D3E029c4c')"
   ]
  },
  {
   "cell_type": "code",
   "execution_count": 85,
   "metadata": {
    "ExecuteTime": {
     "end_time": "2021-09-08T23:50:10.740760Z",
     "start_time": "2021-09-08T23:50:10.580262Z"
    }
   },
   "outputs": [
    {
     "data": {
      "text/plain": [
       "Decimal('41.057057823736408298')"
      ]
     },
     "execution_count": 85,
     "metadata": {},
     "output_type": "execute_result"
    }
   ],
   "source": [
    "balance=w3.eth.getBalance('0x5A0b54D5dc17e0AadC383d2db43B0a0D3E029c4c')\n",
    "w3.fromWei(balance, 'ether')"
   ]
  },
  {
   "cell_type": "code",
   "execution_count": null,
   "metadata": {},
   "outputs": [],
   "source": []
  },
  {
   "cell_type": "code",
   "execution_count": 86,
   "metadata": {
    "ExecuteTime": {
     "end_time": "2021-09-08T23:51:25.202743Z",
     "start_time": "2021-09-08T23:51:25.052478Z"
    }
   },
   "outputs": [
    {
     "data": {
      "text/plain": [
       "AttributeDict({'accessList': [],\n",
       " 'blockHash': HexBytes('0x89805f3b4c840ed29b9090fd16b4200c7774f506f8fa134e64d93700adcbf6d7'),\n",
       " 'blockNumber': 13188091,\n",
       " 'chainId': '0x1',\n",
       " 'from': '0x5A0b54D5dc17e0AadC383d2db43B0a0D3E029c4c',\n",
       " 'gas': 100000,\n",
       " 'gasPrice': 140249724901,\n",
       " 'hash': HexBytes('0x1d3f9f124334d2b0dfe8fe4403d19a101903e1e8147200c47f6c5528e08b515b'),\n",
       " 'input': '0x',\n",
       " 'maxFeePerGas': 274499449802,\n",
       " 'maxPriorityFeePerGas': 3000000000,\n",
       " 'nonce': 6061873,\n",
       " 'r': HexBytes('0x89e36f382c7355aae3847c3241242786e53e627ecdc0774454f1f1548f3a5c06'),\n",
       " 's': HexBytes('0x4e3adee35d8c1a220ef1456a4f0d1ad3317da72764f0392c407e06e0a37f69d0'),\n",
       " 'to': '0x8fD00f170FDf3772C5ebdCD90bF257316c69BA45',\n",
       " 'transactionIndex': 306,\n",
       " 'type': '0x2',\n",
       " 'v': 0,\n",
       " 'value': 59393657766615488763})"
      ]
     },
     "execution_count": 86,
     "metadata": {},
     "output_type": "execute_result"
    }
   ],
   "source": [
    "w3.eth.getTransaction('0x1d3f9f124334d2b0dfe8fe4403d19a101903e1e8147200c47f6c5528e08b515b')"
   ]
  },
  {
   "cell_type": "code",
   "execution_count": 88,
   "metadata": {
    "ExecuteTime": {
     "end_time": "2021-09-08T23:53:02.996952Z",
     "start_time": "2021-09-08T23:53:02.980959Z"
    }
   },
   "outputs": [
    {
     "data": {
      "text/plain": [
       "True"
      ]
     },
     "execution_count": 88,
     "metadata": {},
     "output_type": "execute_result"
    }
   ],
   "source": [
    "w3.isAddress('0x8fD00f170FDf3772C5ebdCD90bF257316c69BA45')"
   ]
  },
  {
   "cell_type": "code",
   "execution_count": 91,
   "metadata": {
    "ExecuteTime": {
     "end_time": "2021-09-09T00:01:21.547919Z",
     "start_time": "2021-09-09T00:01:20.760108Z"
    }
   },
   "outputs": [
    {
     "data": {
      "text/plain": [
       "Decimal('7606.165097603995332514')"
      ]
     },
     "execution_count": 91,
     "metadata": {},
     "output_type": "execute_result"
    }
   ],
   "source": [
    "w3.fromWei(w3.eth.getBalance('vitalik.eth'),'ether')"
   ]
  },
  {
   "cell_type": "code",
   "execution_count": 92,
   "metadata": {
    "ExecuteTime": {
     "end_time": "2021-09-09T00:01:57.443001Z",
     "start_time": "2021-09-09T00:01:57.430998Z"
    }
   },
   "outputs": [
    {
     "data": {
      "text/plain": [
       "'0xd8dA6BF26964aF9D7eEd9e03E53415D37aA96045'"
      ]
     },
     "execution_count": 92,
     "metadata": {},
     "output_type": "execute_result"
    }
   ],
   "source": [
    "w3.toChecksumAddress('0xd8da6bf26964af9d7eed9e03e53415d37aa96045')"
   ]
  },
  {
   "cell_type": "code",
   "execution_count": 93,
   "metadata": {
    "ExecuteTime": {
     "end_time": "2021-09-09T00:02:57.294566Z",
     "start_time": "2021-09-09T00:02:56.751216Z"
    }
   },
   "outputs": [
    {
     "data": {
      "text/plain": [
       "'vitalik.eth'"
      ]
     },
     "execution_count": 93,
     "metadata": {},
     "output_type": "execute_result"
    }
   ],
   "source": [
    "w3.ens.name('0xd8da6bf26964af9d7eed9e03e53415d37aa96045')"
   ]
  },
  {
   "cell_type": "code",
   "execution_count": 95,
   "metadata": {
    "ExecuteTime": {
     "end_time": "2021-09-09T00:03:53.818664Z",
     "start_time": "2021-09-09T00:03:53.281513Z"
    }
   },
   "outputs": [
    {
     "data": {
      "text/plain": [
       "'0xd8dA6BF26964aF9D7eEd9e03E53415D37aA96045'"
      ]
     },
     "execution_count": 95,
     "metadata": {},
     "output_type": "execute_result"
    }
   ],
   "source": [
    "w3.ens.address('vitalik.eth')"
   ]
  },
  {
   "cell_type": "code",
   "execution_count": null,
   "metadata": {},
   "outputs": [],
   "source": []
  },
  {
   "cell_type": "markdown",
   "metadata": {},
   "source": [
    "### Get Gas Price"
   ]
  },
  {
   "cell_type": "code",
   "execution_count": 83,
   "metadata": {
    "ExecuteTime": {
     "end_time": "2021-09-08T23:47:44.764400Z",
     "start_time": "2021-09-08T23:47:44.632392Z"
    }
   },
   "outputs": [
    {
     "name": "stdout",
     "output_type": "stream",
     "text": [
      "105.757093488\n"
     ]
    }
   ],
   "source": [
    "print(w3.fromWei(w3.eth.gas_price,'gwei'))"
   ]
  },
  {
   "cell_type": "code",
   "execution_count": null,
   "metadata": {},
   "outputs": [],
   "source": []
  },
  {
   "cell_type": "markdown",
   "metadata": {},
   "source": [
    "# Query Token (HEX)"
   ]
  },
  {
   "cell_type": "code",
   "execution_count": 48,
   "metadata": {
    "ExecuteTime": {
     "end_time": "2021-09-08T23:17:38.533906Z",
     "start_time": "2021-09-08T23:17:38.521890Z"
    }
   },
   "outputs": [],
   "source": [
    "import json"
   ]
  },
  {
   "cell_type": "code",
   "execution_count": 49,
   "metadata": {
    "ExecuteTime": {
     "end_time": "2021-09-08T23:17:39.765444Z",
     "start_time": "2021-09-08T23:17:39.749459Z"
    },
    "code_folding": [
     0
    ]
   },
   "outputs": [],
   "source": [
    "#abi and addrress\n",
    "abi=json.loads('[{\"inputs\":[],\"payable\":false,\"stateMutability\":\"nonpayable\",\"type\":\"constructor\"},{\"anonymous\":false,\"inputs\":[{\"indexed\":true,\"internalType\":\"address\",\"name\":\"owner\",\"type\":\"address\"},{\"indexed\":true,\"internalType\":\"address\",\"name\":\"spender\",\"type\":\"address\"},{\"indexed\":false,\"internalType\":\"uint256\",\"name\":\"value\",\"type\":\"uint256\"}],\"name\":\"Approval\",\"type\":\"event\"},{\"anonymous\":false,\"inputs\":[{\"indexed\":false,\"internalType\":\"uint256\",\"name\":\"data0\",\"type\":\"uint256\"},{\"indexed\":false,\"internalType\":\"uint256\",\"name\":\"data1\",\"type\":\"uint256\"},{\"indexed\":true,\"internalType\":\"bytes20\",\"name\":\"btcAddr\",\"type\":\"bytes20\"},{\"indexed\":true,\"internalType\":\"address\",\"name\":\"claimToAddr\",\"type\":\"address\"},{\"indexed\":true,\"internalType\":\"address\",\"name\":\"referrerAddr\",\"type\":\"address\"}],\"name\":\"Claim\",\"type\":\"event\"},{\"anonymous\":false,\"inputs\":[{\"indexed\":false,\"internalType\":\"uint256\",\"name\":\"data0\",\"type\":\"uint256\"},{\"indexed\":false,\"internalType\":\"uint256\",\"name\":\"data1\",\"type\":\"uint256\"},{\"indexed\":false,\"internalType\":\"uint256\",\"name\":\"data2\",\"type\":\"uint256\"},{\"indexed\":true,\"internalType\":\"address\",\"name\":\"senderAddr\",\"type\":\"address\"}],\"name\":\"ClaimAssist\",\"type\":\"event\"},{\"anonymous\":false,\"inputs\":[{\"indexed\":false,\"internalType\":\"uint256\",\"name\":\"data0\",\"type\":\"uint256\"},{\"indexed\":true,\"internalType\":\"address\",\"name\":\"updaterAddr\",\"type\":\"address\"}],\"name\":\"DailyDataUpdate\",\"type\":\"event\"},{\"anonymous\":false,\"inputs\":[{\"indexed\":false,\"internalType\":\"uint256\",\"name\":\"data0\",\"type\":\"uint256\"},{\"indexed\":true,\"internalType\":\"uint40\",\"name\":\"stakeId\",\"type\":\"uint40\"}],\"name\":\"ShareRateChange\",\"type\":\"event\"},{\"anonymous\":false,\"inputs\":[{\"indexed\":false,\"internalType\":\"uint256\",\"name\":\"data0\",\"type\":\"uint256\"},{\"indexed\":false,\"internalType\":\"uint256\",\"name\":\"data1\",\"type\":\"uint256\"},{\"indexed\":true,\"internalType\":\"address\",\"name\":\"stakerAddr\",\"type\":\"address\"},{\"indexed\":true,\"internalType\":\"uint40\",\"name\":\"stakeId\",\"type\":\"uint40\"}],\"name\":\"StakeEnd\",\"type\":\"event\"},{\"anonymous\":false,\"inputs\":[{\"indexed\":false,\"internalType\":\"uint256\",\"name\":\"data0\",\"type\":\"uint256\"},{\"indexed\":false,\"internalType\":\"uint256\",\"name\":\"data1\",\"type\":\"uint256\"},{\"indexed\":true,\"internalType\":\"address\",\"name\":\"stakerAddr\",\"type\":\"address\"},{\"indexed\":true,\"internalType\":\"uint40\",\"name\":\"stakeId\",\"type\":\"uint40\"},{\"indexed\":true,\"internalType\":\"address\",\"name\":\"senderAddr\",\"type\":\"address\"}],\"name\":\"StakeGoodAccounting\",\"type\":\"event\"},{\"anonymous\":false,\"inputs\":[{\"indexed\":false,\"internalType\":\"uint256\",\"name\":\"data0\",\"type\":\"uint256\"},{\"indexed\":true,\"internalType\":\"address\",\"name\":\"stakerAddr\",\"type\":\"address\"},{\"indexed\":true,\"internalType\":\"uint40\",\"name\":\"stakeId\",\"type\":\"uint40\"}],\"name\":\"StakeStart\",\"type\":\"event\"},{\"anonymous\":false,\"inputs\":[{\"indexed\":true,\"internalType\":\"address\",\"name\":\"from\",\"type\":\"address\"},{\"indexed\":true,\"internalType\":\"address\",\"name\":\"to\",\"type\":\"address\"},{\"indexed\":false,\"internalType\":\"uint256\",\"name\":\"value\",\"type\":\"uint256\"}],\"name\":\"Transfer\",\"type\":\"event\"},{\"anonymous\":false,\"inputs\":[{\"indexed\":false,\"internalType\":\"uint256\",\"name\":\"data0\",\"type\":\"uint256\"},{\"indexed\":true,\"internalType\":\"address\",\"name\":\"memberAddr\",\"type\":\"address\"},{\"indexed\":true,\"internalType\":\"uint256\",\"name\":\"entryId\",\"type\":\"uint256\"},{\"indexed\":true,\"internalType\":\"address\",\"name\":\"referrerAddr\",\"type\":\"address\"}],\"name\":\"XfLobbyEnter\",\"type\":\"event\"},{\"anonymous\":false,\"inputs\":[{\"indexed\":false,\"internalType\":\"uint256\",\"name\":\"data0\",\"type\":\"uint256\"},{\"indexed\":true,\"internalType\":\"address\",\"name\":\"memberAddr\",\"type\":\"address\"},{\"indexed\":true,\"internalType\":\"uint256\",\"name\":\"entryId\",\"type\":\"uint256\"},{\"indexed\":true,\"internalType\":\"address\",\"name\":\"referrerAddr\",\"type\":\"address\"}],\"name\":\"XfLobbyExit\",\"type\":\"event\"},{\"payable\":true,\"stateMutability\":\"payable\",\"type\":\"fallback\"},{\"constant\":true,\"inputs\":[],\"name\":\"allocatedSupply\",\"outputs\":[{\"internalType\":\"uint256\",\"name\":\"\",\"type\":\"uint256\"}],\"payable\":false,\"stateMutability\":\"view\",\"type\":\"function\"},{\"constant\":true,\"inputs\":[{\"internalType\":\"address\",\"name\":\"owner\",\"type\":\"address\"},{\"internalType\":\"address\",\"name\":\"spender\",\"type\":\"address\"}],\"name\":\"allowance\",\"outputs\":[{\"internalType\":\"uint256\",\"name\":\"\",\"type\":\"uint256\"}],\"payable\":false,\"stateMutability\":\"view\",\"type\":\"function\"},{\"constant\":false,\"inputs\":[{\"internalType\":\"address\",\"name\":\"spender\",\"type\":\"address\"},{\"internalType\":\"uint256\",\"name\":\"amount\",\"type\":\"uint256\"}],\"name\":\"approve\",\"outputs\":[{\"internalType\":\"bool\",\"name\":\"\",\"type\":\"bool\"}],\"payable\":false,\"stateMutability\":\"nonpayable\",\"type\":\"function\"},{\"constant\":true,\"inputs\":[{\"internalType\":\"address\",\"name\":\"account\",\"type\":\"address\"}],\"name\":\"balanceOf\",\"outputs\":[{\"internalType\":\"uint256\",\"name\":\"\",\"type\":\"uint256\"}],\"payable\":false,\"stateMutability\":\"view\",\"type\":\"function\"},{\"constant\":false,\"inputs\":[{\"internalType\":\"uint256\",\"name\":\"rawSatoshis\",\"type\":\"uint256\"},{\"internalType\":\"bytes32[]\",\"name\":\"proof\",\"type\":\"bytes32[]\"},{\"internalType\":\"address\",\"name\":\"claimToAddr\",\"type\":\"address\"},{\"internalType\":\"bytes32\",\"name\":\"pubKeyX\",\"type\":\"bytes32\"},{\"internalType\":\"bytes32\",\"name\":\"pubKeyY\",\"type\":\"bytes32\"},{\"internalType\":\"uint8\",\"name\":\"claimFlags\",\"type\":\"uint8\"},{\"internalType\":\"uint8\",\"name\":\"v\",\"type\":\"uint8\"},{\"internalType\":\"bytes32\",\"name\":\"r\",\"type\":\"bytes32\"},{\"internalType\":\"bytes32\",\"name\":\"s\",\"type\":\"bytes32\"},{\"internalType\":\"uint256\",\"name\":\"autoStakeDays\",\"type\":\"uint256\"},{\"internalType\":\"address\",\"name\":\"referrerAddr\",\"type\":\"address\"}],\"name\":\"btcAddressClaim\",\"outputs\":[{\"internalType\":\"uint256\",\"name\":\"\",\"type\":\"uint256\"}],\"payable\":false,\"stateMutability\":\"nonpayable\",\"type\":\"function\"},{\"constant\":true,\"inputs\":[{\"internalType\":\"bytes20\",\"name\":\"\",\"type\":\"bytes20\"}],\"name\":\"btcAddressClaims\",\"outputs\":[{\"internalType\":\"bool\",\"name\":\"\",\"type\":\"bool\"}],\"payable\":false,\"stateMutability\":\"view\",\"type\":\"function\"},{\"constant\":true,\"inputs\":[{\"internalType\":\"bytes20\",\"name\":\"btcAddr\",\"type\":\"bytes20\"},{\"internalType\":\"uint256\",\"name\":\"rawSatoshis\",\"type\":\"uint256\"},{\"internalType\":\"bytes32[]\",\"name\":\"proof\",\"type\":\"bytes32[]\"}],\"name\":\"btcAddressIsClaimable\",\"outputs\":[{\"internalType\":\"bool\",\"name\":\"\",\"type\":\"bool\"}],\"payable\":false,\"stateMutability\":\"view\",\"type\":\"function\"},{\"constant\":true,\"inputs\":[{\"internalType\":\"bytes20\",\"name\":\"btcAddr\",\"type\":\"bytes20\"},{\"internalType\":\"uint256\",\"name\":\"rawSatoshis\",\"type\":\"uint256\"},{\"internalType\":\"bytes32[]\",\"name\":\"proof\",\"type\":\"bytes32[]\"}],\"name\":\"btcAddressIsValid\",\"outputs\":[{\"internalType\":\"bool\",\"name\":\"\",\"type\":\"bool\"}],\"payable\":false,\"stateMutability\":\"pure\",\"type\":\"function\"},{\"constant\":true,\"inputs\":[{\"internalType\":\"address\",\"name\":\"claimToAddr\",\"type\":\"address\"},{\"internalType\":\"bytes32\",\"name\":\"claimParamHash\",\"type\":\"bytes32\"},{\"internalType\":\"bytes32\",\"name\":\"pubKeyX\",\"type\":\"bytes32\"},{\"internalType\":\"bytes32\",\"name\":\"pubKeyY\",\"type\":\"bytes32\"},{\"internalType\":\"uint8\",\"name\":\"claimFlags\",\"type\":\"uint8\"},{\"internalType\":\"uint8\",\"name\":\"v\",\"type\":\"uint8\"},{\"internalType\":\"bytes32\",\"name\":\"r\",\"type\":\"bytes32\"},{\"internalType\":\"bytes32\",\"name\":\"s\",\"type\":\"bytes32\"}],\"name\":\"claimMessageMatchesSignature\",\"outputs\":[{\"internalType\":\"bool\",\"name\":\"\",\"type\":\"bool\"}],\"payable\":false,\"stateMutability\":\"pure\",\"type\":\"function\"},{\"constant\":true,\"inputs\":[],\"name\":\"currentDay\",\"outputs\":[{\"internalType\":\"uint256\",\"name\":\"\",\"type\":\"uint256\"}],\"payable\":false,\"stateMutability\":\"view\",\"type\":\"function\"},{\"constant\":true,\"inputs\":[{\"internalType\":\"uint256\",\"name\":\"\",\"type\":\"uint256\"}],\"name\":\"dailyData\",\"outputs\":[{\"internalType\":\"uint72\",\"name\":\"dayPayoutTotal\",\"type\":\"uint72\"},{\"internalType\":\"uint72\",\"name\":\"dayStakeSharesTotal\",\"type\":\"uint72\"},{\"internalType\":\"uint56\",\"name\":\"dayUnclaimedSatoshisTotal\",\"type\":\"uint56\"}],\"payable\":false,\"stateMutability\":\"view\",\"type\":\"function\"},{\"constant\":true,\"inputs\":[{\"internalType\":\"uint256\",\"name\":\"beginDay\",\"type\":\"uint256\"},{\"internalType\":\"uint256\",\"name\":\"endDay\",\"type\":\"uint256\"}],\"name\":\"dailyDataRange\",\"outputs\":[{\"internalType\":\"uint256[]\",\"name\":\"list\",\"type\":\"uint256[]\"}],\"payable\":false,\"stateMutability\":\"view\",\"type\":\"function\"},{\"constant\":false,\"inputs\":[{\"internalType\":\"uint256\",\"name\":\"beforeDay\",\"type\":\"uint256\"}],\"name\":\"dailyDataUpdate\",\"outputs\":[],\"payable\":false,\"stateMutability\":\"nonpayable\",\"type\":\"function\"},{\"constant\":true,\"inputs\":[],\"name\":\"decimals\",\"outputs\":[{\"internalType\":\"uint8\",\"name\":\"\",\"type\":\"uint8\"}],\"payable\":false,\"stateMutability\":\"view\",\"type\":\"function\"},{\"constant\":false,\"inputs\":[{\"internalType\":\"address\",\"name\":\"spender\",\"type\":\"address\"},{\"internalType\":\"uint256\",\"name\":\"subtractedValue\",\"type\":\"uint256\"}],\"name\":\"decreaseAllowance\",\"outputs\":[{\"internalType\":\"bool\",\"name\":\"\",\"type\":\"bool\"}],\"payable\":false,\"stateMutability\":\"nonpayable\",\"type\":\"function\"},{\"constant\":true,\"inputs\":[],\"name\":\"globalInfo\",\"outputs\":[{\"internalType\":\"uint256[13]\",\"name\":\"\",\"type\":\"uint256[13]\"}],\"payable\":false,\"stateMutability\":\"view\",\"type\":\"function\"},{\"constant\":true,\"inputs\":[],\"name\":\"globals\",\"outputs\":[{\"internalType\":\"uint72\",\"name\":\"lockedHeartsTotal\",\"type\":\"uint72\"},{\"internalType\":\"uint72\",\"name\":\"nextStakeSharesTotal\",\"type\":\"uint72\"},{\"internalType\":\"uint40\",\"name\":\"shareRate\",\"type\":\"uint40\"},{\"internalType\":\"uint72\",\"name\":\"stakePenaltyTotal\",\"type\":\"uint72\"},{\"internalType\":\"uint16\",\"name\":\"dailyDataCount\",\"type\":\"uint16\"},{\"internalType\":\"uint72\",\"name\":\"stakeSharesTotal\",\"type\":\"uint72\"},{\"internalType\":\"uint40\",\"name\":\"latestStakeId\",\"type\":\"uint40\"},{\"internalType\":\"uint128\",\"name\":\"claimStats\",\"type\":\"uint128\"}],\"payable\":false,\"stateMutability\":\"view\",\"type\":\"function\"},{\"constant\":false,\"inputs\":[{\"internalType\":\"address\",\"name\":\"spender\",\"type\":\"address\"},{\"internalType\":\"uint256\",\"name\":\"addedValue\",\"type\":\"uint256\"}],\"name\":\"increaseAllowance\",\"outputs\":[{\"internalType\":\"bool\",\"name\":\"\",\"type\":\"bool\"}],\"payable\":false,\"stateMutability\":\"nonpayable\",\"type\":\"function\"},{\"constant\":true,\"inputs\":[{\"internalType\":\"bytes32\",\"name\":\"merkleLeaf\",\"type\":\"bytes32\"},{\"internalType\":\"bytes32[]\",\"name\":\"proof\",\"type\":\"bytes32[]\"}],\"name\":\"merkleProofIsValid\",\"outputs\":[{\"internalType\":\"bool\",\"name\":\"\",\"type\":\"bool\"}],\"payable\":false,\"stateMutability\":\"pure\",\"type\":\"function\"},{\"constant\":true,\"inputs\":[],\"name\":\"name\",\"outputs\":[{\"internalType\":\"string\",\"name\":\"\",\"type\":\"string\"}],\"payable\":false,\"stateMutability\":\"view\",\"type\":\"function\"},{\"constant\":true,\"inputs\":[{\"internalType\":\"bytes32\",\"name\":\"pubKeyX\",\"type\":\"bytes32\"},{\"internalType\":\"bytes32\",\"name\":\"pubKeyY\",\"type\":\"bytes32\"},{\"internalType\":\"uint8\",\"name\":\"claimFlags\",\"type\":\"uint8\"}],\"name\":\"pubKeyToBtcAddress\",\"outputs\":[{\"internalType\":\"bytes20\",\"name\":\"\",\"type\":\"bytes20\"}],\"payable\":false,\"stateMutability\":\"pure\",\"type\":\"function\"},{\"constant\":true,\"inputs\":[{\"internalType\":\"bytes32\",\"name\":\"pubKeyX\",\"type\":\"bytes32\"},{\"internalType\":\"bytes32\",\"name\":\"pubKeyY\",\"type\":\"bytes32\"}],\"name\":\"pubKeyToEthAddress\",\"outputs\":[{\"internalType\":\"address\",\"name\":\"\",\"type\":\"address\"}],\"payable\":false,\"stateMutability\":\"pure\",\"type\":\"function\"},{\"constant\":true,\"inputs\":[{\"internalType\":\"address\",\"name\":\"stakerAddr\",\"type\":\"address\"}],\"name\":\"stakeCount\",\"outputs\":[{\"internalType\":\"uint256\",\"name\":\"\",\"type\":\"uint256\"}],\"payable\":false,\"stateMutability\":\"view\",\"type\":\"function\"},{\"constant\":false,\"inputs\":[{\"internalType\":\"uint256\",\"name\":\"stakeIndex\",\"type\":\"uint256\"},{\"internalType\":\"uint40\",\"name\":\"stakeIdParam\",\"type\":\"uint40\"}],\"name\":\"stakeEnd\",\"outputs\":[],\"payable\":false,\"stateMutability\":\"nonpayable\",\"type\":\"function\"},{\"constant\":false,\"inputs\":[{\"internalType\":\"address\",\"name\":\"stakerAddr\",\"type\":\"address\"},{\"internalType\":\"uint256\",\"name\":\"stakeIndex\",\"type\":\"uint256\"},{\"internalType\":\"uint40\",\"name\":\"stakeIdParam\",\"type\":\"uint40\"}],\"name\":\"stakeGoodAccounting\",\"outputs\":[],\"payable\":false,\"stateMutability\":\"nonpayable\",\"type\":\"function\"},{\"constant\":true,\"inputs\":[{\"internalType\":\"address\",\"name\":\"\",\"type\":\"address\"},{\"internalType\":\"uint256\",\"name\":\"\",\"type\":\"uint256\"}],\"name\":\"stakeLists\",\"outputs\":[{\"internalType\":\"uint40\",\"name\":\"stakeId\",\"type\":\"uint40\"},{\"internalType\":\"uint72\",\"name\":\"stakedHearts\",\"type\":\"uint72\"},{\"internalType\":\"uint72\",\"name\":\"stakeShares\",\"type\":\"uint72\"},{\"internalType\":\"uint16\",\"name\":\"lockedDay\",\"type\":\"uint16\"},{\"internalType\":\"uint16\",\"name\":\"stakedDays\",\"type\":\"uint16\"},{\"internalType\":\"uint16\",\"name\":\"unlockedDay\",\"type\":\"uint16\"},{\"internalType\":\"bool\",\"name\":\"isAutoStake\",\"type\":\"bool\"}],\"payable\":false,\"stateMutability\":\"view\",\"type\":\"function\"},{\"constant\":false,\"inputs\":[{\"internalType\":\"uint256\",\"name\":\"newStakedHearts\",\"type\":\"uint256\"},{\"internalType\":\"uint256\",\"name\":\"newStakedDays\",\"type\":\"uint256\"}],\"name\":\"stakeStart\",\"outputs\":[],\"payable\":false,\"stateMutability\":\"nonpayable\",\"type\":\"function\"},{\"constant\":true,\"inputs\":[],\"name\":\"symbol\",\"outputs\":[{\"internalType\":\"string\",\"name\":\"\",\"type\":\"string\"}],\"payable\":false,\"stateMutability\":\"view\",\"type\":\"function\"},{\"constant\":true,\"inputs\":[],\"name\":\"totalSupply\",\"outputs\":[{\"internalType\":\"uint256\",\"name\":\"\",\"type\":\"uint256\"}],\"payable\":false,\"stateMutability\":\"view\",\"type\":\"function\"},{\"constant\":false,\"inputs\":[{\"internalType\":\"address\",\"name\":\"recipient\",\"type\":\"address\"},{\"internalType\":\"uint256\",\"name\":\"amount\",\"type\":\"uint256\"}],\"name\":\"transfer\",\"outputs\":[{\"internalType\":\"bool\",\"name\":\"\",\"type\":\"bool\"}],\"payable\":false,\"stateMutability\":\"nonpayable\",\"type\":\"function\"},{\"constant\":false,\"inputs\":[{\"internalType\":\"address\",\"name\":\"sender\",\"type\":\"address\"},{\"internalType\":\"address\",\"name\":\"recipient\",\"type\":\"address\"},{\"internalType\":\"uint256\",\"name\":\"amount\",\"type\":\"uint256\"}],\"name\":\"transferFrom\",\"outputs\":[{\"internalType\":\"bool\",\"name\":\"\",\"type\":\"bool\"}],\"payable\":false,\"stateMutability\":\"nonpayable\",\"type\":\"function\"},{\"constant\":true,\"inputs\":[{\"internalType\":\"uint256\",\"name\":\"\",\"type\":\"uint256\"}],\"name\":\"xfLobby\",\"outputs\":[{\"internalType\":\"uint256\",\"name\":\"\",\"type\":\"uint256\"}],\"payable\":false,\"stateMutability\":\"view\",\"type\":\"function\"},{\"constant\":false,\"inputs\":[{\"internalType\":\"address\",\"name\":\"referrerAddr\",\"type\":\"address\"}],\"name\":\"xfLobbyEnter\",\"outputs\":[],\"payable\":true,\"stateMutability\":\"payable\",\"type\":\"function\"},{\"constant\":true,\"inputs\":[{\"internalType\":\"address\",\"name\":\"memberAddr\",\"type\":\"address\"},{\"internalType\":\"uint256\",\"name\":\"entryId\",\"type\":\"uint256\"}],\"name\":\"xfLobbyEntry\",\"outputs\":[{\"internalType\":\"uint256\",\"name\":\"rawAmount\",\"type\":\"uint256\"},{\"internalType\":\"address\",\"name\":\"referrerAddr\",\"type\":\"address\"}],\"payable\":false,\"stateMutability\":\"view\",\"type\":\"function\"},{\"constant\":false,\"inputs\":[{\"internalType\":\"uint256\",\"name\":\"enterDay\",\"type\":\"uint256\"},{\"internalType\":\"uint256\",\"name\":\"count\",\"type\":\"uint256\"}],\"name\":\"xfLobbyExit\",\"outputs\":[],\"payable\":false,\"stateMutability\":\"nonpayable\",\"type\":\"function\"},{\"constant\":false,\"inputs\":[],\"name\":\"xfLobbyFlush\",\"outputs\":[],\"payable\":false,\"stateMutability\":\"nonpayable\",\"type\":\"function\"},{\"constant\":true,\"inputs\":[{\"internalType\":\"uint256\",\"name\":\"\",\"type\":\"uint256\"},{\"internalType\":\"address\",\"name\":\"\",\"type\":\"address\"}],\"name\":\"xfLobbyMembers\",\"outputs\":[{\"internalType\":\"uint40\",\"name\":\"headIndex\",\"type\":\"uint40\"},{\"internalType\":\"uint40\",\"name\":\"tailIndex\",\"type\":\"uint40\"}],\"payable\":false,\"stateMutability\":\"view\",\"type\":\"function\"},{\"constant\":true,\"inputs\":[{\"internalType\":\"address\",\"name\":\"memberAddr\",\"type\":\"address\"}],\"name\":\"xfLobbyPendingDays\",\"outputs\":[{\"internalType\":\"uint256[2]\",\"name\":\"words\",\"type\":\"uint256[2]\"}],\"payable\":false,\"stateMutability\":\"view\",\"type\":\"function\"},{\"constant\":true,\"inputs\":[{\"internalType\":\"uint256\",\"name\":\"beginDay\",\"type\":\"uint256\"},{\"internalType\":\"uint256\",\"name\":\"endDay\",\"type\":\"uint256\"}],\"name\":\"xfLobbyRange\",\"outputs\":[{\"internalType\":\"uint256[]\",\"name\":\"list\",\"type\":\"uint256[]\"}],\"payable\":false,\"stateMutability\":\"view\",\"type\":\"function\"}]')\n",
    "address=\"0x2b591e99afe9f32eaa6214f7b7629768c40eeb39\""
   ]
  },
  {
   "cell_type": "code",
   "execution_count": 50,
   "metadata": {
    "ExecuteTime": {
     "end_time": "2021-09-08T23:17:43.757251Z",
     "start_time": "2021-09-08T23:17:43.737255Z"
    }
   },
   "outputs": [],
   "source": [
    "address=Web3.toChecksumAddress(address)"
   ]
  },
  {
   "cell_type": "code",
   "execution_count": 51,
   "metadata": {
    "ExecuteTime": {
     "end_time": "2021-09-08T23:17:45.537276Z",
     "start_time": "2021-09-08T23:17:45.505272Z"
    }
   },
   "outputs": [],
   "source": [
    "contract=w3.eth.contract(address=address, abi=abi)"
   ]
  },
  {
   "cell_type": "markdown",
   "metadata": {},
   "source": [
    "### Metadata"
   ]
  },
  {
   "cell_type": "code",
   "execution_count": 56,
   "metadata": {
    "ExecuteTime": {
     "end_time": "2021-09-08T23:19:02.381455Z",
     "start_time": "2021-09-08T23:19:01.972953Z"
    }
   },
   "outputs": [
    {
     "name": "stdout",
     "output_type": "stream",
     "text": [
      "Name : HEX\n",
      "Symbol : HEX\n",
      "Decimals : 8\n"
     ]
    }
   ],
   "source": [
    "print('Name :', contract.functions.name().call())\n",
    "symbol=contract.functions.symbol().call()\n",
    "print('Symbol :', symbol)\n",
    "print('Decimals :',contract.functions.decimals().call())"
   ]
  },
  {
   "cell_type": "markdown",
   "metadata": {},
   "source": [
    "### Total Supply"
   ]
  },
  {
   "cell_type": "code",
   "execution_count": 57,
   "metadata": {
    "ExecuteTime": {
     "end_time": "2021-09-08T23:19:31.330636Z",
     "start_time": "2021-09-08T23:19:31.049468Z"
    }
   },
   "outputs": [
    {
     "name": "stdout",
     "output_type": "stream",
     "text": [
      "Total Supply : 572527703086.9276 HEX\n"
     ]
    }
   ],
   "source": [
    "dec=contract.functions.decimals().call()\n",
    "dec=10**dec\n",
    "supply=contract.functions.totalSupply().call()/dec\n",
    "print(f'Total Supply : {supply} {symbol}')"
   ]
  },
  {
   "cell_type": "markdown",
   "metadata": {},
   "source": [
    "### Tokens with the contract"
   ]
  },
  {
   "cell_type": "code",
   "execution_count": 59,
   "metadata": {
    "ExecuteTime": {
     "end_time": "2021-09-08T23:21:34.388370Z",
     "start_time": "2021-09-08T23:21:34.241632Z"
    }
   },
   "outputs": [
    {
     "name": "stdout",
     "output_type": "stream",
     "text": [
      "Tokens with the contract : 27143496.89378782 HEX\n"
     ]
    }
   ],
   "source": [
    "temp=contract.functions.balanceOf(address).call()/dec\n",
    "print(f\"Tokens with the contract : {temp} {symbol}\")"
   ]
  },
  {
   "cell_type": "markdown",
   "metadata": {},
   "source": [
    "### Token Balance of Holder"
   ]
  },
  {
   "cell_type": "code",
   "execution_count": 61,
   "metadata": {
    "ExecuteTime": {
     "end_time": "2021-09-08T23:22:51.661957Z",
     "start_time": "2021-09-08T23:22:51.522509Z"
    }
   },
   "outputs": [
    {
     "name": "stdout",
     "output_type": "stream",
     "text": [
      "Tokens with 0xBC610372632700d096763520B789DCeA3E7F2294 : 3.03076228 HEX\n"
     ]
    }
   ],
   "source": [
    "q_address=w3.toChecksumAddress('0xBC610372632700d096763520B789DCeA3E7F2294')\n",
    "temp=contract.functions.balanceOf(q_address).call()/dec\n",
    "print(f\"Tokens with {q_address} : {temp} {symbol}\")"
   ]
  },
  {
   "cell_type": "markdown",
   "metadata": {},
   "source": [
    "# Query Tether USD"
   ]
  },
  {
   "cell_type": "code",
   "execution_count": 62,
   "metadata": {
    "ExecuteTime": {
     "end_time": "2021-09-08T23:24:38.890075Z",
     "start_time": "2021-09-08T23:24:38.870073Z"
    },
    "code_folding": [
     0
    ]
   },
   "outputs": [],
   "source": [
    "#Get address and abi\n",
    "address='0xdac17f958d2ee523a2206206994597c13d831ec7'\n",
    "abi=json.loads('[{\"constant\":true,\"inputs\":[],\"name\":\"name\",\"outputs\":[{\"name\":\"\",\"type\":\"string\"}],\"payable\":false,\"stateMutability\":\"view\",\"type\":\"function\"},{\"constant\":false,\"inputs\":[{\"name\":\"_upgradedAddress\",\"type\":\"address\"}],\"name\":\"deprecate\",\"outputs\":[],\"payable\":false,\"stateMutability\":\"nonpayable\",\"type\":\"function\"},{\"constant\":false,\"inputs\":[{\"name\":\"_spender\",\"type\":\"address\"},{\"name\":\"_value\",\"type\":\"uint256\"}],\"name\":\"approve\",\"outputs\":[],\"payable\":false,\"stateMutability\":\"nonpayable\",\"type\":\"function\"},{\"constant\":true,\"inputs\":[],\"name\":\"deprecated\",\"outputs\":[{\"name\":\"\",\"type\":\"bool\"}],\"payable\":false,\"stateMutability\":\"view\",\"type\":\"function\"},{\"constant\":false,\"inputs\":[{\"name\":\"_evilUser\",\"type\":\"address\"}],\"name\":\"addBlackList\",\"outputs\":[],\"payable\":false,\"stateMutability\":\"nonpayable\",\"type\":\"function\"},{\"constant\":true,\"inputs\":[],\"name\":\"totalSupply\",\"outputs\":[{\"name\":\"\",\"type\":\"uint256\"}],\"payable\":false,\"stateMutability\":\"view\",\"type\":\"function\"},{\"constant\":false,\"inputs\":[{\"name\":\"_from\",\"type\":\"address\"},{\"name\":\"_to\",\"type\":\"address\"},{\"name\":\"_value\",\"type\":\"uint256\"}],\"name\":\"transferFrom\",\"outputs\":[],\"payable\":false,\"stateMutability\":\"nonpayable\",\"type\":\"function\"},{\"constant\":true,\"inputs\":[],\"name\":\"upgradedAddress\",\"outputs\":[{\"name\":\"\",\"type\":\"address\"}],\"payable\":false,\"stateMutability\":\"view\",\"type\":\"function\"},{\"constant\":true,\"inputs\":[{\"name\":\"\",\"type\":\"address\"}],\"name\":\"balances\",\"outputs\":[{\"name\":\"\",\"type\":\"uint256\"}],\"payable\":false,\"stateMutability\":\"view\",\"type\":\"function\"},{\"constant\":true,\"inputs\":[],\"name\":\"decimals\",\"outputs\":[{\"name\":\"\",\"type\":\"uint256\"}],\"payable\":false,\"stateMutability\":\"view\",\"type\":\"function\"},{\"constant\":true,\"inputs\":[],\"name\":\"maximumFee\",\"outputs\":[{\"name\":\"\",\"type\":\"uint256\"}],\"payable\":false,\"stateMutability\":\"view\",\"type\":\"function\"},{\"constant\":true,\"inputs\":[],\"name\":\"_totalSupply\",\"outputs\":[{\"name\":\"\",\"type\":\"uint256\"}],\"payable\":false,\"stateMutability\":\"view\",\"type\":\"function\"},{\"constant\":false,\"inputs\":[],\"name\":\"unpause\",\"outputs\":[],\"payable\":false,\"stateMutability\":\"nonpayable\",\"type\":\"function\"},{\"constant\":true,\"inputs\":[{\"name\":\"_maker\",\"type\":\"address\"}],\"name\":\"getBlackListStatus\",\"outputs\":[{\"name\":\"\",\"type\":\"bool\"}],\"payable\":false,\"stateMutability\":\"view\",\"type\":\"function\"},{\"constant\":true,\"inputs\":[{\"name\":\"\",\"type\":\"address\"},{\"name\":\"\",\"type\":\"address\"}],\"name\":\"allowed\",\"outputs\":[{\"name\":\"\",\"type\":\"uint256\"}],\"payable\":false,\"stateMutability\":\"view\",\"type\":\"function\"},{\"constant\":true,\"inputs\":[],\"name\":\"paused\",\"outputs\":[{\"name\":\"\",\"type\":\"bool\"}],\"payable\":false,\"stateMutability\":\"view\",\"type\":\"function\"},{\"constant\":true,\"inputs\":[{\"name\":\"who\",\"type\":\"address\"}],\"name\":\"balanceOf\",\"outputs\":[{\"name\":\"\",\"type\":\"uint256\"}],\"payable\":false,\"stateMutability\":\"view\",\"type\":\"function\"},{\"constant\":false,\"inputs\":[],\"name\":\"pause\",\"outputs\":[],\"payable\":false,\"stateMutability\":\"nonpayable\",\"type\":\"function\"},{\"constant\":true,\"inputs\":[],\"name\":\"getOwner\",\"outputs\":[{\"name\":\"\",\"type\":\"address\"}],\"payable\":false,\"stateMutability\":\"view\",\"type\":\"function\"},{\"constant\":true,\"inputs\":[],\"name\":\"owner\",\"outputs\":[{\"name\":\"\",\"type\":\"address\"}],\"payable\":false,\"stateMutability\":\"view\",\"type\":\"function\"},{\"constant\":true,\"inputs\":[],\"name\":\"symbol\",\"outputs\":[{\"name\":\"\",\"type\":\"string\"}],\"payable\":false,\"stateMutability\":\"view\",\"type\":\"function\"},{\"constant\":false,\"inputs\":[{\"name\":\"_to\",\"type\":\"address\"},{\"name\":\"_value\",\"type\":\"uint256\"}],\"name\":\"transfer\",\"outputs\":[],\"payable\":false,\"stateMutability\":\"nonpayable\",\"type\":\"function\"},{\"constant\":false,\"inputs\":[{\"name\":\"newBasisPoints\",\"type\":\"uint256\"},{\"name\":\"newMaxFee\",\"type\":\"uint256\"}],\"name\":\"setParams\",\"outputs\":[],\"payable\":false,\"stateMutability\":\"nonpayable\",\"type\":\"function\"},{\"constant\":false,\"inputs\":[{\"name\":\"amount\",\"type\":\"uint256\"}],\"name\":\"issue\",\"outputs\":[],\"payable\":false,\"stateMutability\":\"nonpayable\",\"type\":\"function\"},{\"constant\":false,\"inputs\":[{\"name\":\"amount\",\"type\":\"uint256\"}],\"name\":\"redeem\",\"outputs\":[],\"payable\":false,\"stateMutability\":\"nonpayable\",\"type\":\"function\"},{\"constant\":true,\"inputs\":[{\"name\":\"_owner\",\"type\":\"address\"},{\"name\":\"_spender\",\"type\":\"address\"}],\"name\":\"allowance\",\"outputs\":[{\"name\":\"remaining\",\"type\":\"uint256\"}],\"payable\":false,\"stateMutability\":\"view\",\"type\":\"function\"},{\"constant\":true,\"inputs\":[],\"name\":\"basisPointsRate\",\"outputs\":[{\"name\":\"\",\"type\":\"uint256\"}],\"payable\":false,\"stateMutability\":\"view\",\"type\":\"function\"},{\"constant\":true,\"inputs\":[{\"name\":\"\",\"type\":\"address\"}],\"name\":\"isBlackListed\",\"outputs\":[{\"name\":\"\",\"type\":\"bool\"}],\"payable\":false,\"stateMutability\":\"view\",\"type\":\"function\"},{\"constant\":false,\"inputs\":[{\"name\":\"_clearedUser\",\"type\":\"address\"}],\"name\":\"removeBlackList\",\"outputs\":[],\"payable\":false,\"stateMutability\":\"nonpayable\",\"type\":\"function\"},{\"constant\":true,\"inputs\":[],\"name\":\"MAX_UINT\",\"outputs\":[{\"name\":\"\",\"type\":\"uint256\"}],\"payable\":false,\"stateMutability\":\"view\",\"type\":\"function\"},{\"constant\":false,\"inputs\":[{\"name\":\"newOwner\",\"type\":\"address\"}],\"name\":\"transferOwnership\",\"outputs\":[],\"payable\":false,\"stateMutability\":\"nonpayable\",\"type\":\"function\"},{\"constant\":false,\"inputs\":[{\"name\":\"_blackListedUser\",\"type\":\"address\"}],\"name\":\"destroyBlackFunds\",\"outputs\":[],\"payable\":false,\"stateMutability\":\"nonpayable\",\"type\":\"function\"},{\"inputs\":[{\"name\":\"_initialSupply\",\"type\":\"uint256\"},{\"name\":\"_name\",\"type\":\"string\"},{\"name\":\"_symbol\",\"type\":\"string\"},{\"name\":\"_decimals\",\"type\":\"uint256\"}],\"payable\":false,\"stateMutability\":\"nonpayable\",\"type\":\"constructor\"},{\"anonymous\":false,\"inputs\":[{\"indexed\":false,\"name\":\"amount\",\"type\":\"uint256\"}],\"name\":\"Issue\",\"type\":\"event\"},{\"anonymous\":false,\"inputs\":[{\"indexed\":false,\"name\":\"amount\",\"type\":\"uint256\"}],\"name\":\"Redeem\",\"type\":\"event\"},{\"anonymous\":false,\"inputs\":[{\"indexed\":false,\"name\":\"newAddress\",\"type\":\"address\"}],\"name\":\"Deprecate\",\"type\":\"event\"},{\"anonymous\":false,\"inputs\":[{\"indexed\":false,\"name\":\"feeBasisPoints\",\"type\":\"uint256\"},{\"indexed\":false,\"name\":\"maxFee\",\"type\":\"uint256\"}],\"name\":\"Params\",\"type\":\"event\"},{\"anonymous\":false,\"inputs\":[{\"indexed\":false,\"name\":\"_blackListedUser\",\"type\":\"address\"},{\"indexed\":false,\"name\":\"_balance\",\"type\":\"uint256\"}],\"name\":\"DestroyedBlackFunds\",\"type\":\"event\"},{\"anonymous\":false,\"inputs\":[{\"indexed\":false,\"name\":\"_user\",\"type\":\"address\"}],\"name\":\"AddedBlackList\",\"type\":\"event\"},{\"anonymous\":false,\"inputs\":[{\"indexed\":false,\"name\":\"_user\",\"type\":\"address\"}],\"name\":\"RemovedBlackList\",\"type\":\"event\"},{\"anonymous\":false,\"inputs\":[{\"indexed\":true,\"name\":\"owner\",\"type\":\"address\"},{\"indexed\":true,\"name\":\"spender\",\"type\":\"address\"},{\"indexed\":false,\"name\":\"value\",\"type\":\"uint256\"}],\"name\":\"Approval\",\"type\":\"event\"},{\"anonymous\":false,\"inputs\":[{\"indexed\":true,\"name\":\"from\",\"type\":\"address\"},{\"indexed\":true,\"name\":\"to\",\"type\":\"address\"},{\"indexed\":false,\"name\":\"value\",\"type\":\"uint256\"}],\"name\":\"Transfer\",\"type\":\"event\"},{\"anonymous\":false,\"inputs\":[],\"name\":\"Pause\",\"type\":\"event\"},{\"anonymous\":false,\"inputs\":[],\"name\":\"Unpause\",\"type\":\"event\"}]')"
   ]
  },
  {
   "cell_type": "code",
   "execution_count": 64,
   "metadata": {
    "ExecuteTime": {
     "end_time": "2021-09-08T23:26:22.180548Z",
     "start_time": "2021-09-08T23:26:22.156543Z"
    }
   },
   "outputs": [],
   "source": [
    "address=w3.toChecksumAddress(address)\n",
    "contract=w3.eth.contract(address=address, abi=abi)"
   ]
  },
  {
   "cell_type": "code",
   "execution_count": 67,
   "metadata": {
    "ExecuteTime": {
     "end_time": "2021-09-08T23:28:08.526969Z",
     "start_time": "2021-09-08T23:28:07.886532Z"
    }
   },
   "outputs": [
    {
     "name": "stdout",
     "output_type": "stream",
     "text": [
      "Name : Tether USD\n",
      "Symbol : USDT\n",
      "Decimals : 6\n",
      "Total Supply : 33873006368.9485 USDT\n"
     ]
    }
   ],
   "source": [
    "#Metadata\n",
    "print('Name :', contract.functions.name().call())\n",
    "symbol=contract.functions.symbol().call()\n",
    "print('Symbol :', symbol)\n",
    "print('Decimals :',contract.functions.decimals().call())\n",
    "dec=contract.functions.decimals().call()\n",
    "dec=10**dec\n",
    "supply=contract.functions.totalSupply().call()/dec\n",
    "print(f'Total Supply : {supply} {symbol}')"
   ]
  },
  {
   "cell_type": "code",
   "execution_count": 68,
   "metadata": {
    "ExecuteTime": {
     "end_time": "2021-09-08T23:28:13.622603Z",
     "start_time": "2021-09-08T23:28:13.493202Z"
    }
   },
   "outputs": [
    {
     "name": "stdout",
     "output_type": "stream",
     "text": [
      "Tokens with the contract : 389614.900055 USDT\n"
     ]
    }
   ],
   "source": [
    "temp=contract.functions.balanceOf(address).call()/dec\n",
    "print(f\"Tokens with the contract : {temp} {symbol}\")"
   ]
  },
  {
   "cell_type": "code",
   "execution_count": 70,
   "metadata": {
    "ExecuteTime": {
     "end_time": "2021-09-08T23:32:00.827845Z",
     "start_time": "2021-09-08T23:32:00.691774Z"
    }
   },
   "outputs": [
    {
     "name": "stdout",
     "output_type": "stream",
     "text": [
      "Tokens with 0xA929022c9107643515F5c777cE9a910F0D1e490C : 1872565169.0 USDT\n"
     ]
    }
   ],
   "source": [
    "q_address=w3.toChecksumAddress('0xa929022c9107643515f5c777ce9a910f0d1e490c')\n",
    "temp=contract.functions.balanceOf(q_address).call()/dec\n",
    "print(f\"Tokens with {q_address} : {temp} {symbol}\")"
   ]
  },
  {
   "cell_type": "code",
   "execution_count": null,
   "metadata": {},
   "outputs": [],
   "source": [
    "    "
   ]
  }
 ],
 "metadata": {
  "kernelspec": {
   "display_name": "web3env",
   "language": "python",
   "name": "web3env"
  },
  "language_info": {
   "codemirror_mode": {
    "name": "ipython",
    "version": 3
   },
   "file_extension": ".py",
   "mimetype": "text/x-python",
   "name": "python",
   "nbconvert_exporter": "python",
   "pygments_lexer": "ipython3",
   "version": "3.7.4"
  }
 },
 "nbformat": 4,
 "nbformat_minor": 2
}
