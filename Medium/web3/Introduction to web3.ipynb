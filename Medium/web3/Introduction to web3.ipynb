{
 "cells": [
  {
   "cell_type": "markdown",
   "metadata": {},
   "source": [
    "### Import Library"
   ]
  },
  {
   "cell_type": "code",
   "execution_count": 1,
   "metadata": {
    "ExecuteTime": {
     "end_time": "2021-09-09T14:06:15.449707Z",
     "start_time": "2021-09-09T14:06:14.010886Z"
    }
   },
   "outputs": [],
   "source": [
    "from web3 import Web3"
   ]
  },
  {
   "cell_type": "markdown",
   "metadata": {},
   "source": [
    "### Connect blockchain"
   ]
  },
  {
   "cell_type": "code",
   "execution_count": 2,
   "metadata": {
    "ExecuteTime": {
     "end_time": "2021-09-09T14:06:16.132764Z",
     "start_time": "2021-09-09T14:06:16.118003Z"
    }
   },
   "outputs": [],
   "source": [
    "infura_url='https://mainnet.infura.io/v3/29547b52f77647b68da777e3ecc06811'\n",
    "w3 = Web3(Web3.HTTPProvider(infura_url))"
   ]
  },
  {
   "cell_type": "markdown",
   "metadata": {},
   "source": [
    "### Check connection"
   ]
  },
  {
   "cell_type": "code",
   "execution_count": 3,
   "metadata": {
    "ExecuteTime": {
     "end_time": "2021-09-09T14:06:18.679064Z",
     "start_time": "2021-09-09T14:06:17.935362Z"
    },
    "scrolled": true
   },
   "outputs": [
    {
     "data": {
      "text/plain": [
       "True"
      ]
     },
     "execution_count": 3,
     "metadata": {},
     "output_type": "execute_result"
    }
   ],
   "source": [
    "w3.isConnected()"
   ]
  },
  {
   "cell_type": "markdown",
   "metadata": {},
   "source": [
    "### Print Latest Block Number"
   ]
  },
  {
   "cell_type": "code",
   "execution_count": 23,
   "metadata": {
    "ExecuteTime": {
     "end_time": "2021-09-09T14:21:12.397633Z",
     "start_time": "2021-09-09T14:21:12.259545Z"
    }
   },
   "outputs": [
    {
     "data": {
      "text/plain": [
       "13192025"
      ]
     },
     "execution_count": 23,
     "metadata": {},
     "output_type": "execute_result"
    }
   ],
   "source": [
    "w3.eth.blockNumber"
   ]
  },
  {
   "cell_type": "markdown",
   "metadata": {},
   "source": [
    "### Details of block"
   ]
  },
  {
   "cell_type": "code",
   "execution_count": 24,
   "metadata": {
    "ExecuteTime": {
     "end_time": "2021-09-09T14:21:13.777264Z",
     "start_time": "2021-09-09T14:21:13.559516Z"
    }
   },
   "outputs": [
    {
     "data": {
      "text/plain": [
       "AttributeDict({'baseFeePerGas': 210273090380,\n",
       " 'difficulty': 8645765373861771,\n",
       " 'extraData': HexBytes('0xd883010a08846765746888676f312e31362e37856c696e7578'),\n",
       " 'gasLimit': 30029266,\n",
       " 'gasUsed': 30028327,\n",
       " 'hash': HexBytes('0x583567587f4b05bb95b2ebdef6febbc07b143fd0905bb4ffd209dbb483f79a18'),\n",
       " 'logsBloom': HexBytes('0x29766597669fd22791f0fed0e613d7ef9396ef59e9afb26e653de93f81b4af31569f5fed639b52dcdd6357b2851c6d7bda3fa0e86b433ffd22ff49c83aa9727bd58322359b540f7f59df964a385de874e4a5e423ea7af7d912eafc56ba7947debe276f470a3fb6fed3479f397e407cf1b411d157b6efdc6afe79bdbe582d87b8acf8ac56efff6de1a7e90feaa3b7343ffdd959ff2727d53f9578b4fed4d348eee6f9ff6909d67860ae73d7b39c5b9b22396647f2f8a322d3ed3b2fde30e6fd51ff79a33648717ed6669ed7f1efe33a5e0f57fe1f1c3a569eec34e1aa391fe34f1278631f0b07c5a099af1482c603809d954da17eb8df5dea7ebefefe749bbf35'),\n",
       " 'miner': '0xe206e3DCa498258f1B7EEc1c640B5AEE7BB88Fd0',\n",
       " 'mixHash': HexBytes('0x3f8ae36cc49d54f8c26c38ae6060ef47da4f17df13814fff1ba5dec46bc5000d'),\n",
       " 'nonce': HexBytes('0x514bc935603bec95'),\n",
       " 'number': 13192026,\n",
       " 'parentHash': HexBytes('0xe1f9536254571d6a65af3c59fbe89f0681ff7b7d23325db1e9835b3de243ae00'),\n",
       " 'receiptsRoot': HexBytes('0x0171b75e90f53d6260e302cbd5ffa77cd75c11ca159ed34135669409c86f8dbf'),\n",
       " 'sha3Uncles': HexBytes('0x1dcc4de8dec75d7aab85b567b6ccd41ad312451b948a7413f0a142fd40d49347'),\n",
       " 'size': 108472,\n",
       " 'stateRoot': HexBytes('0x91abdca3c73d644ed8e2bdb2d320c736bda3fc082b883fb11651c4eeef00ebf6'),\n",
       " 'timestamp': 1631197221,\n",
       " 'totalDifficulty': 30333040881601439588827,\n",
       " 'transactions': [HexBytes('0x94cb3a0c8f5a9f20e5c105602805c4ad84aa708ac0b148bf430a0d56953e5501'),\n",
       "  HexBytes('0x406e4cca4d1a6b80d0952c5d6ea8a98aee06f311236cc598da85acf5fd40c2cd'),\n",
       "  HexBytes('0x111ddcad26d1be174132028e9c55618e3fbf0bdda9e558905d00e20028357449'),\n",
       "  HexBytes('0x13043e2eb95845d56270c36069c948728c10607f8861414c30d4bfb0e68b9f51'),\n",
       "  HexBytes('0x53e20adbc54e6fae28b7a6970e515698601c74b82e656b2f6ed0352644f77f66'),\n",
       "  HexBytes('0x9825a83f30ec642d8f4ecb995a4a467b3bea5ccbcb59bb7e4a2e42f4c2242ad3'),\n",
       "  HexBytes('0xfc2a59c12c2c5a03330a21a03ee2113f47ffb47292ea281e70229753725825da'),\n",
       "  HexBytes('0x69cf37b5190ac9cbe40dca0ed3715457cfc1340607989822a8aa4f2c8e1c2c65'),\n",
       "  HexBytes('0xe395d13c3c24736f58b2bd77f6883a1fa0e10c664376df61d535555a0a5e85fd'),\n",
       "  HexBytes('0x0caca0d6074a2f9aca90e3b8f6582a93b007d35980233fb9c0f2c938b7b02b0a'),\n",
       "  HexBytes('0x1628e73915f1f81b9156b4facf73f86a0dbc1ff93a23687976c61657eca8c613'),\n",
       "  HexBytes('0xe88d56a278e11b0a90d183e68d794cc9b944aa40ba664398e5f8b6c8e4e2f8f4'),\n",
       "  HexBytes('0x085f52c88a5241faf94e3b117de5ba07f612e72d43fbb2587afc2654014eef73'),\n",
       "  HexBytes('0xe8659190290c652462e141c87df68c2cecfa5fc3fce77324776211422d8d49e6'),\n",
       "  HexBytes('0x3750edf7dc7ba2e1f793d46b499b2fb1dc07dca785db7fb72de905d6c702304c'),\n",
       "  HexBytes('0xcdcf0755e956147ac36aacaa0685f2ca92e4aa0ae79f35a1f85ac35c9023a22e'),\n",
       "  HexBytes('0xc4fa45ee89fe2c6cb80b9ce3d2307ee1521c6ede020b9b176a60a9dd007b6416'),\n",
       "  HexBytes('0xd5d825dfab4cb130163cd08597da64a130d8dacc05dbd897c3f916b98dc5a61e'),\n",
       "  HexBytes('0xfe86458f46350586e904983da119720a5588969adb972fa84545623be1f790ab'),\n",
       "  HexBytes('0x389aff1f3546e421bd3a967f7ceb8cc7cc5348e8b8c6dbedc319f74417ab3db4'),\n",
       "  HexBytes('0x2af84ab72aff4d249b6d6d8659e13b610a1ad665c45b10ca40185448436cf123'),\n",
       "  HexBytes('0xaf54e9901bfea618e33fca6573ccac077b7f13179ab2d43b641837cec55fbb86'),\n",
       "  HexBytes('0x48fe4daf8f6bfe7218883cfa4406982539e1ed547b0eea8686035d9e058f3c44'),\n",
       "  HexBytes('0xebf537717c28ef1f5959fef0b8bc39872f519f5919f8e6fdea867637746e482f'),\n",
       "  HexBytes('0x6c02b4dd62d7ecab6fc74feb91b9538810dccfc196d1d110df3beb7f1d3cf7cc'),\n",
       "  HexBytes('0x0652b4868b8459218a91b350ac6eac8a99e8ce2646c95fb8f57484cea2d27da6'),\n",
       "  HexBytes('0xc99deebf1e12bb78afd9c200366a63d4037a5d3c07ddc742fe8ffb12fd7e31f9'),\n",
       "  HexBytes('0xb5abd4715306719bb04d0c3de55e1a77ee042ef3b82a1ff8a566bb95bdc0bb9b'),\n",
       "  HexBytes('0x730f38c58475597534174a6312bcd731b965baae72a69246adc80fe42ac7b949'),\n",
       "  HexBytes('0x92e489594b38b0b722764bc51243d7efb6a9471028c8ce5ea0d3e8751f33fb1e'),\n",
       "  HexBytes('0x45d995226c966b349f0aa6bc31469a25d7e7496ec7fecdee73035427a5bb6ef2'),\n",
       "  HexBytes('0xd155cdb5db894bc98bffc1cb84d08ed6f764eff8253ece2241def0ca8d542b47'),\n",
       "  HexBytes('0xe5bcb9435b8001dfeb5c80e670e2d582620922511db473e3f19203ab6179186f'),\n",
       "  HexBytes('0xf6b4b3c8f44cf764fa63c6799faac2f967cffb429318c3d6e31764a4716ae5d1'),\n",
       "  HexBytes('0x87e7eb77b3296fc2fc631de80c427daac348ab2cc7fa40529dbfaa9b263d01d1'),\n",
       "  HexBytes('0xb456fe57039ed26ecc7b9ec41d76dec6713f5b3f5c86281152fb98536f34b1e7'),\n",
       "  HexBytes('0x46a4be0849702c57c8cc6d6ec9043be5d4b7512fcb6c83666615a47472facda8'),\n",
       "  HexBytes('0x664733ee163854373eca9c1bc20e2d309b8953b888e60180f1ea4a532a0828a5'),\n",
       "  HexBytes('0x6e2e72f723ea5bdd69a6fd4d08324391b686eeabfd95b5bdedf97ae7b4c5c97a'),\n",
       "  HexBytes('0xb6ebcbbd14c124e436bce6f206fb03baff67d38ecded842098f9ff1ef8f73f83'),\n",
       "  HexBytes('0xfe47565a4c6b34f75b0b000d5afd4a5cf5eba30478aacff465ef05ede072e6cf'),\n",
       "  HexBytes('0x5e408b4d7556c3c887a6ac94eaaa4d87d42c32b279dbd424078181e9294db83f'),\n",
       "  HexBytes('0x87bc21d860ff7938854dfff1cae44e623c0a2df9697335dbb32ba5a160299b56'),\n",
       "  HexBytes('0x4513fcbd29532d4a3d713df455afeb570ef2e8cbc8c2e9b6dca21689b9776532'),\n",
       "  HexBytes('0x32a9540cdf8ef9b3be7ff5c3b21417c973d7e875a8ffb32f30fee655a1b21f2b'),\n",
       "  HexBytes('0x74b002111eb70e9094769dbb3815ea6135b63a33c5963a83a496713945ea5e00'),\n",
       "  HexBytes('0x34c91ab223691e330561200e9ff15db9087cac639201cbee3f26d1daa4a7af2e'),\n",
       "  HexBytes('0xe02dea555c2ec450a959f9157c2744fecffcf8d1234e76d24a8537080f43594b'),\n",
       "  HexBytes('0x34e75eeffc58d8af49f835c802466cd5ae6a96862b026c0373bc8c3f5e9449a3'),\n",
       "  HexBytes('0x425fd8ca6b318183789c0ce2194545cfa8997511130f5484cd2fb8af52ea6e05'),\n",
       "  HexBytes('0xfb4982070b2207c4b1cd03dfb02550fba5e97a7b6fd8ef476460140ad808571a'),\n",
       "  HexBytes('0x94fa8ceb5bb6d7b1c98f8a8f44f391910ea05b3f896741feb15ab1b0d1713eca'),\n",
       "  HexBytes('0x3931e1dafe7c1d7e442c638a9773aad6d4ac6ee69ee0b3e13425002b3e06134a'),\n",
       "  HexBytes('0x95a726984a19f5a482f108c41815708bc2d413f72a1c8558fbba15d9917defba'),\n",
       "  HexBytes('0xd19f56ef633585dbe2e80fd94288ba49e5d5568573a3491062253476d7128b56'),\n",
       "  HexBytes('0x7e009e45e3dd81e6df3c87be4cc103ec157179bffcd9595436bd923ead00b9fc'),\n",
       "  HexBytes('0x2013622236a9b0524533ad6a3c36097de7c21b2c3548209fd7aba3740380ca7c'),\n",
       "  HexBytes('0x2a9f94c7bf9a3102c60bb462b4c5e9de118d9a705a92fcd7793363c9526976d0'),\n",
       "  HexBytes('0x8b40a89ac6aa8d813323fadab4ccbf8aaf236fa09b906e124b296ecbb199fee9'),\n",
       "  HexBytes('0x93dfca3ba418d83b505514da92a314354830f3066e3097cad8fde2ad914d5b51'),\n",
       "  HexBytes('0xbe3a4cdc1e1e48f620ba46a6096887da18c734e1ad142c15cd3ee472e2d01105'),\n",
       "  HexBytes('0x2ad386b061bc0de6f293c9c460c394343d36d2f3984b8f3623a02e13565f1f9b'),\n",
       "  HexBytes('0x72cf44091dc04ddfeee6e68d4490b474d29ecf44eb5c212ac516acd318a463cd'),\n",
       "  HexBytes('0x1d0802e9f0c4194f6dc98636617edb277fae72dcf5a3fa95a5e1ae2b74a38760'),\n",
       "  HexBytes('0xc2b934e7b3088146939571b57024b64419871e4ff72e5dddf2fe7ce6649940c8'),\n",
       "  HexBytes('0x9d4837dad6f9a28166c1cef31bba3f9566e669e7da468f9851cb89f4b4b6e156'),\n",
       "  HexBytes('0x77a60f9131605f5ac6e87fdd5fafa278032daf8f7a003fbe88765a5150596726'),\n",
       "  HexBytes('0xdc0481ffefee9776234f0762f2b4f9c8665b586674302b07b06247c950f3f2d2'),\n",
       "  HexBytes('0x50f1e94fc70d82c55920f1a573b924f1c95e1c991a8ce3b5b1209de3a88b0ff9'),\n",
       "  HexBytes('0x4f4e77d32a786fe635322d9d16d5b93fb7be0ea52a28b0e53a9aed091cb2887d'),\n",
       "  HexBytes('0x6988b6a8d244b062469f39c05309fe85010d65b387cef96c2f9de53127533207'),\n",
       "  HexBytes('0x9dd3a1e332042f0a1892e472c0d7c52428c67fd7c9246032dd02abca92543f40'),\n",
       "  HexBytes('0x07bc338317c05a47fae66ed10af0038855b681ad87f9f0a2d315e120f4e6caa4'),\n",
       "  HexBytes('0x0f77e374a05b80fad23244593a4023206112ec335d9fd0084fb279a5a676a2a8'),\n",
       "  HexBytes('0xbe30033223eb719da40762ff1a284eeeef24a835b2e35a6b83da53905e57f371'),\n",
       "  HexBytes('0x4b65a65a6767faf1a84a8696cede8515bdbe0781865c831e348bfa5232aa4f0c'),\n",
       "  HexBytes('0x27a914fbf2267f18493eff7d6e70e581f75902543a0524ec9886d4804ef8aebf'),\n",
       "  HexBytes('0xf67ba2e0ebef879f02434deabded0148d4e270746b69621012c6e208f3c3c1c5'),\n",
       "  HexBytes('0x2de8f6f25c1ef6d6dab73f032070d19c5961a572e04d7f7a57c1854ca6134732'),\n",
       "  HexBytes('0x740d1a1fc6e4c7493110929e85e75059ce46c241343e8cc2e2f21decc80d5828'),\n",
       "  HexBytes('0x2fe67e2c31c7d252e6187d3014d8f8d61a528f6dd388647da3edd0f0178624d4'),\n",
       "  HexBytes('0x6395e61548883d6694487ffa22d1c3fed3e51a20e09959886e8a1fbde1186f43'),\n",
       "  HexBytes('0xd599bc51144bfe70119d3143558ac46f087f4d0e98911c98ef8af27526fed8f4'),\n",
       "  HexBytes('0x04c8e0a31bf1403868f3051b1ea88e0f0308bc54fb5ed73a06488979d2fcebf7'),\n",
       "  HexBytes('0x26afba52829c045c10313b76696487c6b78970dfa81c3723f134018c4e419fec'),\n",
       "  HexBytes('0xf3bc9121f26bcddc7a3daf553965b878af0b60d26e7344fff9115d305023f013'),\n",
       "  HexBytes('0x060011827d902111712a1b8fa6d111787ac81424beb4a3c0bb3b7d9bb7ac1eb4'),\n",
       "  HexBytes('0x6146b4f22a72ce28879b5e47f2d374d7b76e913dd80dd4eefcb77a94334b3edd'),\n",
       "  HexBytes('0xb7754cc9b233f993dbb1957746c3e6f62e2cf6c98a267489616b06cd9aac7bf7'),\n",
       "  HexBytes('0x8c9f990667186b9b3b881d9efe3ebff3c74bb8b9541d02139fae10cb98f32902'),\n",
       "  HexBytes('0x1ac6a848aded76bebbb7be7a2dfb8a57057a94f4a7615719c84c7282aaee36d6'),\n",
       "  HexBytes('0x3f7f331b72cc6437e444af6c8d1aede36d708453e16f96cfc27383e0a05dc370'),\n",
       "  HexBytes('0x28e2c0d26dfb7a316e4ddac9d9c8805434068fd9db97c1d9d6af01b6fdfa1cb3'),\n",
       "  HexBytes('0xf6ee4e3e07888280e02f7eb439e602d090ea1e2b66bf303f9d2169e34a828c09'),\n",
       "  HexBytes('0x48f8f30f21c6abdcbb197bfb78ac96014e14e1f53296b2fcd7184fe638d7845d'),\n",
       "  HexBytes('0x09669017a411bf121fc77aeebfe3a96e7ad02a195b7cbccf77f9a746261766f6'),\n",
       "  HexBytes('0xc1f88a0593b5b0c4641aa75007c2f746609ad1b9326082c3166dd012eefa29aa'),\n",
       "  HexBytes('0xfb0d4f55a1ae087e0d3c6278032674c9a473aa994df54f06faf44ad1af3c6a4c'),\n",
       "  HexBytes('0x3c379f78c85cd442bdb5e97250b1306a07e9c78eaaa949671943bf00aaed8995'),\n",
       "  HexBytes('0x39dc478a2fc18c72a407ab90660469353d2739b9278a1ad6421d616f1e58fae1'),\n",
       "  HexBytes('0xbf07904870ba9ed12239d42c49437a6cbd4e453250548fee7da9bc642d837301'),\n",
       "  HexBytes('0xbc9b62a31a3a0d9c1727c8cf04a5184e104bbd2da0101b22628e23d39d5b098f'),\n",
       "  HexBytes('0x0dc52016996a4cf1c9f87d9740a01bece71c70ff4762fe9e95a55461cc378ee3'),\n",
       "  HexBytes('0xe82f3233d6f0208f7d2946601f36dd7108bcc72225a47d7186f7f46d728a63b5'),\n",
       "  HexBytes('0x0085e2933a8c235fb5a32bcdd93b08ea2121caeef53f4e843dc75485980355d3'),\n",
       "  HexBytes('0x9bfe5837943e0d3227cd76cac02a1da30b385f2b997f3d5065ec25d2fb51494a'),\n",
       "  HexBytes('0xfc0a36b3f737d56355f93615e73fb46b972137c587f438419a49d1a9154d4bd1'),\n",
       "  HexBytes('0xa28d51f69cd8c1f6ea3c87d01709b5de9c1b7f8987813e3de51332180320196b'),\n",
       "  HexBytes('0xbc524e5bd3332e95e33c62ac7eaa5eb6b595993d34605c983e13e91e9c04a68d'),\n",
       "  HexBytes('0x1178f892b8c4895bf4df4b6b510607b0fb513f8635e17a74c2594a207bf51807'),\n",
       "  HexBytes('0xb031a3fba58ab5a7fade5028075d27d421544ec305fd4c6930e0771784a171a5'),\n",
       "  HexBytes('0x424304ff6d6e6fac3feeb87debbcd7123b22d5da4b67898ed042771d1d256399'),\n",
       "  HexBytes('0x58736a2634fb34fd4b6d56d742c6d9443cc970b1cfdc40c6dcfbc38b1b2da257'),\n",
       "  HexBytes('0x183f1136e1c425384d1b9c3df1d02a1d2a93022c703925d093705289f162cdb4'),\n",
       "  HexBytes('0x5ee4a32f06efc1dc1a1f2abe95fafe9bc3ccd9ca60cce8b16930de875e02c896'),\n",
       "  HexBytes('0xfcf604b1c62e25ac2922598b5f58efd26260edfe4a68a09ae50174ffbfda73a0'),\n",
       "  HexBytes('0x5e88c497ffba0f3fd9e348ce255b302a4ce6bc8f3ed4e1ae25b369798902c795'),\n",
       "  HexBytes('0xa75e7d29672c3807a27fbe5d9195c98f88620c3ff7278602b5201c308ee86f94'),\n",
       "  HexBytes('0x14f2e54381c072d1446297fa927b32f143b818e98c5a007ea85428b0027b2c2a'),\n",
       "  HexBytes('0x7f563c0bd40bf483dc6c739b7f6f3f978baf491bb010679cf64db06eb67a98da'),\n",
       "  HexBytes('0x4ca412c00393996ef4c95671bd65c73ffb3f55e7f7bb505f71942d303f9071dd'),\n",
       "  HexBytes('0x38331e18f39d8938f41ce61e56718aa21281c1ac339074901f7b7eb652f3159c'),\n",
       "  HexBytes('0x7f3c6a961065c14ff69372fc2d8905f0127bde15041b1a8533a9723876fe50fd'),\n",
       "  HexBytes('0x76f455519bb868f15e22fd73c4ec572b5c0dbb61f806e6fff654f37514ffb14c'),\n",
       "  HexBytes('0x2019e9214971809f16bae9b3ceada7efc06d136854be465af7a3295210232a94'),\n",
       "  HexBytes('0x5c11378b0dbb73f776e36188918ad08122f70f240b2c5f719558f11c818cf637'),\n",
       "  HexBytes('0x960ff0ff32221b012db64e5fd711bc2b4e9143d4db57f47452f55b51b8a00cec'),\n",
       "  HexBytes('0x7ed519ef481a3308c5ee5f34e835b798195339e127bf69624ab6c5337218bd9d'),\n",
       "  HexBytes('0xf5fcd8131f9c62b14ac4f71609664b8d9c3f4436d0470cdaa3e4bbc7282b9f09'),\n",
       "  HexBytes('0x21b285d0f002d55887ae8b1f677a8ba092808bddc1b3f94185fe4d8adc090c62'),\n",
       "  HexBytes('0x06c7e6337c4209554773f3f889a901234b2357d7694cc465b8c9a734d5e27a91'),\n",
       "  HexBytes('0x4279699e98594225479c89f2d1e15f7659b1f373e7b7ba1a7a66d0bab74be7ee'),\n",
       "  HexBytes('0x6fd65321d3e976878e02664f5b10ea3500fcfc6ae194fe7fb40df9e188a06d02'),\n",
       "  HexBytes('0x050ee82558d37845b1a9ceca5cea2f1809c535762756cd98c97d5c49989100a5'),\n",
       "  HexBytes('0x4aa53cd2ae61f2fb889e90a35847c18051cd33f0dae0230409f4904aadf0607e'),\n",
       "  HexBytes('0x9eb169fa1976074c95f127f49b5e5cd207e19b298b1c04a0c55bd735d8135245'),\n",
       "  HexBytes('0xfdb4acefb71aa83825e43d9ae5dd1140a2a7eda1665e74371ad52a9155510b73'),\n",
       "  HexBytes('0x60361a14ea7ed750dceaa33cf962b54295c5f2b5b702fa691ff993ac8f596a4b'),\n",
       "  HexBytes('0x750ce268bedcfe5fec726d38c21455f044f16293b331c753b15bfed90a8db7df'),\n",
       "  HexBytes('0xba0e511b4e93a54991e62e458fb9fed3e10603ceabdf3e9a07babd68c3856898'),\n",
       "  HexBytes('0xee72033d52e9fd7ab91befb9cbec63a6ec0f6260527fe43d94ef4eec81515f7a'),\n",
       "  HexBytes('0x145dbcdd0f7ea25323dd60e6b46cd3f2b97bbd57bee5764eb2af9e507bc5fb19'),\n",
       "  HexBytes('0xa6e748d8e9e573e58c8e94b4696fd90e8b84d74ded4aa13ccb618683de2e9a21'),\n",
       "  HexBytes('0x24e5bfc3811fe9dc6c2e2d4d82362edf955b7db19ca8c2533f5f0767aa73bd99'),\n",
       "  HexBytes('0x1d75cc948646fe6d2617fc4496c6e70804db8b51603fedfb7060df525aa21dcd'),\n",
       "  HexBytes('0x2f6b086fd9105a24461a9ce67d0523735ebed09c755c3b84584f478062556db4'),\n",
       "  HexBytes('0x2adfbbbf6eecdef500173e383efb70b4b5d49b6931f0a5a02c9c5d1f53e81561'),\n",
       "  HexBytes('0xb9d567f91a0c0dff32d9bf0401d56a295c70b2890f7c1a3dab1d3e7cfd9d3a19'),\n",
       "  HexBytes('0xaf2d6465c3473f08e0e187ad5b2627fc2ead36221abacbb273624f914ecc776d'),\n",
       "  HexBytes('0xc5024dbaa8d4ddd7bf72e65709c7e0731f671498e1f7dee913c78ad14e2d8377'),\n",
       "  HexBytes('0x53874a8639ca8e282e0efbf2bc9dc9127bf9268588242edf66375077797c267f'),\n",
       "  HexBytes('0x91ecfe2268acd5e8064503ac8b6d5e80de2869b052941f04f21e149cd7098688'),\n",
       "  HexBytes('0xd794f35cbaa47097e06bc4b2d913f50d28db3757ee12a40f2f27f60392329f1c'),\n",
       "  HexBytes('0xd2903e868edea34ba27f559025bbf575a889100a3316189fa8589ea5f124461e'),\n",
       "  HexBytes('0x81d42b6382316e6536e6d2f3ca21fbf89a895a636d78142b8de4a4bffcce7e63'),\n",
       "  HexBytes('0x44f676abccc61a63d67e3d1a0dfcf8a0e13929da1cb8c2fe04d877ed7110061e'),\n",
       "  HexBytes('0x2bdad60cb15e3eee9796073de8dcc9377de85a8f60e5202c79a2b5f5041ffe3c'),\n",
       "  HexBytes('0x59a7a3b2349d983b9d7b19afec7a39b2eaa4c71542c7a3c4644c9c981d6790c7'),\n",
       "  HexBytes('0x6b351d0a9ab80ba755f01c9ef142f46a28009d5b3b8d7b128f2bb0c571ff010b'),\n",
       "  HexBytes('0xa280e806e6bf0386e331f98e5b942a9952402e7218428399b97e4591783e26d2'),\n",
       "  HexBytes('0x96ac0c858cebf2093180d939ae3f43d799a429acf0423272d6b2582970011ea9'),\n",
       "  HexBytes('0xa3f826c61bb375b56c3878c9197a9751fab64fd532ea15b7b9113ef23463a5e6'),\n",
       "  HexBytes('0xfbac19fa4821effad0ce2fa3b6bf2ebacaa160a51338cac91350319d483afcb3'),\n",
       "  HexBytes('0x552cbbf0fb4ec8bb89d44a1587eae2b99d82d8071a6004e4c159f71f63253648'),\n",
       "  HexBytes('0x85f7604e19109a8316097f8e11b27873c59b76535ac9a7e358626d435baad6f0'),\n",
       "  HexBytes('0xb5180dfb55b887af13591c8e4f21dcf5bec9ed6313a74f37b2205bffacfc3ae6'),\n",
       "  HexBytes('0x82482d306e1d409575649fa6c223b39591c3032b8e9ca0bff134a247d4623ce5'),\n",
       "  HexBytes('0x0ba36ca0fbf23e74443a686342799ad789b04382b6a7b7c8605fe938373af044'),\n",
       "  HexBytes('0xd09d38114a641b88a7f44d65e0ad9de45e543dd8c52dfa0563843e9cd470f984'),\n",
       "  HexBytes('0xe5f1ae38e1a918a67b978d9f459807a5618ef5c7a8cf18ab512d1866845e5497'),\n",
       "  HexBytes('0x90238ef5a54ca88565e4f5cefe62e30fc5b8dbde8ac3a9f3ee79c484fc3c9c30'),\n",
       "  HexBytes('0x1625dff64c4cd57c0a22091a58f53279a3ce8fb6255a33b2769c1c04d27d40d0'),\n",
       "  HexBytes('0x00acf7163789068568d95d5ef0a0ced730bcf674beba96367921da4d6feccbf7'),\n",
       "  HexBytes('0x1a2f5c0c0a6a3338c4c3279d6f7b3c8cf1338eefd33800555f27b81aee319421'),\n",
       "  HexBytes('0x94d74a97965765e2af67e389b9515413c87b5bc596d2d574c67055e446f8e473'),\n",
       "  HexBytes('0x12e68ef511d8dae8a131334e39ff959e79711aa42af4705f6d02509f03f56d5b'),\n",
       "  HexBytes('0x369c42fecddf55ed91195616844853964f486988ed56f89df9ddcfe8dffbfcf7'),\n",
       "  HexBytes('0x0120a45a68fc538597f9896e8c90358d057f6e9e68a96bf226c66ac9b278e5e2'),\n",
       "  HexBytes('0x53ded3d6948e74a2c01aa6de041d2bc57166742a0d0203d625590b2d81834435'),\n",
       "  HexBytes('0xb9d62b043129b06a576fcc777270a929aa11466ab6c250813573df892164cf44'),\n",
       "  HexBytes('0xedc6f40ebcba36dffcebec1206afab2c7b4f210883255e1fbcb5803dfd7e4069'),\n",
       "  HexBytes('0x979f9bfbed3c3d2a9452e65c027d92e2cafa395cb987ff540261a72374c0ff82'),\n",
       "  HexBytes('0x358e45c4b5be0c83bcea697300bf8acfff30a514616996ec3bd089752d977934'),\n",
       "  HexBytes('0x80096a4d51f40f2923c2f44ea97c8fdafd20bd284e92028e0095cc3608645ba0'),\n",
       "  HexBytes('0x16ff1b630f2373ba2bab055f665e541a959621e93c1388ff5e1b093a4c3a3c12'),\n",
       "  HexBytes('0xdb87a16ddb7622e934610d22c19e3a1ccc521a97474061ad5d48b6065747191d'),\n",
       "  HexBytes('0x8ca01fb072099f7574a21c02d55f4ec6e885d1421d7b2318af469b0209b754f5'),\n",
       "  HexBytes('0xf0ee32d86d647f22379733e5f5a4379f14c66a888b80cf54453cb2ebb722e30a'),\n",
       "  HexBytes('0x333edfd4f0d58f876906779e97ed025a65ea26215fe9dd397e06bd53e7de153f'),\n",
       "  HexBytes('0x5a7d53ba49b4cb4fae58dd52750a4f82b87133528c37610c51ef39bdfe84de74'),\n",
       "  HexBytes('0x3af8b7ebb1d1a23f51af33e21e0054512e30f59c48ac8d7a929ef170ffae5812'),\n",
       "  HexBytes('0xaad1e6dfa2e62081a2bf54b12271feff5b235a2701e790329ab982dedf1e9116'),\n",
       "  HexBytes('0x0811763a832c69734733744209e700bfd803401362b5767f1b6d3a1b3483bba8'),\n",
       "  HexBytes('0x46af714ba527b7e133d0612e5c75dbb7391952b460c70dd0f80731e2001234e9'),\n",
       "  HexBytes('0x3f7f2b7b584b03e87412a7993d2737c58ac9134d971d16a06cf8d303817e96e7'),\n",
       "  HexBytes('0xcb3cd499503d4330978f387cd2d91a64c3026de15591a4d8236c90c2bbdb7710'),\n",
       "  HexBytes('0xf9339d0408e14622514f67ef4be482419c05a283c1eec03fc95ab12fb003f3be'),\n",
       "  HexBytes('0xaa5c9d907a6afd0bd85e1df9566e895c68371fc4846abab6f79c7e5caedfd911'),\n",
       "  HexBytes('0x4f80f43c2fb74259c6b5122a09ee8e94f520ca7979d9185b8a1ac80098aff697'),\n",
       "  HexBytes('0x18ae5f01f776960295d0d1a3e65127292cc9af30ebe5b40c4d45e6cfe41d461f'),\n",
       "  HexBytes('0xe79f92bd0a0b6abcfcaa8791fcb678d139baae1a4f5f3f84e7e1db6fbe7a6bba'),\n",
       "  HexBytes('0x71cc81f431ffddc0711f43d1fa4fe25743b36f7064540abff5915de4f9ae5a8d'),\n",
       "  HexBytes('0x4069420461bcd31c762baeeeb1431ad2c3d204f0424ce2dad6144e30ccdac2ec'),\n",
       "  HexBytes('0x2232016e954113a8e5778c717ebd0a2e628ba0b3de7e7a041c8bde5d1da2aee8'),\n",
       "  HexBytes('0xab049c66dad464dd26d1cc5b34786fe93643790cd468a9390b4fe5f1e9edaa15'),\n",
       "  HexBytes('0x92064f7f0ad0e8be98c32f1451d604c1821cc7298917192f69d4d46c72fbeaa2'),\n",
       "  HexBytes('0x430a3d60c11a600b2135e33724d5dfff18a07ead6b793f442e62d0673e08a600'),\n",
       "  HexBytes('0x3f1c084366a4469d8d9c13fd9a607af2288dc696547f3c32651f175eb2c9c422'),\n",
       "  HexBytes('0x0190b1e83bd0eb0e0f81a722ce753afd4f90d242f52c0c56b0f401894f6dd7b1'),\n",
       "  HexBytes('0x43385e2626bc3d79b57a36fa67323e870dfeebe2f6214dfef6ed000e7d47a7f5'),\n",
       "  HexBytes('0x795c9ff63ce467863c0641ce6fb52a171df907c66ff2a6d874e6f91c90807ca7'),\n",
       "  HexBytes('0xa58126d95037a36a831e1dc07aa08d0b8e6e067d3c78b15474733f3e53e2a169'),\n",
       "  HexBytes('0x0e250d4208a9e4f43bb55a7abc85bfd1a623c1ce4bdba799c6a96f1dc8cc2ed2'),\n",
       "  HexBytes('0xb8160755a269b3c1acd7df1b0101b60a2ff5d437c42f4eb3ce58141e8fbd017c'),\n",
       "  HexBytes('0xbc0bfde1dac6cd1240b63d0679738a1ceeb727f1ce3435cb12b54d9978deb8ac'),\n",
       "  HexBytes('0xad85ad9ff85218897b6dc931b89a5d8a8ba05bf8e09dc4c2a5ab56045f5aab68'),\n",
       "  HexBytes('0xd00b9cf79db0bc187d119578bcda694c1659756b9cfc96ce3b6f2667f03203c7'),\n",
       "  HexBytes('0x55e4975f37476ddaf83db6700497faeb0d2df95e1a701ec12cbde0f33dd09716'),\n",
       "  HexBytes('0x086cee9e5532ffefe3323b36ca1f6dac5af4c7ac9f0784413f72e6be09132460'),\n",
       "  HexBytes('0xdae6fb9052b0f9759f4f9a7dc3e8009c2947f5645a0ca4b18f6a566f678619f0'),\n",
       "  HexBytes('0x1d8d164e38be25a4d54324cde53da6b5d4a4bb11172932c77efc4ca5e031cc0d'),\n",
       "  HexBytes('0xde88e4fd6c7d03c320a60a20f055c46444b3052ec715937549d22842f95a372b'),\n",
       "  HexBytes('0x7d929a19f361cc1541cd7bb671086deebff1af55f34841cd6024ef981a2fde95'),\n",
       "  HexBytes('0x1c34f185617546f92d1c8cd4b10d1d1388356a86b15eeee981c3e14c3f406aae'),\n",
       "  HexBytes('0x871003e1037d716cc6eb954c5b87c204daddf06c9893a0b7bbae7a85a9de44a5'),\n",
       "  HexBytes('0x7c2692e1a647bd229fc1441f5102c302110fb4a30a1c21f6fe7b3cc1da8d1976'),\n",
       "  HexBytes('0xb1cacc046a16d953a38cc59dbce9d4b48ade441ed9bc9f54f48becafa6ff49e4'),\n",
       "  HexBytes('0x0bce07b8d9391cc45672735141c58dd55dbc87296d783942af93ea85bbc4d94f'),\n",
       "  HexBytes('0x0ce9c05744131ab9696e148603734ee7249a71d9c20ccc3bef8471b80ef96eeb'),\n",
       "  HexBytes('0x0d57f12aca82236a0239d033e1fdb8f449d5209a25f722c9d54736e729ab2831'),\n",
       "  HexBytes('0x899942f6d09cac4c93e69ea051064b17454b91d4b8baf57cf32c0c4a65546bcc'),\n",
       "  HexBytes('0xffaf32761b617b95de07940934518e07e30c2ec6f202c24ff2525adbf8c361ef'),\n",
       "  HexBytes('0x0af8e68805d8930dd87b99187b7209497158503086caeadb4c01209fb18f0a4c'),\n",
       "  HexBytes('0x5ae24714cddb1e6a905051f1aff45385f6548dd984fc21d43b88f91ab90787fb'),\n",
       "  HexBytes('0x5302b9c54975adf9d80aa0793de0e8bcc3cf64c6b21c6d3800b7627bbb5f3387'),\n",
       "  HexBytes('0xd97d7876000f8c2f29443caae8a14bd958c0eafe313a7ff92d53d86d8e735b48'),\n",
       "  HexBytes('0x0575b361b1dfc638be229c08b424145a22691e78d1a9a33660b96fe4d01e2c70'),\n",
       "  HexBytes('0x1e0e224dc071cd36785e2836206a8708049ad4dc6e5927e5a6d61541c4ae8e53'),\n",
       "  HexBytes('0xfe6bd29c40c50e2184d8c0cd6929deb196ec0ed132a5c21f7cf466a823eaddf6'),\n",
       "  HexBytes('0x2260c55c98cbd6d1afc0961adec99a9a90824a2d12128f0b3adf7aa674f63801'),\n",
       "  HexBytes('0xf408f0838e61c942e2e81a3777b71c34fd404c9672e0a2db78cb15b00c5f045c'),\n",
       "  HexBytes('0x74e587fbfdb78b79761b89c24dd64dd7c305fbd63adf9523b6f2b9c36085aed1'),\n",
       "  HexBytes('0x053236bd7bc79e79de1f35c225ba3512f1836ae831fd3a1043e2a9fc79ac5f7d'),\n",
       "  HexBytes('0x90b57655ebfc0685e4e7a8a3e4ca19562945c99d1f208ed478600eeb448c45bf'),\n",
       "  HexBytes('0x0e52e185919f7851f3df69f9a53288bb23c3f2b0a608b1de3ac72a79cc6890a3'),\n",
       "  HexBytes('0x7a9fa9a31c1a33f2b7eb344dfa48f6915f45587e88fd4dbc024fad4ebc8c9f74'),\n",
       "  HexBytes('0x185895a654f346307bfa639c61352392723ac94db792edde41c6a01a19a2406a'),\n",
       "  HexBytes('0x64fdf2983859714dc4ef9f1213d69259c8a8a44affff6534adad3d0e474420bb'),\n",
       "  HexBytes('0x09fc9a2402e1dc8713827bee94be9961ff590f42e955b2cdac371e3e5cc96483'),\n",
       "  HexBytes('0xe45de9b82939395f105eee25b8fd3d6aa1b2f2ebbcdd91297e5039713e818b12'),\n",
       "  HexBytes('0xdbc86789055aa3a77b424be1878f257445ef76bb2af0710a0113990eeda8e6aa'),\n",
       "  HexBytes('0xdd6645e82bac1cd3b418dcfb62f56b45d6ada70d621753f12ecea34abe85653c'),\n",
       "  HexBytes('0xf2adcac8e5e2b63f2d63445391502d72d3c2689b938f2e4c4b2bc189118d0709'),\n",
       "  HexBytes('0xd78d5cd57aa09eda37d593e87d02cf1137eb5cc45e00cf6cc408df51c83204f4'),\n",
       "  HexBytes('0xe8849043e8872400cfa54c84c2c10b46fd9c6abaa3152931053fb038b3ee4ce8'),\n",
       "  HexBytes('0xcd718f979e8e2ec97191cc88a26a08b61e078ad63d80da3e3b91a527aa6146b0'),\n",
       "  HexBytes('0x48b70fb2ad68ccee1177f21b6ce942909d61ad9cb0a3bdc0cc2a01c72d8b69d5'),\n",
       "  HexBytes('0x0fabb6d77446ef5c1fcbd0ae72c37032acb6f17e107790eebc55f6c9843e8ec7'),\n",
       "  HexBytes('0xa9d6daa83559c80ef02bcf1e777df55c1d8a9b706f946e3c4cbf2c949d324bcc'),\n",
       "  HexBytes('0x5091467f1fcae484a0281a7c63931d7ba4e2cadf57391bdf98222e9e0c55bd23'),\n",
       "  HexBytes('0xa3ce76063b2523cbe9e47159e125a23492663969f4caf05fba61d6b2fe0d6bf8'),\n",
       "  HexBytes('0x1bce7cc660b859fbfaa0da93c0a4adb0034157a7ea9b5a6d26597b5da10bba83'),\n",
       "  HexBytes('0x9527859a4af9ee25e9caf3a67a6db5364ec16cade9de833fd3b752b5280e5133'),\n",
       "  HexBytes('0x69c1de7302d33fede6eb558dff792f0ae34c57ece167a7ff1a23021ced5e5fb1'),\n",
       "  HexBytes('0xcb60f327e1390f1466d0fec5179e259c421164919f5002aef5932abce9a4ccf0'),\n",
       "  HexBytes('0xc0e5911ebd6fa2e4f22728b7498bdd3bf6ae54a27d8240e6ebd0a705f7aee07d'),\n",
       "  HexBytes('0x43a31ae66fb606bab2555d937ff8c2f1756efd5ceaf43847fc1460b75af88aa3'),\n",
       "  HexBytes('0x5bef27dc4bc8abdf631573695ee7fbc4387a41843e44b5a16f93c18b269d5733'),\n",
       "  HexBytes('0x2acb88879eb5bb8a5a23b3017201c16aae7a1d4399dd4fdd940b4e375735a7c0'),\n",
       "  HexBytes('0x099ea6b9d5510dca504d0497b9c3257093553d70eac180d01be6d0461ac551e1'),\n",
       "  HexBytes('0xe01099e94b033dff315adb346b00c6c568acf40e8c617b75e4e9de90743e631a'),\n",
       "  HexBytes('0xe869c2bcb116409e9f4b9e25e36fbda235d3a286b78e97a24ea0f21f5ca9df48'),\n",
       "  HexBytes('0x523a49ce62be501febe47fc145090677711c4b56bef6069eac077370e88fb2e0'),\n",
       "  HexBytes('0x2f7550be6fb54d7300e827635880440386ee3886c0650669243e538a48925207'),\n",
       "  HexBytes('0x7ca74a65be19850be4e145297372385aca96f869c326da6eae49042419b6eb03'),\n",
       "  HexBytes('0x8e1f8e437bac4f27134187db7ce6f345ba8d4bd69499b7f270070d4048de59bd'),\n",
       "  HexBytes('0xd4dc503af654f0d08869eb255d5bdd968bde0fd0b689b8210b69dc284e73a4ac'),\n",
       "  HexBytes('0x2a24e7102216e75d1a06dfbc383cf1f771e9373b5f2f16c4e67590c92d852a54'),\n",
       "  HexBytes('0xfba70196993315f658a8c917b050a94d22a1395621202b57c8343202bcca9dac'),\n",
       "  HexBytes('0x491c57575530b39dd103a08c47d01531ab692c4fb35603938cfdc0e0568823ff'),\n",
       "  HexBytes('0xbf846c96f8dcdb858e3974158856e0420b6da3ebbaf4d8c94945cbaa504886b9'),\n",
       "  HexBytes('0x35dd8bc919abe293c3cec968b4dc9b0a67ee6ed1ba2197897f3a5fae92a84076'),\n",
       "  HexBytes('0x02758ff8def68c40641f1f176ba5ec26f1ed3895dc49afae3c1a12174b08bba1'),\n",
       "  HexBytes('0x5d2c8a4f25b8c896d53cd05bfc293e473a8eefe076784fb9ab0f89efc85b84c4'),\n",
       "  HexBytes('0x6ba6b55faaeab68756283b4f7bc3d07709c3b6df53b750d911c2ea25591597ee'),\n",
       "  HexBytes('0x888448612e7b2d80ddf7786cea2d080e37d484ec93ba40662150d65d9e9d821a'),\n",
       "  HexBytes('0x544064754c5ba8ae56afb1ba4b10fea7e1e80bedf6099e6764837231fc136482'),\n",
       "  HexBytes('0xf150026e6baa4f82fcdf7988245dae9735f200879989c6eb6288a51416e7e282'),\n",
       "  HexBytes('0x846fb3599b242ce9e5fa9f844ec609be5d589048a89f6965392c9d2b7bb9dbe6'),\n",
       "  HexBytes('0x81d086d36d0ddb1de904b754601c9b6e17fd6e897ff99fcd4a8014cfaa46f62d'),\n",
       "  HexBytes('0x247a8aae098ad56d320a0270b6ad5a80c627a0f89530c5e0d35de252319f73fc'),\n",
       "  HexBytes('0x949d1170073b1a0fbed69701dc020b1eac2481714cfbe3da06bc5809f66ff2f7'),\n",
       "  HexBytes('0x0189170151f82e51835535b887a6b39051f4cbea353a22a8fc4d5f843c609aae'),\n",
       "  HexBytes('0x5b37134179572bf820acc9ea99cb9bb9af9a760f2fea66ae7c2380b953737fe7'),\n",
       "  HexBytes('0x0e8dba66d66a7ab26f6fac4c4001aa09f7926e04de04dc426487e10b931479b2'),\n",
       "  HexBytes('0x4f592cf5751d12aee326932e79cebd4b3c031c008afefcb0293e9ca97bebc825'),\n",
       "  HexBytes('0x8dcd8f1850d043e480861b80acb5307778272c2e59de4e354db077e8d426c05b'),\n",
       "  HexBytes('0x1e564c4f427ce5193ea355ee228de3d6f08ba6df3af77f142f4909e5b084b946'),\n",
       "  HexBytes('0x286a301b03c2c532ccdd37b0fa06fc0a52bdb7746449ba6375528e8a1c579b56'),\n",
       "  HexBytes('0x36c8d9b4d3a98b386e65bbcb4f5412f0000c3278f9b16b8adfba6a06bca00d7d'),\n",
       "  HexBytes('0xaa1921699b1845d656455e650e7518e9faa2a9348cf3ae399291d9354502be0d'),\n",
       "  HexBytes('0x4f994452a9a1bb01a93d20d9bce28f4a9af7318d1cd42cdbb70f77131cf43312'),\n",
       "  HexBytes('0x3b1070f5af076585a1142faa4997e6ef2584ec19d8e3d0d8c2ec9018a1f74694'),\n",
       "  HexBytes('0xd4d3956811e72dfa790ef6080eaf4ebdee13c37a101ac2b41f6b935c801e8629'),\n",
       "  HexBytes('0x8fe552b15e10bc565844716c46f761eaf910c8ba276dd67021531b4706bccd6e'),\n",
       "  HexBytes('0x1fb22aeae7404b9cf162d0cbe1c301df690cbeca66e697e52bc33592e5874446'),\n",
       "  HexBytes('0xa3a5850a2bb109a3e39cb72928c3d6a94b30f3f80d9f7b95229db4b679aa539d'),\n",
       "  HexBytes('0x5b5f3b54177e725db3ff02b3a85c2b0612bc2cff0d58664dbf4e4501eb52a05b'),\n",
       "  HexBytes('0x69cda69a64f1d323d05daf1a91dca63bfe2419fe5d5edd98886637c1effd6991'),\n",
       "  HexBytes('0x68b7679c77041155d70cc35eb608e6f0dbff59643826e59aef241412f8f30db5'),\n",
       "  HexBytes('0x33f26b8ffb495fb50edc87644bdce169ec8dc23e0370f24fb70d79d95ce4a9fa'),\n",
       "  HexBytes('0xa840ffcee7f23330741fa588817df245131332a09f845b89073444f263bc042e'),\n",
       "  HexBytes('0x359e32445397ca08a515af2e408322985e87b9c0dbf4839fa6af2d03bac4b4b6'),\n",
       "  HexBytes('0x1cbeefda2e910fedce899d233de3c9fe42674d1efdb89b77d2c81f00bf6b1100'),\n",
       "  HexBytes('0x623fe534d81467ccd401c78c114a7671fcd45615aaf1208c2d8ef47e1a4be2cf'),\n",
       "  HexBytes('0x1d734a4f5e959bb45e88bcfd504d82d360369b3efe1d2958dae6825ced015dfc'),\n",
       "  HexBytes('0x0e0c912418ff37ec52c206f64f3f7574ac694e718b2ed2929ca4e3e0d9312ac2'),\n",
       "  HexBytes('0x374c9e9290ec21c958a103b34a1c972d5af7ad4782c535853e3522d6c688dddc'),\n",
       "  HexBytes('0xc8c69e026da0906f87b82f3f94be355f5304fb5362c5ed7d229518444200364e'),\n",
       "  HexBytes('0x8209b7ed417a4201a9a65d090ad78107a8b55c9f3582aa3c02c807e1241282b7'),\n",
       "  HexBytes('0xd9f674dfd6c2802e412fcc858820462be05f86c1e4303d69dd40cab85a815b50'),\n",
       "  HexBytes('0x39a0bae74fbf32fe75b2d41ba315ec17c746111116c42cc0f140e244cc2cf1f7'),\n",
       "  HexBytes('0x6f2689ee6d197106cc76fb86b5d4cd5bd674d45d4d2416e99e6a3ebed7265c63'),\n",
       "  HexBytes('0x1f60a11fb2c7d74b12f3b27a2186bbb3213298be9f73de86f4e521ee64ece7a4'),\n",
       "  HexBytes('0x97996c068b484823904b2d6c06983506b8351b95f3e08c9ae7dc24c96bd7fcdd'),\n",
       "  HexBytes('0xd831b33753937c9329f7ad797329c25f6f67cda1f9fe1b13aed285ffa4b82330'),\n",
       "  HexBytes('0x9e7220d209345a132240f490c80f904f4b72ac806f7456ba3f9da0fd4f477910'),\n",
       "  HexBytes('0x49b02b16fd2eeb80be2f7ae62fe92b08efa01202e6447a790a62af0c39f5ad6b'),\n",
       "  HexBytes('0xe65b3fd5dd917fd2a692a653a26ea30fb2d22b4a68c3b445c9a10594f8a141f6'),\n",
       "  HexBytes('0xbe2481ac0f61826724a390986ce494ac6f19961c6e472e9fa1a692a756e7a5ad'),\n",
       "  HexBytes('0x119e2f06fa5197619291598e337cee86c53f8036c14992150f909e22aba83a80'),\n",
       "  HexBytes('0x367da6e1475bc69e0d951fce1695a9f06f6fd78b356e4aac2dd602a12daf1b6b'),\n",
       "  HexBytes('0x28a671c29d285e1675cfea95cb593d800b95c708c040976e47675caa61974d7d'),\n",
       "  HexBytes('0xe9a3e0738e1cd1282a9eb547a80bf374d307eca5fde9b8506c44ba6637630e7e'),\n",
       "  HexBytes('0x4f6bc299cb54ad4558ca5ed298df0b02314300612b75ee8dc093407baaaabd4f'),\n",
       "  HexBytes('0x2293ee93b7985f962f162c1c082548d0db66feba0e3cc9574f15aaaf565bbcf3'),\n",
       "  HexBytes('0xff2185347083c555594e05c2765674337c285ce010bd59f27a4d222ec793e422'),\n",
       "  HexBytes('0x26fb66c72937167010e7839eefce9dcf4ccad5d9e7821f3b422e2d8d1670bfe4'),\n",
       "  HexBytes('0xebe40f3b30e32c993494c27185fc732e718acddd1f8b604e1d09dca31720f4a1'),\n",
       "  HexBytes('0x28638978cd252d20495bf7d6c3584d8beb2c5ac97f8d9fb5d3f67342e121a784'),\n",
       "  HexBytes('0xc85d9834ac6dabd9aff5689ee92dab601266d49107fb45d18de84b3db8412f0e'),\n",
       "  HexBytes('0xbd4ff29455d045776ec0a4fa208072c758bc7f1f7d392fefb1acbbfef16e830b'),\n",
       "  HexBytes('0x823cdd93b80bf0e92c5d44d5d833dd571622c98b150390264233772b6449b2c0'),\n",
       "  HexBytes('0xf0ccafd41cff8b7fdbf8208ed50bd5d459e989b4504f729ad11f85896f00a40d'),\n",
       "  HexBytes('0x024d7d70294578d4220796908338a6b1d70fee1799751ba820a4021429a748b2'),\n",
       "  HexBytes('0xcdda47e367c2c4b9daa8d536caf410e517059591f3f019d09dac5dd76c55e45b'),\n",
       "  HexBytes('0x592680014639a3a95a3cf9e6f1bb25809effdd1d6a50daad732645fe6ab8aee0'),\n",
       "  HexBytes('0x85e7b732cdd9846f6aa05738945f53fb3f6e0b0c30a1700796226b0d93c86642'),\n",
       "  HexBytes('0xfeb5fa600c2ec672f982c6d8196004171d52e78d94c15da7e088cbac94f67f92'),\n",
       "  HexBytes('0xf6460dabf72970e16454882aab8aeddcb59e1c633d6175d75529c864242fd6b5'),\n",
       "  HexBytes('0x4f2712193ecb0cb3b48846f955fcf81360e31ab2bf868c0861e30e209151e181'),\n",
       "  HexBytes('0xc16ace62a089ee1fbc7a3edf325a4bba31f35e06a777ea179910969eb8a17603'),\n",
       "  HexBytes('0x43bc205207bd4720a7a032645eb864753f3e4d60e38ed3a9ea8ff0cd4aea99e9'),\n",
       "  HexBytes('0xe53cd09bf7d6169a75059ad17ef4972f178438195f4da3d20bc588200b4372a0'),\n",
       "  HexBytes('0xb507e0ecf0f38528aadbfdf6e596395d9e46d808c25573a54218a7c50283781a'),\n",
       "  HexBytes('0xbcb040c79a91bc59fc560b1f677f29acb398fde222f88df56cc8ca1b04e556b4'),\n",
       "  HexBytes('0xa2abb85067cb397c4ffa1a8999924320fd429cb3310728e979ced70a32b17fbf'),\n",
       "  HexBytes('0x3b4a8819537eaf7d8ba9de37b6e27b053ff2b54f3ed7af2e29ebb40f5c56d6e3'),\n",
       "  HexBytes('0xd8619c5fbb9acd181253aad05b128379a0e71d2d5ea220867ad0cfdb5331bb88'),\n",
       "  HexBytes('0xff7c6350d08a20e6bea210530005862920233c81b3a41a8724a87818b60ba6a8'),\n",
       "  HexBytes('0x211898125574163c7e038dec6aac4a36e8398534fb104ea662ba2f352dab5b4e'),\n",
       "  HexBytes('0xcc555721d291c90952b878c74343702c0633a467e51d99e32b57c9fa706b100b'),\n",
       "  HexBytes('0x6458aee794ed41320298644abd64f6dc6bb221ff1cdb74c9da79e1aea95e6110'),\n",
       "  HexBytes('0xad858a4d5deff686032fffc3cc1b514e9679258399962ea4cc03ee2f4e2981c7'),\n",
       "  HexBytes('0x55e52a3681159459b84734bc6c659735aec02e0ff9f5a1d7e09fe8f598002442'),\n",
       "  HexBytes('0xa9cdaf67fde70fee2537723a78dd62668fdbc2c86bc47f0f61bb57cb5011c25e'),\n",
       "  HexBytes('0x9193bd392549a902fc9d9c00b91643150bfd7a439b8f2e3321df5fca1a61f101'),\n",
       "  HexBytes('0xa1a0b882556f58716c4e1c0c12d20ccb56a701dab4ae4d0c8779be59ea718b74'),\n",
       "  HexBytes('0x9c9add454bc387d57a946f60ff99b94946cab7ebd4168f7946911e7457b90235'),\n",
       "  HexBytes('0xa2bae78382be04d278942f59b6b4e2320393ccc74b1d6049afe45eb9daa9b31a'),\n",
       "  HexBytes('0x7b9dba00977c58ae3c8313a6ecb866e60dce019c1068cc9437e67efadc41d05c'),\n",
       "  HexBytes('0xb1a6eb5333370beda038fc2f782c6fb747194d9c5d833581270c1f13bb672cd0'),\n",
       "  HexBytes('0xd8bf7f79cb616da9e467586629c69f055b43fbf751962300211357778c5e7ecf'),\n",
       "  HexBytes('0xc3032911912b18a3ab08129120b09369da9612d942e07963f18d1033dbe5fe96'),\n",
       "  HexBytes('0xf132ea694d70b93f5ae1c4bffaafbf4fce5566ae514a99696b685ceb204f12e7'),\n",
       "  HexBytes('0x2a710765501c56f80a1676e0eda47362ee9dc4c05feee13fa5969ace37a955c0'),\n",
       "  HexBytes('0xc1eefb76d87aefd3d3d15480fda4d5f7928582cfb61dcf8aff7fe46814d2dbd1'),\n",
       "  HexBytes('0xda90c81e49cbce7c366864b3947a99c1c848c9b94ce3d8768b8b331450543d79'),\n",
       "  HexBytes('0x32fb066a855eceafb5e632208db2e897383248fb92af3cad595a40683d256630'),\n",
       "  HexBytes('0x1d07cf0bc34fb0fada23f10eb628e30c2d70bc4c268e726494e68af09aa15a2c'),\n",
       "  HexBytes('0xe168c6d5f9e35d853c3b6b674fe4af54b30b1230b934b11c4f9649bb154639a0'),\n",
       "  HexBytes('0x297910080008d32ffc27655e8c0bbb403a849b223f0e95f75d7a618d6321c700'),\n",
       "  HexBytes('0x1d15aceb8db3e799cb7ea5db33177602c4dd18ae432fc4ad0aa97a7c0d888faf'),\n",
       "  HexBytes('0xb0fa4a837d57c6d195a2b04793a9c30911a1a24656d4a2a4a41cacd509c6fc69'),\n",
       "  HexBytes('0xfb11059c7f4b0bfc0ed63c921315cffaa540da1bcae27899b326aa39bd0a6de8'),\n",
       "  HexBytes('0xaae78586e77ef6d19591cc452d1b8171c8f12db7a8022ea219d14966e9a1a5a1'),\n",
       "  HexBytes('0x9a660d4894a11e12253e07c8af82d2cb7b9642172001fbf69d665109969942ef'),\n",
       "  HexBytes('0xc2ec7da4f8fcce2ea59b378508c2cec356539510e687fa30ccb79d486c9e2069'),\n",
       "  HexBytes('0xad742f4b953046ed07e274c8fd9f1c2a392e6d8ad0862c25d1b0bb16e59b0138'),\n",
       "  HexBytes('0xbf17d7710b96e5e05047d5793461c49a7c49dc448262bbfbc8cf9db4b9f5fa12'),\n",
       "  HexBytes('0x733cc2b5d9636bf16b8a98b2babae0fef2158998cbf2d6e24e8c6b070b2e434a'),\n",
       "  HexBytes('0x68172632f1f371620b2c07298cddd6043ac31e3a12cd0f7f4766f3567bc678c8'),\n",
       "  HexBytes('0xc0e29b6b121d6c17927a281ea04a206bd4fab560762263601f9be5400a6f6143'),\n",
       "  HexBytes('0xcf060fa5f0999b954228fd1e39125a82c40623f47a60c6e17af4be7cc42ef3a3'),\n",
       "  HexBytes('0xf58217b9c7adfa27f91f0be411926559891c45935b33468bccb5372bf499a42e'),\n",
       "  HexBytes('0xb30bfeb2f41144b5c45ec72386c87a4976136f2cd9bbfc4d187cac1c1f6a7380'),\n",
       "  HexBytes('0x99541ec39ab96fe04408c2a27b8a3692774038c265b04e2d983ba6a4df05eb7d'),\n",
       "  HexBytes('0x1c586a238e08275e7d8f4b1791ea7506dc399c2b0ffc8a8985d9f615823af888'),\n",
       "  HexBytes('0xffa8fb2507d6e8b401067c58ed2b4816b76bc2697db4c53e22a4a1ec33c6f9c6'),\n",
       "  HexBytes('0x59f2081cc1daf0a1f2c6e823ad2c42bb3001d982c0408ff47c4e706a3d6f6fb6'),\n",
       "  HexBytes('0xe7adcf1116142ae46682f6b122758185e3038b34d2d9a497093da06865061ae9'),\n",
       "  HexBytes('0x245825cf876ac5558fb4d789e8e12ef2d8d9b3c4d8099bfad4c95ddd35db4c02'),\n",
       "  HexBytes('0xf13d6c52686e1f843b89e66447a7212e80ab1eafad75a2566944c26a0f7bf662'),\n",
       "  HexBytes('0x39c555c1ab5c4ec96df1805671ddef5b0cfba95e4c30dac5cba86b3a9326a44b'),\n",
       "  HexBytes('0x4420bd1ecf248fcb69e3366fe549b4346ccbd04f7782b324a9e64eb68a9b316a'),\n",
       "  HexBytes('0xe3573bad6d579641a4087baf88d5809de5f524570e179799d18fbc0b24e4ca8b'),\n",
       "  HexBytes('0x44135ee8845fb79abcb94c3e53a0450e4f716b663c640e19b63976e51d1e7687'),\n",
       "  HexBytes('0x29545c5da94bbee123bc862dbef1064c1fcee39a5af7cad5c17af401f5fae152'),\n",
       "  HexBytes('0x975853eeae8f073bece20ba5cba705d75eaa67466a45d89bb5f880c9bae4405d'),\n",
       "  HexBytes('0xd22847278a7ae4ad8061f02c394e538fc87043c3011b9f47fee5f5fc33b2165a'),\n",
       "  HexBytes('0xc6b22a4dbe7167e4ee497c04a51f3f6832f44090f8f8b5abd322b9ba4fa51627'),\n",
       "  HexBytes('0x7751148a0803690fa0187988caaad650e6a20fc0fb41248ec2e2aca1859ac752'),\n",
       "  HexBytes('0xe95848d5546aa6a3cbf874031bcad7ad91f9f5c2e04aba1e234cd3545f2cae0b'),\n",
       "  HexBytes('0xcd16db6723b7945ea68bf59d3f7f1fcf5d79a032a1fe389b28a47cba77aa6e85'),\n",
       "  HexBytes('0xf4b4450395bc296075d9ffdab3e43d25fa610efc29657772ed8b8c44e980d9f1'),\n",
       "  HexBytes('0xbeff30425ba54f29a88c2afd784605c262a72a9445cb3aa113cf5c2dc626b657'),\n",
       "  HexBytes('0xbbf56e669dfd17eaedc842702fd34d0e37fed9b4e2c7a16d0b360724adecaab4'),\n",
       "  HexBytes('0xd9493ca976de09b7687eaa4371c5bb572eb4095ea62493a3a2bf674fc3a1a29e'),\n",
       "  HexBytes('0xb6b2709a21252b8728714609fb4ec3aa7f9d337e27cf69a5367cd80b05c3be81'),\n",
       "  HexBytes('0x04c1279b2b0f75a41765a41bb0d4b974875d7f73c8b964ccc9693f436291424d'),\n",
       "  HexBytes('0x21a947e615d996fe322e239ff6d305a2f7992408da0f4b6b26959a6dc9af24d2'),\n",
       "  HexBytes('0x5f2ddb3ff3068e0a6b0cb1e13d974211bab386fc13311d42db56b9c98842ad58'),\n",
       "  HexBytes('0x4bac518652c7b4e5054d772254efdcbd24b2bce11995c37eb1301ccdbd7ac7cd'),\n",
       "  HexBytes('0x089e14f83c8df7998628a062c60ea41004250f472ebb555740ee57501f146b74'),\n",
       "  HexBytes('0x6fc87ff1300c78d532b5613bafc5092ff270d6c6a239add14c35f4be8e445d17'),\n",
       "  HexBytes('0x8c812df74aeff3c040b6b5d80b162948f685aefdf688a3bbb5676d4e1b0844de'),\n",
       "  HexBytes('0x1cca66b02b0afa57898166bb217253ee1b7b89e6e81539aa058e3a200db56f4f'),\n",
       "  HexBytes('0x64f98f2f453dce1637df423005c4eb54578b4f2f1caaa6f670852fe030cf15be'),\n",
       "  HexBytes('0x9dd04f52e0de8d91aa2ec6eb3450478bc03c034ad590c9ef66e002d603f256b2'),\n",
       "  HexBytes('0x8530301c394bf1a4ea0fedd32f2a37adf2352ad469d36e5030f9b4b97bc5aec9'),\n",
       "  HexBytes('0x277dd08db8130f2625fb5aabf069401fac7cd9761af1c6f8db6f8b38eb39f7ec'),\n",
       "  HexBytes('0x2b8eb0db8800e094fa5a6483923904b4ef5f930c737edc0bb3258eaec6e337f9'),\n",
       "  HexBytes('0x11f67ba38db297eb13ca8c500c186571076dd04883b92b453ef210d4bfa112e8'),\n",
       "  HexBytes('0x30076026f8068b8ee0a24a77da0628fc23409e237f22ff41e00788d137102bbb'),\n",
       "  HexBytes('0x4588db326b349bcad2881df8fdfd0a726dd024e75d4f43e735aa6505e6954a6d'),\n",
       "  HexBytes('0xc8ac9efac03b68aadad9e8035c3fc7fc265cafb1641a1d66b68f0078ed82d7f1'),\n",
       "  HexBytes('0xab8caf06a6abd4102a7dc6ce310621c2f27564e8e79182806fa98b68f5752bbd'),\n",
       "  HexBytes('0xce30a684adca8b2e1088a93db7b60602c2c2aba508f7d43f6306ab9a2358939e'),\n",
       "  HexBytes('0x0d60ae967a47f8fbcd62e272f68fed66d0946b09a82f07dd7435fa8a8641a8ac'),\n",
       "  HexBytes('0xfac9b01fedc3ed44d04ba3f0c712fa22663cf36709479edb729bcbfea5ec183f'),\n",
       "  HexBytes('0x04d6ff2dcad449b795648fab7bafd27880b15b4faa9a3ce397e496ddf111d08b'),\n",
       "  HexBytes('0xf3bbb205d390acb4ce616716d525280f18a15e60263a25b5b993ac7c148c478d'),\n",
       "  HexBytes('0x38b3a886b3fc50a0b1ab14169cc414a5e1d39d84b07af1a15f4a7fbd28a50138'),\n",
       "  HexBytes('0x52baf6c343eccf7b7e4a72a1265d6099736806ac4734e9b8a35ea078c9ef2c66'),\n",
       "  HexBytes('0xa2f59c04096dcf171d0417350862c0afddb94383f5f550c8f3e0a6a65ef710ad'),\n",
       "  HexBytes('0xd0361d5176a5d73312bf87b2dee7b5a1c4bf8d3d522c6d402c9696293e7d1408'),\n",
       "  HexBytes('0xb4624a98b3c76004bf2990def99f89bc5a6249f5bca1ed622327256c884b51da'),\n",
       "  HexBytes('0x37a3f231c0d0a9bd9dffe2226e566b254e21f839787a9254ca48e856cb130cff'),\n",
       "  HexBytes('0xc52e71219c2b56c6410a5083695ec436d0be8c676307c6275badab67769725cc'),\n",
       "  HexBytes('0xc0677258246fb54c2b781addf3859d544d66578bbf2660a8edcd80279ac7e988'),\n",
       "  HexBytes('0x5b8f147a251cd54b335455a2c89e5e66b06378fa9917ff83f99a6ca855f8a98c'),\n",
       "  HexBytes('0xa0a23a09d79f5fbc368a3a44439930d7434973a526b68e61852f88d81d639b98'),\n",
       "  HexBytes('0x47e1f72a99503316c39b415b38585075344e74838dc5a02e6def7848982e2222'),\n",
       "  HexBytes('0x3c70b5ce367f19d9266e9df749d1c227880f6e7bba7ab49541bd476681fdc7a1'),\n",
       "  HexBytes('0x2174bd847b59aa6f62650188b323302f0c4b5c37426a0202dc21805ac4225616'),\n",
       "  HexBytes('0x8df5f1c37400365b294d5fdbfce5c12898f77b948c42d332e45c742a9890b277')],\n",
       " 'transactionsRoot': HexBytes('0x6e71d34eb78a51e460a997dcf619fc561b4f0120bd0a21dcd21f31f1a38c59c2'),\n",
       " 'uncles': []})"
      ]
     },
     "execution_count": 24,
     "metadata": {},
     "output_type": "execute_result"
    }
   ],
   "source": [
    "w3.eth.get_block('latest')"
   ]
  },
  {
   "cell_type": "markdown",
   "metadata": {},
   "source": [
    "### Get Balance of any address"
   ]
  },
  {
   "cell_type": "code",
   "execution_count": 8,
   "metadata": {
    "ExecuteTime": {
     "end_time": "2021-09-09T14:09:41.480717Z",
     "start_time": "2021-09-09T14:09:41.238706Z"
    }
   },
   "outputs": [
    {
     "data": {
      "text/plain": [
       "1870687915789800644919"
      ]
     },
     "execution_count": 8,
     "metadata": {},
     "output_type": "execute_result"
    }
   ],
   "source": [
    "address='0x829BD824B016326A401d083B33D092293333A830'\n",
    "w3.eth.getBalance(address)"
   ]
  },
  {
   "cell_type": "markdown",
   "metadata": {},
   "source": [
    "The balance returned is in Wei, convert to ether"
   ]
  },
  {
   "cell_type": "code",
   "execution_count": 10,
   "metadata": {
    "ExecuteTime": {
     "end_time": "2021-09-09T14:10:21.701722Z",
     "start_time": "2021-09-09T14:10:21.473825Z"
    }
   },
   "outputs": [
    {
     "name": "stdout",
     "output_type": "stream",
     "text": [
      "Balance of 0x829BD824B016326A401d083B33D092293333A830 : 1870.687915789800644919 ETH\n"
     ]
    }
   ],
   "source": [
    "balance=w3.eth.getBalance(address)\n",
    "balance=w3.fromWei(balance, 'ether')\n",
    "print(f'Balance of {address} : {balance} ETH')"
   ]
  },
  {
   "cell_type": "markdown",
   "metadata": {},
   "source": [
    "### Using ENS"
   ]
  },
  {
   "cell_type": "code",
   "execution_count": 14,
   "metadata": {
    "ExecuteTime": {
     "end_time": "2021-09-09T14:15:50.175346Z",
     "start_time": "2021-09-09T14:15:49.226186Z"
    }
   },
   "outputs": [
    {
     "data": {
      "text/plain": [
       "Decimal('7606.165097603995332514')"
      ]
     },
     "execution_count": 14,
     "metadata": {},
     "output_type": "execute_result"
    }
   ],
   "source": [
    "w3.fromWei(w3.eth.getBalance('vitalik.eth'),'ether')"
   ]
  },
  {
   "cell_type": "markdown",
   "metadata": {},
   "source": [
    "### View Transaction "
   ]
  },
  {
   "cell_type": "code",
   "execution_count": 11,
   "metadata": {
    "ExecuteTime": {
     "end_time": "2021-09-09T14:11:50.920787Z",
     "start_time": "2021-09-09T14:11:50.632782Z"
    }
   },
   "outputs": [
    {
     "data": {
      "text/plain": [
       "AttributeDict({'blockHash': HexBytes('0x1017097cea903a764601768a3b91189bebd618d6630cb1b10cf081db8de3c059'),\n",
       " 'blockNumber': 13191964,\n",
       " 'from': '0x4b52D120e5E46729E3eD836279283C1F7E8a81c2',\n",
       " 'gas': 241490,\n",
       " 'gasPrice': 247313772257,\n",
       " 'hash': HexBytes('0x35b3797ac78d5c6af4b0e15436a4ad401a8fdaebc5e8fe125b878015a6297f22'),\n",
       " 'input': '0x8803dbee00000000000000000000000000000000000000000000000d8d726b7177a8000000000000000000000000000000000000000000000000000000000004c39bcbb700000000000000000000000000000000000000000000000000000000000000a00000000000000000000000004b52d120e5e46729e3ed836279283c1f7e8a81c200000000000000000000000000000000000000000000000000000000613a1ba80000000000000000000000000000000000000000000000000000000000000003000000000000000000000000a0b86991c6218b36c1d19d4a2e9eb0ce3606eb48000000000000000000000000c02aaa39b223fe8d0a0e5c4f27ead9083c756cc200000000000000000000000050d1c9771902476076ecfc8b2a83ad6b9355a4c9',\n",
       " 'nonce': 333,\n",
       " 'r': HexBytes('0xb6ed332a7e71b9928f0cd9193908ba366872368f23337c1925d076392acdcbc3'),\n",
       " 's': HexBytes('0x16097ba91f3fb77e9eac2e65ef757ed99355aaabfbd338346c5bcc3994870298'),\n",
       " 'to': '0xd9e1cE17f2641f24aE83637ab66a2cca9C378B9F',\n",
       " 'transactionIndex': 1,\n",
       " 'type': '0x0',\n",
       " 'v': 37,\n",
       " 'value': 0})"
      ]
     },
     "execution_count": 11,
     "metadata": {},
     "output_type": "execute_result"
    }
   ],
   "source": [
    "tx_id='0x35b3797ac78d5c6af4b0e15436a4ad401a8fdaebc5e8fe125b878015a6297f22'\n",
    "w3.eth.getTransaction(tx_id)"
   ]
  },
  {
   "cell_type": "code",
   "execution_count": 13,
   "metadata": {
    "ExecuteTime": {
     "end_time": "2021-09-09T14:13:26.470889Z",
     "start_time": "2021-09-09T14:13:26.302769Z"
    }
   },
   "outputs": [
    {
     "data": {
      "text/plain": [
       "'0x4b52D120e5E46729E3eD836279283C1F7E8a81c2'"
      ]
     },
     "execution_count": 13,
     "metadata": {},
     "output_type": "execute_result"
    }
   ],
   "source": [
    "w3.eth.getTransaction(tx_id)['from']"
   ]
  },
  {
   "cell_type": "markdown",
   "metadata": {},
   "source": [
    "### Check address"
   ]
  },
  {
   "cell_type": "code",
   "execution_count": 88,
   "metadata": {
    "ExecuteTime": {
     "end_time": "2021-09-08T23:53:02.996952Z",
     "start_time": "2021-09-08T23:53:02.980959Z"
    }
   },
   "outputs": [
    {
     "data": {
      "text/plain": [
       "True"
      ]
     },
     "execution_count": 88,
     "metadata": {},
     "output_type": "execute_result"
    }
   ],
   "source": [
    "w3.isAddress('0x8fD00f170FDf3772C5ebdCD90bF257316c69BA45')"
   ]
  },
  {
   "cell_type": "code",
   "execution_count": 18,
   "metadata": {
    "ExecuteTime": {
     "end_time": "2021-09-09T14:17:02.317744Z",
     "start_time": "2021-09-09T14:17:02.298367Z"
    }
   },
   "outputs": [
    {
     "data": {
      "text/plain": [
       "True"
      ]
     },
     "execution_count": 18,
     "metadata": {},
     "output_type": "execute_result"
    }
   ],
   "source": [
    "w3.isChecksumAddress('0x8fD00f170FDf3772C5ebdCD90bF257316c69BA45')"
   ]
  },
  {
   "cell_type": "markdown",
   "metadata": {},
   "source": [
    "### To check sum address"
   ]
  },
  {
   "cell_type": "code",
   "execution_count": 25,
   "metadata": {
    "ExecuteTime": {
     "end_time": "2021-09-09T14:22:47.340567Z",
     "start_time": "2021-09-09T14:22:47.320849Z"
    }
   },
   "outputs": [
    {
     "data": {
      "text/plain": [
       "'0x829BD824B016326A401d083B33D092293333A830'"
      ]
     },
     "execution_count": 25,
     "metadata": {},
     "output_type": "execute_result"
    }
   ],
   "source": [
    "w3.toChecksumAddress('0x829bd824b016326a401d083b33d092293333a830')"
   ]
  },
  {
   "cell_type": "code",
   "execution_count": 28,
   "metadata": {
    "ExecuteTime": {
     "end_time": "2021-09-09T14:24:06.712106Z",
     "start_time": "2021-09-09T14:24:06.552400Z"
    }
   },
   "outputs": [
    {
     "data": {
      "text/plain": [
       "1886830359152635505583"
      ]
     },
     "execution_count": 28,
     "metadata": {},
     "output_type": "execute_result"
    }
   ],
   "source": [
    "address=w3.toChecksumAddress('0x829bd824b016326a401d083b33d092293333a830')\n",
    "w3.eth.get_balance(address)"
   ]
  },
  {
   "cell_type": "markdown",
   "metadata": {},
   "source": [
    "### Get ENS name"
   ]
  },
  {
   "cell_type": "code",
   "execution_count": 19,
   "metadata": {
    "ExecuteTime": {
     "end_time": "2021-09-09T14:18:09.647114Z",
     "start_time": "2021-09-09T14:18:08.959114Z"
    }
   },
   "outputs": [
    {
     "data": {
      "text/plain": [
       "'vitalik.eth'"
      ]
     },
     "execution_count": 19,
     "metadata": {},
     "output_type": "execute_result"
    }
   ],
   "source": [
    "w3.ens.name('0xd8da6bf26964af9d7eed9e03e53415d37aa96045')"
   ]
  },
  {
   "cell_type": "markdown",
   "metadata": {},
   "source": [
    "### Get address from ENS name"
   ]
  },
  {
   "cell_type": "code",
   "execution_count": 20,
   "metadata": {
    "ExecuteTime": {
     "end_time": "2021-09-09T14:18:51.410613Z",
     "start_time": "2021-09-09T14:18:50.781930Z"
    }
   },
   "outputs": [
    {
     "data": {
      "text/plain": [
       "'0xd8dA6BF26964aF9D7eEd9e03E53415D37aA96045'"
      ]
     },
     "execution_count": 20,
     "metadata": {},
     "output_type": "execute_result"
    }
   ],
   "source": [
    "w3.ens.address('vitalik.eth')"
   ]
  },
  {
   "cell_type": "markdown",
   "metadata": {},
   "source": [
    "### Get Gas Price"
   ]
  },
  {
   "cell_type": "code",
   "execution_count": 22,
   "metadata": {
    "ExecuteTime": {
     "end_time": "2021-09-09T14:19:22.901024Z",
     "start_time": "2021-09-09T14:19:22.742093Z"
    }
   },
   "outputs": [
    {
     "name": "stdout",
     "output_type": "stream",
     "text": [
      "163.719297552\n"
     ]
    }
   ],
   "source": [
    "print(w3.fromWei(w3.eth.gas_price,'gwei'))"
   ]
  },
  {
   "cell_type": "markdown",
   "metadata": {},
   "source": [
    "# Query Token (HEX)"
   ]
  },
  {
   "cell_type": "code",
   "execution_count": 29,
   "metadata": {
    "ExecuteTime": {
     "end_time": "2021-09-09T14:44:33.909022Z",
     "start_time": "2021-09-09T14:44:33.896539Z"
    }
   },
   "outputs": [],
   "source": [
    "import json"
   ]
  },
  {
   "cell_type": "code",
   "execution_count": 30,
   "metadata": {
    "ExecuteTime": {
     "end_time": "2021-09-09T14:44:34.432376Z",
     "start_time": "2021-09-09T14:44:34.416200Z"
    },
    "code_folding": [
     0
    ]
   },
   "outputs": [],
   "source": [
    "#abi and addrress\n",
    "abi=json.loads('[{\"inputs\":[],\"payable\":false,\"stateMutability\":\"nonpayable\",\"type\":\"constructor\"},{\"anonymous\":false,\"inputs\":[{\"indexed\":true,\"internalType\":\"address\",\"name\":\"owner\",\"type\":\"address\"},{\"indexed\":true,\"internalType\":\"address\",\"name\":\"spender\",\"type\":\"address\"},{\"indexed\":false,\"internalType\":\"uint256\",\"name\":\"value\",\"type\":\"uint256\"}],\"name\":\"Approval\",\"type\":\"event\"},{\"anonymous\":false,\"inputs\":[{\"indexed\":false,\"internalType\":\"uint256\",\"name\":\"data0\",\"type\":\"uint256\"},{\"indexed\":false,\"internalType\":\"uint256\",\"name\":\"data1\",\"type\":\"uint256\"},{\"indexed\":true,\"internalType\":\"bytes20\",\"name\":\"btcAddr\",\"type\":\"bytes20\"},{\"indexed\":true,\"internalType\":\"address\",\"name\":\"claimToAddr\",\"type\":\"address\"},{\"indexed\":true,\"internalType\":\"address\",\"name\":\"referrerAddr\",\"type\":\"address\"}],\"name\":\"Claim\",\"type\":\"event\"},{\"anonymous\":false,\"inputs\":[{\"indexed\":false,\"internalType\":\"uint256\",\"name\":\"data0\",\"type\":\"uint256\"},{\"indexed\":false,\"internalType\":\"uint256\",\"name\":\"data1\",\"type\":\"uint256\"},{\"indexed\":false,\"internalType\":\"uint256\",\"name\":\"data2\",\"type\":\"uint256\"},{\"indexed\":true,\"internalType\":\"address\",\"name\":\"senderAddr\",\"type\":\"address\"}],\"name\":\"ClaimAssist\",\"type\":\"event\"},{\"anonymous\":false,\"inputs\":[{\"indexed\":false,\"internalType\":\"uint256\",\"name\":\"data0\",\"type\":\"uint256\"},{\"indexed\":true,\"internalType\":\"address\",\"name\":\"updaterAddr\",\"type\":\"address\"}],\"name\":\"DailyDataUpdate\",\"type\":\"event\"},{\"anonymous\":false,\"inputs\":[{\"indexed\":false,\"internalType\":\"uint256\",\"name\":\"data0\",\"type\":\"uint256\"},{\"indexed\":true,\"internalType\":\"uint40\",\"name\":\"stakeId\",\"type\":\"uint40\"}],\"name\":\"ShareRateChange\",\"type\":\"event\"},{\"anonymous\":false,\"inputs\":[{\"indexed\":false,\"internalType\":\"uint256\",\"name\":\"data0\",\"type\":\"uint256\"},{\"indexed\":false,\"internalType\":\"uint256\",\"name\":\"data1\",\"type\":\"uint256\"},{\"indexed\":true,\"internalType\":\"address\",\"name\":\"stakerAddr\",\"type\":\"address\"},{\"indexed\":true,\"internalType\":\"uint40\",\"name\":\"stakeId\",\"type\":\"uint40\"}],\"name\":\"StakeEnd\",\"type\":\"event\"},{\"anonymous\":false,\"inputs\":[{\"indexed\":false,\"internalType\":\"uint256\",\"name\":\"data0\",\"type\":\"uint256\"},{\"indexed\":false,\"internalType\":\"uint256\",\"name\":\"data1\",\"type\":\"uint256\"},{\"indexed\":true,\"internalType\":\"address\",\"name\":\"stakerAddr\",\"type\":\"address\"},{\"indexed\":true,\"internalType\":\"uint40\",\"name\":\"stakeId\",\"type\":\"uint40\"},{\"indexed\":true,\"internalType\":\"address\",\"name\":\"senderAddr\",\"type\":\"address\"}],\"name\":\"StakeGoodAccounting\",\"type\":\"event\"},{\"anonymous\":false,\"inputs\":[{\"indexed\":false,\"internalType\":\"uint256\",\"name\":\"data0\",\"type\":\"uint256\"},{\"indexed\":true,\"internalType\":\"address\",\"name\":\"stakerAddr\",\"type\":\"address\"},{\"indexed\":true,\"internalType\":\"uint40\",\"name\":\"stakeId\",\"type\":\"uint40\"}],\"name\":\"StakeStart\",\"type\":\"event\"},{\"anonymous\":false,\"inputs\":[{\"indexed\":true,\"internalType\":\"address\",\"name\":\"from\",\"type\":\"address\"},{\"indexed\":true,\"internalType\":\"address\",\"name\":\"to\",\"type\":\"address\"},{\"indexed\":false,\"internalType\":\"uint256\",\"name\":\"value\",\"type\":\"uint256\"}],\"name\":\"Transfer\",\"type\":\"event\"},{\"anonymous\":false,\"inputs\":[{\"indexed\":false,\"internalType\":\"uint256\",\"name\":\"data0\",\"type\":\"uint256\"},{\"indexed\":true,\"internalType\":\"address\",\"name\":\"memberAddr\",\"type\":\"address\"},{\"indexed\":true,\"internalType\":\"uint256\",\"name\":\"entryId\",\"type\":\"uint256\"},{\"indexed\":true,\"internalType\":\"address\",\"name\":\"referrerAddr\",\"type\":\"address\"}],\"name\":\"XfLobbyEnter\",\"type\":\"event\"},{\"anonymous\":false,\"inputs\":[{\"indexed\":false,\"internalType\":\"uint256\",\"name\":\"data0\",\"type\":\"uint256\"},{\"indexed\":true,\"internalType\":\"address\",\"name\":\"memberAddr\",\"type\":\"address\"},{\"indexed\":true,\"internalType\":\"uint256\",\"name\":\"entryId\",\"type\":\"uint256\"},{\"indexed\":true,\"internalType\":\"address\",\"name\":\"referrerAddr\",\"type\":\"address\"}],\"name\":\"XfLobbyExit\",\"type\":\"event\"},{\"payable\":true,\"stateMutability\":\"payable\",\"type\":\"fallback\"},{\"constant\":true,\"inputs\":[],\"name\":\"allocatedSupply\",\"outputs\":[{\"internalType\":\"uint256\",\"name\":\"\",\"type\":\"uint256\"}],\"payable\":false,\"stateMutability\":\"view\",\"type\":\"function\"},{\"constant\":true,\"inputs\":[{\"internalType\":\"address\",\"name\":\"owner\",\"type\":\"address\"},{\"internalType\":\"address\",\"name\":\"spender\",\"type\":\"address\"}],\"name\":\"allowance\",\"outputs\":[{\"internalType\":\"uint256\",\"name\":\"\",\"type\":\"uint256\"}],\"payable\":false,\"stateMutability\":\"view\",\"type\":\"function\"},{\"constant\":false,\"inputs\":[{\"internalType\":\"address\",\"name\":\"spender\",\"type\":\"address\"},{\"internalType\":\"uint256\",\"name\":\"amount\",\"type\":\"uint256\"}],\"name\":\"approve\",\"outputs\":[{\"internalType\":\"bool\",\"name\":\"\",\"type\":\"bool\"}],\"payable\":false,\"stateMutability\":\"nonpayable\",\"type\":\"function\"},{\"constant\":true,\"inputs\":[{\"internalType\":\"address\",\"name\":\"account\",\"type\":\"address\"}],\"name\":\"balanceOf\",\"outputs\":[{\"internalType\":\"uint256\",\"name\":\"\",\"type\":\"uint256\"}],\"payable\":false,\"stateMutability\":\"view\",\"type\":\"function\"},{\"constant\":false,\"inputs\":[{\"internalType\":\"uint256\",\"name\":\"rawSatoshis\",\"type\":\"uint256\"},{\"internalType\":\"bytes32[]\",\"name\":\"proof\",\"type\":\"bytes32[]\"},{\"internalType\":\"address\",\"name\":\"claimToAddr\",\"type\":\"address\"},{\"internalType\":\"bytes32\",\"name\":\"pubKeyX\",\"type\":\"bytes32\"},{\"internalType\":\"bytes32\",\"name\":\"pubKeyY\",\"type\":\"bytes32\"},{\"internalType\":\"uint8\",\"name\":\"claimFlags\",\"type\":\"uint8\"},{\"internalType\":\"uint8\",\"name\":\"v\",\"type\":\"uint8\"},{\"internalType\":\"bytes32\",\"name\":\"r\",\"type\":\"bytes32\"},{\"internalType\":\"bytes32\",\"name\":\"s\",\"type\":\"bytes32\"},{\"internalType\":\"uint256\",\"name\":\"autoStakeDays\",\"type\":\"uint256\"},{\"internalType\":\"address\",\"name\":\"referrerAddr\",\"type\":\"address\"}],\"name\":\"btcAddressClaim\",\"outputs\":[{\"internalType\":\"uint256\",\"name\":\"\",\"type\":\"uint256\"}],\"payable\":false,\"stateMutability\":\"nonpayable\",\"type\":\"function\"},{\"constant\":true,\"inputs\":[{\"internalType\":\"bytes20\",\"name\":\"\",\"type\":\"bytes20\"}],\"name\":\"btcAddressClaims\",\"outputs\":[{\"internalType\":\"bool\",\"name\":\"\",\"type\":\"bool\"}],\"payable\":false,\"stateMutability\":\"view\",\"type\":\"function\"},{\"constant\":true,\"inputs\":[{\"internalType\":\"bytes20\",\"name\":\"btcAddr\",\"type\":\"bytes20\"},{\"internalType\":\"uint256\",\"name\":\"rawSatoshis\",\"type\":\"uint256\"},{\"internalType\":\"bytes32[]\",\"name\":\"proof\",\"type\":\"bytes32[]\"}],\"name\":\"btcAddressIsClaimable\",\"outputs\":[{\"internalType\":\"bool\",\"name\":\"\",\"type\":\"bool\"}],\"payable\":false,\"stateMutability\":\"view\",\"type\":\"function\"},{\"constant\":true,\"inputs\":[{\"internalType\":\"bytes20\",\"name\":\"btcAddr\",\"type\":\"bytes20\"},{\"internalType\":\"uint256\",\"name\":\"rawSatoshis\",\"type\":\"uint256\"},{\"internalType\":\"bytes32[]\",\"name\":\"proof\",\"type\":\"bytes32[]\"}],\"name\":\"btcAddressIsValid\",\"outputs\":[{\"internalType\":\"bool\",\"name\":\"\",\"type\":\"bool\"}],\"payable\":false,\"stateMutability\":\"pure\",\"type\":\"function\"},{\"constant\":true,\"inputs\":[{\"internalType\":\"address\",\"name\":\"claimToAddr\",\"type\":\"address\"},{\"internalType\":\"bytes32\",\"name\":\"claimParamHash\",\"type\":\"bytes32\"},{\"internalType\":\"bytes32\",\"name\":\"pubKeyX\",\"type\":\"bytes32\"},{\"internalType\":\"bytes32\",\"name\":\"pubKeyY\",\"type\":\"bytes32\"},{\"internalType\":\"uint8\",\"name\":\"claimFlags\",\"type\":\"uint8\"},{\"internalType\":\"uint8\",\"name\":\"v\",\"type\":\"uint8\"},{\"internalType\":\"bytes32\",\"name\":\"r\",\"type\":\"bytes32\"},{\"internalType\":\"bytes32\",\"name\":\"s\",\"type\":\"bytes32\"}],\"name\":\"claimMessageMatchesSignature\",\"outputs\":[{\"internalType\":\"bool\",\"name\":\"\",\"type\":\"bool\"}],\"payable\":false,\"stateMutability\":\"pure\",\"type\":\"function\"},{\"constant\":true,\"inputs\":[],\"name\":\"currentDay\",\"outputs\":[{\"internalType\":\"uint256\",\"name\":\"\",\"type\":\"uint256\"}],\"payable\":false,\"stateMutability\":\"view\",\"type\":\"function\"},{\"constant\":true,\"inputs\":[{\"internalType\":\"uint256\",\"name\":\"\",\"type\":\"uint256\"}],\"name\":\"dailyData\",\"outputs\":[{\"internalType\":\"uint72\",\"name\":\"dayPayoutTotal\",\"type\":\"uint72\"},{\"internalType\":\"uint72\",\"name\":\"dayStakeSharesTotal\",\"type\":\"uint72\"},{\"internalType\":\"uint56\",\"name\":\"dayUnclaimedSatoshisTotal\",\"type\":\"uint56\"}],\"payable\":false,\"stateMutability\":\"view\",\"type\":\"function\"},{\"constant\":true,\"inputs\":[{\"internalType\":\"uint256\",\"name\":\"beginDay\",\"type\":\"uint256\"},{\"internalType\":\"uint256\",\"name\":\"endDay\",\"type\":\"uint256\"}],\"name\":\"dailyDataRange\",\"outputs\":[{\"internalType\":\"uint256[]\",\"name\":\"list\",\"type\":\"uint256[]\"}],\"payable\":false,\"stateMutability\":\"view\",\"type\":\"function\"},{\"constant\":false,\"inputs\":[{\"internalType\":\"uint256\",\"name\":\"beforeDay\",\"type\":\"uint256\"}],\"name\":\"dailyDataUpdate\",\"outputs\":[],\"payable\":false,\"stateMutability\":\"nonpayable\",\"type\":\"function\"},{\"constant\":true,\"inputs\":[],\"name\":\"decimals\",\"outputs\":[{\"internalType\":\"uint8\",\"name\":\"\",\"type\":\"uint8\"}],\"payable\":false,\"stateMutability\":\"view\",\"type\":\"function\"},{\"constant\":false,\"inputs\":[{\"internalType\":\"address\",\"name\":\"spender\",\"type\":\"address\"},{\"internalType\":\"uint256\",\"name\":\"subtractedValue\",\"type\":\"uint256\"}],\"name\":\"decreaseAllowance\",\"outputs\":[{\"internalType\":\"bool\",\"name\":\"\",\"type\":\"bool\"}],\"payable\":false,\"stateMutability\":\"nonpayable\",\"type\":\"function\"},{\"constant\":true,\"inputs\":[],\"name\":\"globalInfo\",\"outputs\":[{\"internalType\":\"uint256[13]\",\"name\":\"\",\"type\":\"uint256[13]\"}],\"payable\":false,\"stateMutability\":\"view\",\"type\":\"function\"},{\"constant\":true,\"inputs\":[],\"name\":\"globals\",\"outputs\":[{\"internalType\":\"uint72\",\"name\":\"lockedHeartsTotal\",\"type\":\"uint72\"},{\"internalType\":\"uint72\",\"name\":\"nextStakeSharesTotal\",\"type\":\"uint72\"},{\"internalType\":\"uint40\",\"name\":\"shareRate\",\"type\":\"uint40\"},{\"internalType\":\"uint72\",\"name\":\"stakePenaltyTotal\",\"type\":\"uint72\"},{\"internalType\":\"uint16\",\"name\":\"dailyDataCount\",\"type\":\"uint16\"},{\"internalType\":\"uint72\",\"name\":\"stakeSharesTotal\",\"type\":\"uint72\"},{\"internalType\":\"uint40\",\"name\":\"latestStakeId\",\"type\":\"uint40\"},{\"internalType\":\"uint128\",\"name\":\"claimStats\",\"type\":\"uint128\"}],\"payable\":false,\"stateMutability\":\"view\",\"type\":\"function\"},{\"constant\":false,\"inputs\":[{\"internalType\":\"address\",\"name\":\"spender\",\"type\":\"address\"},{\"internalType\":\"uint256\",\"name\":\"addedValue\",\"type\":\"uint256\"}],\"name\":\"increaseAllowance\",\"outputs\":[{\"internalType\":\"bool\",\"name\":\"\",\"type\":\"bool\"}],\"payable\":false,\"stateMutability\":\"nonpayable\",\"type\":\"function\"},{\"constant\":true,\"inputs\":[{\"internalType\":\"bytes32\",\"name\":\"merkleLeaf\",\"type\":\"bytes32\"},{\"internalType\":\"bytes32[]\",\"name\":\"proof\",\"type\":\"bytes32[]\"}],\"name\":\"merkleProofIsValid\",\"outputs\":[{\"internalType\":\"bool\",\"name\":\"\",\"type\":\"bool\"}],\"payable\":false,\"stateMutability\":\"pure\",\"type\":\"function\"},{\"constant\":true,\"inputs\":[],\"name\":\"name\",\"outputs\":[{\"internalType\":\"string\",\"name\":\"\",\"type\":\"string\"}],\"payable\":false,\"stateMutability\":\"view\",\"type\":\"function\"},{\"constant\":true,\"inputs\":[{\"internalType\":\"bytes32\",\"name\":\"pubKeyX\",\"type\":\"bytes32\"},{\"internalType\":\"bytes32\",\"name\":\"pubKeyY\",\"type\":\"bytes32\"},{\"internalType\":\"uint8\",\"name\":\"claimFlags\",\"type\":\"uint8\"}],\"name\":\"pubKeyToBtcAddress\",\"outputs\":[{\"internalType\":\"bytes20\",\"name\":\"\",\"type\":\"bytes20\"}],\"payable\":false,\"stateMutability\":\"pure\",\"type\":\"function\"},{\"constant\":true,\"inputs\":[{\"internalType\":\"bytes32\",\"name\":\"pubKeyX\",\"type\":\"bytes32\"},{\"internalType\":\"bytes32\",\"name\":\"pubKeyY\",\"type\":\"bytes32\"}],\"name\":\"pubKeyToEthAddress\",\"outputs\":[{\"internalType\":\"address\",\"name\":\"\",\"type\":\"address\"}],\"payable\":false,\"stateMutability\":\"pure\",\"type\":\"function\"},{\"constant\":true,\"inputs\":[{\"internalType\":\"address\",\"name\":\"stakerAddr\",\"type\":\"address\"}],\"name\":\"stakeCount\",\"outputs\":[{\"internalType\":\"uint256\",\"name\":\"\",\"type\":\"uint256\"}],\"payable\":false,\"stateMutability\":\"view\",\"type\":\"function\"},{\"constant\":false,\"inputs\":[{\"internalType\":\"uint256\",\"name\":\"stakeIndex\",\"type\":\"uint256\"},{\"internalType\":\"uint40\",\"name\":\"stakeIdParam\",\"type\":\"uint40\"}],\"name\":\"stakeEnd\",\"outputs\":[],\"payable\":false,\"stateMutability\":\"nonpayable\",\"type\":\"function\"},{\"constant\":false,\"inputs\":[{\"internalType\":\"address\",\"name\":\"stakerAddr\",\"type\":\"address\"},{\"internalType\":\"uint256\",\"name\":\"stakeIndex\",\"type\":\"uint256\"},{\"internalType\":\"uint40\",\"name\":\"stakeIdParam\",\"type\":\"uint40\"}],\"name\":\"stakeGoodAccounting\",\"outputs\":[],\"payable\":false,\"stateMutability\":\"nonpayable\",\"type\":\"function\"},{\"constant\":true,\"inputs\":[{\"internalType\":\"address\",\"name\":\"\",\"type\":\"address\"},{\"internalType\":\"uint256\",\"name\":\"\",\"type\":\"uint256\"}],\"name\":\"stakeLists\",\"outputs\":[{\"internalType\":\"uint40\",\"name\":\"stakeId\",\"type\":\"uint40\"},{\"internalType\":\"uint72\",\"name\":\"stakedHearts\",\"type\":\"uint72\"},{\"internalType\":\"uint72\",\"name\":\"stakeShares\",\"type\":\"uint72\"},{\"internalType\":\"uint16\",\"name\":\"lockedDay\",\"type\":\"uint16\"},{\"internalType\":\"uint16\",\"name\":\"stakedDays\",\"type\":\"uint16\"},{\"internalType\":\"uint16\",\"name\":\"unlockedDay\",\"type\":\"uint16\"},{\"internalType\":\"bool\",\"name\":\"isAutoStake\",\"type\":\"bool\"}],\"payable\":false,\"stateMutability\":\"view\",\"type\":\"function\"},{\"constant\":false,\"inputs\":[{\"internalType\":\"uint256\",\"name\":\"newStakedHearts\",\"type\":\"uint256\"},{\"internalType\":\"uint256\",\"name\":\"newStakedDays\",\"type\":\"uint256\"}],\"name\":\"stakeStart\",\"outputs\":[],\"payable\":false,\"stateMutability\":\"nonpayable\",\"type\":\"function\"},{\"constant\":true,\"inputs\":[],\"name\":\"symbol\",\"outputs\":[{\"internalType\":\"string\",\"name\":\"\",\"type\":\"string\"}],\"payable\":false,\"stateMutability\":\"view\",\"type\":\"function\"},{\"constant\":true,\"inputs\":[],\"name\":\"totalSupply\",\"outputs\":[{\"internalType\":\"uint256\",\"name\":\"\",\"type\":\"uint256\"}],\"payable\":false,\"stateMutability\":\"view\",\"type\":\"function\"},{\"constant\":false,\"inputs\":[{\"internalType\":\"address\",\"name\":\"recipient\",\"type\":\"address\"},{\"internalType\":\"uint256\",\"name\":\"amount\",\"type\":\"uint256\"}],\"name\":\"transfer\",\"outputs\":[{\"internalType\":\"bool\",\"name\":\"\",\"type\":\"bool\"}],\"payable\":false,\"stateMutability\":\"nonpayable\",\"type\":\"function\"},{\"constant\":false,\"inputs\":[{\"internalType\":\"address\",\"name\":\"sender\",\"type\":\"address\"},{\"internalType\":\"address\",\"name\":\"recipient\",\"type\":\"address\"},{\"internalType\":\"uint256\",\"name\":\"amount\",\"type\":\"uint256\"}],\"name\":\"transferFrom\",\"outputs\":[{\"internalType\":\"bool\",\"name\":\"\",\"type\":\"bool\"}],\"payable\":false,\"stateMutability\":\"nonpayable\",\"type\":\"function\"},{\"constant\":true,\"inputs\":[{\"internalType\":\"uint256\",\"name\":\"\",\"type\":\"uint256\"}],\"name\":\"xfLobby\",\"outputs\":[{\"internalType\":\"uint256\",\"name\":\"\",\"type\":\"uint256\"}],\"payable\":false,\"stateMutability\":\"view\",\"type\":\"function\"},{\"constant\":false,\"inputs\":[{\"internalType\":\"address\",\"name\":\"referrerAddr\",\"type\":\"address\"}],\"name\":\"xfLobbyEnter\",\"outputs\":[],\"payable\":true,\"stateMutability\":\"payable\",\"type\":\"function\"},{\"constant\":true,\"inputs\":[{\"internalType\":\"address\",\"name\":\"memberAddr\",\"type\":\"address\"},{\"internalType\":\"uint256\",\"name\":\"entryId\",\"type\":\"uint256\"}],\"name\":\"xfLobbyEntry\",\"outputs\":[{\"internalType\":\"uint256\",\"name\":\"rawAmount\",\"type\":\"uint256\"},{\"internalType\":\"address\",\"name\":\"referrerAddr\",\"type\":\"address\"}],\"payable\":false,\"stateMutability\":\"view\",\"type\":\"function\"},{\"constant\":false,\"inputs\":[{\"internalType\":\"uint256\",\"name\":\"enterDay\",\"type\":\"uint256\"},{\"internalType\":\"uint256\",\"name\":\"count\",\"type\":\"uint256\"}],\"name\":\"xfLobbyExit\",\"outputs\":[],\"payable\":false,\"stateMutability\":\"nonpayable\",\"type\":\"function\"},{\"constant\":false,\"inputs\":[],\"name\":\"xfLobbyFlush\",\"outputs\":[],\"payable\":false,\"stateMutability\":\"nonpayable\",\"type\":\"function\"},{\"constant\":true,\"inputs\":[{\"internalType\":\"uint256\",\"name\":\"\",\"type\":\"uint256\"},{\"internalType\":\"address\",\"name\":\"\",\"type\":\"address\"}],\"name\":\"xfLobbyMembers\",\"outputs\":[{\"internalType\":\"uint40\",\"name\":\"headIndex\",\"type\":\"uint40\"},{\"internalType\":\"uint40\",\"name\":\"tailIndex\",\"type\":\"uint40\"}],\"payable\":false,\"stateMutability\":\"view\",\"type\":\"function\"},{\"constant\":true,\"inputs\":[{\"internalType\":\"address\",\"name\":\"memberAddr\",\"type\":\"address\"}],\"name\":\"xfLobbyPendingDays\",\"outputs\":[{\"internalType\":\"uint256[2]\",\"name\":\"words\",\"type\":\"uint256[2]\"}],\"payable\":false,\"stateMutability\":\"view\",\"type\":\"function\"},{\"constant\":true,\"inputs\":[{\"internalType\":\"uint256\",\"name\":\"beginDay\",\"type\":\"uint256\"},{\"internalType\":\"uint256\",\"name\":\"endDay\",\"type\":\"uint256\"}],\"name\":\"xfLobbyRange\",\"outputs\":[{\"internalType\":\"uint256[]\",\"name\":\"list\",\"type\":\"uint256[]\"}],\"payable\":false,\"stateMutability\":\"view\",\"type\":\"function\"}]')\n",
    "address=\"0x2b591e99afe9f32eaa6214f7b7629768c40eeb39\""
   ]
  },
  {
   "cell_type": "code",
   "execution_count": 31,
   "metadata": {
    "ExecuteTime": {
     "end_time": "2021-09-09T14:44:35.149862Z",
     "start_time": "2021-09-09T14:44:35.133853Z"
    }
   },
   "outputs": [],
   "source": [
    "address=Web3.toChecksumAddress(address)"
   ]
  },
  {
   "cell_type": "code",
   "execution_count": 32,
   "metadata": {
    "ExecuteTime": {
     "end_time": "2021-09-09T14:44:35.829657Z",
     "start_time": "2021-09-09T14:44:35.796838Z"
    }
   },
   "outputs": [],
   "source": [
    "contract=w3.eth.contract(address=address, abi=abi)"
   ]
  },
  {
   "cell_type": "markdown",
   "metadata": {},
   "source": [
    "### Metadata"
   ]
  },
  {
   "cell_type": "code",
   "execution_count": 33,
   "metadata": {
    "ExecuteTime": {
     "end_time": "2021-09-09T14:44:37.536157Z",
     "start_time": "2021-09-09T14:44:37.077011Z"
    }
   },
   "outputs": [
    {
     "name": "stdout",
     "output_type": "stream",
     "text": [
      "Name : HEX\n",
      "Symbol : HEX\n",
      "Decimals : 8\n"
     ]
    }
   ],
   "source": [
    "print('Name :', contract.functions.name().call())\n",
    "symbol=contract.functions.symbol().call()\n",
    "print('Symbol :', symbol)\n",
    "print('Decimals :',contract.functions.decimals().call())"
   ]
  },
  {
   "cell_type": "markdown",
   "metadata": {},
   "source": [
    "### Total Supply"
   ]
  },
  {
   "cell_type": "code",
   "execution_count": 34,
   "metadata": {
    "ExecuteTime": {
     "end_time": "2021-09-09T14:44:41.844000Z",
     "start_time": "2021-09-09T14:44:41.270838Z"
    }
   },
   "outputs": [
    {
     "name": "stdout",
     "output_type": "stream",
     "text": [
      "Total Supply : 572528097560.1211 HEX\n"
     ]
    }
   ],
   "source": [
    "dec=contract.functions.decimals().call()\n",
    "dec=10**dec\n",
    "supply=contract.functions.totalSupply().call()/dec\n",
    "print(f'Total Supply : {supply} {symbol}')"
   ]
  },
  {
   "cell_type": "markdown",
   "metadata": {},
   "source": [
    "### Tokens with the contract"
   ]
  },
  {
   "cell_type": "code",
   "execution_count": 35,
   "metadata": {
    "ExecuteTime": {
     "end_time": "2021-09-09T14:44:43.964552Z",
     "start_time": "2021-09-09T14:44:43.269887Z"
    }
   },
   "outputs": [
    {
     "name": "stdout",
     "output_type": "stream",
     "text": [
      "Tokens with the contract : 27143496.89378782 HEX\n"
     ]
    }
   ],
   "source": [
    "temp=contract.functions.balanceOf(address).call()/dec\n",
    "print(f\"Tokens with the contract : {temp} {symbol}\")"
   ]
  },
  {
   "cell_type": "markdown",
   "metadata": {},
   "source": [
    "### Token Balance of Holder"
   ]
  },
  {
   "cell_type": "code",
   "execution_count": 36,
   "metadata": {
    "ExecuteTime": {
     "end_time": "2021-09-09T14:44:48.966445Z",
     "start_time": "2021-09-09T14:44:48.604520Z"
    }
   },
   "outputs": [
    {
     "name": "stdout",
     "output_type": "stream",
     "text": [
      "Tokens with 0xBC610372632700d096763520B789DCeA3E7F2294 : 3.03076228 HEX\n"
     ]
    }
   ],
   "source": [
    "q_address=w3.toChecksumAddress('0xBC610372632700d096763520B789DCeA3E7F2294')\n",
    "temp=contract.functions.balanceOf(q_address).call()/dec\n",
    "print(f\"Tokens with {q_address} : {temp} {symbol}\")"
   ]
  },
  {
   "cell_type": "markdown",
   "metadata": {},
   "source": [
    "# Query Tether USD"
   ]
  },
  {
   "cell_type": "code",
   "execution_count": 37,
   "metadata": {
    "ExecuteTime": {
     "end_time": "2021-09-09T14:44:51.937173Z",
     "start_time": "2021-09-09T14:44:51.916908Z"
    },
    "code_folding": [
     0
    ]
   },
   "outputs": [],
   "source": [
    "#Get address and abi\n",
    "address='0xdac17f958d2ee523a2206206994597c13d831ec7'\n",
    "abi=json.loads('[{\"constant\":true,\"inputs\":[],\"name\":\"name\",\"outputs\":[{\"name\":\"\",\"type\":\"string\"}],\"payable\":false,\"stateMutability\":\"view\",\"type\":\"function\"},{\"constant\":false,\"inputs\":[{\"name\":\"_upgradedAddress\",\"type\":\"address\"}],\"name\":\"deprecate\",\"outputs\":[],\"payable\":false,\"stateMutability\":\"nonpayable\",\"type\":\"function\"},{\"constant\":false,\"inputs\":[{\"name\":\"_spender\",\"type\":\"address\"},{\"name\":\"_value\",\"type\":\"uint256\"}],\"name\":\"approve\",\"outputs\":[],\"payable\":false,\"stateMutability\":\"nonpayable\",\"type\":\"function\"},{\"constant\":true,\"inputs\":[],\"name\":\"deprecated\",\"outputs\":[{\"name\":\"\",\"type\":\"bool\"}],\"payable\":false,\"stateMutability\":\"view\",\"type\":\"function\"},{\"constant\":false,\"inputs\":[{\"name\":\"_evilUser\",\"type\":\"address\"}],\"name\":\"addBlackList\",\"outputs\":[],\"payable\":false,\"stateMutability\":\"nonpayable\",\"type\":\"function\"},{\"constant\":true,\"inputs\":[],\"name\":\"totalSupply\",\"outputs\":[{\"name\":\"\",\"type\":\"uint256\"}],\"payable\":false,\"stateMutability\":\"view\",\"type\":\"function\"},{\"constant\":false,\"inputs\":[{\"name\":\"_from\",\"type\":\"address\"},{\"name\":\"_to\",\"type\":\"address\"},{\"name\":\"_value\",\"type\":\"uint256\"}],\"name\":\"transferFrom\",\"outputs\":[],\"payable\":false,\"stateMutability\":\"nonpayable\",\"type\":\"function\"},{\"constant\":true,\"inputs\":[],\"name\":\"upgradedAddress\",\"outputs\":[{\"name\":\"\",\"type\":\"address\"}],\"payable\":false,\"stateMutability\":\"view\",\"type\":\"function\"},{\"constant\":true,\"inputs\":[{\"name\":\"\",\"type\":\"address\"}],\"name\":\"balances\",\"outputs\":[{\"name\":\"\",\"type\":\"uint256\"}],\"payable\":false,\"stateMutability\":\"view\",\"type\":\"function\"},{\"constant\":true,\"inputs\":[],\"name\":\"decimals\",\"outputs\":[{\"name\":\"\",\"type\":\"uint256\"}],\"payable\":false,\"stateMutability\":\"view\",\"type\":\"function\"},{\"constant\":true,\"inputs\":[],\"name\":\"maximumFee\",\"outputs\":[{\"name\":\"\",\"type\":\"uint256\"}],\"payable\":false,\"stateMutability\":\"view\",\"type\":\"function\"},{\"constant\":true,\"inputs\":[],\"name\":\"_totalSupply\",\"outputs\":[{\"name\":\"\",\"type\":\"uint256\"}],\"payable\":false,\"stateMutability\":\"view\",\"type\":\"function\"},{\"constant\":false,\"inputs\":[],\"name\":\"unpause\",\"outputs\":[],\"payable\":false,\"stateMutability\":\"nonpayable\",\"type\":\"function\"},{\"constant\":true,\"inputs\":[{\"name\":\"_maker\",\"type\":\"address\"}],\"name\":\"getBlackListStatus\",\"outputs\":[{\"name\":\"\",\"type\":\"bool\"}],\"payable\":false,\"stateMutability\":\"view\",\"type\":\"function\"},{\"constant\":true,\"inputs\":[{\"name\":\"\",\"type\":\"address\"},{\"name\":\"\",\"type\":\"address\"}],\"name\":\"allowed\",\"outputs\":[{\"name\":\"\",\"type\":\"uint256\"}],\"payable\":false,\"stateMutability\":\"view\",\"type\":\"function\"},{\"constant\":true,\"inputs\":[],\"name\":\"paused\",\"outputs\":[{\"name\":\"\",\"type\":\"bool\"}],\"payable\":false,\"stateMutability\":\"view\",\"type\":\"function\"},{\"constant\":true,\"inputs\":[{\"name\":\"who\",\"type\":\"address\"}],\"name\":\"balanceOf\",\"outputs\":[{\"name\":\"\",\"type\":\"uint256\"}],\"payable\":false,\"stateMutability\":\"view\",\"type\":\"function\"},{\"constant\":false,\"inputs\":[],\"name\":\"pause\",\"outputs\":[],\"payable\":false,\"stateMutability\":\"nonpayable\",\"type\":\"function\"},{\"constant\":true,\"inputs\":[],\"name\":\"getOwner\",\"outputs\":[{\"name\":\"\",\"type\":\"address\"}],\"payable\":false,\"stateMutability\":\"view\",\"type\":\"function\"},{\"constant\":true,\"inputs\":[],\"name\":\"owner\",\"outputs\":[{\"name\":\"\",\"type\":\"address\"}],\"payable\":false,\"stateMutability\":\"view\",\"type\":\"function\"},{\"constant\":true,\"inputs\":[],\"name\":\"symbol\",\"outputs\":[{\"name\":\"\",\"type\":\"string\"}],\"payable\":false,\"stateMutability\":\"view\",\"type\":\"function\"},{\"constant\":false,\"inputs\":[{\"name\":\"_to\",\"type\":\"address\"},{\"name\":\"_value\",\"type\":\"uint256\"}],\"name\":\"transfer\",\"outputs\":[],\"payable\":false,\"stateMutability\":\"nonpayable\",\"type\":\"function\"},{\"constant\":false,\"inputs\":[{\"name\":\"newBasisPoints\",\"type\":\"uint256\"},{\"name\":\"newMaxFee\",\"type\":\"uint256\"}],\"name\":\"setParams\",\"outputs\":[],\"payable\":false,\"stateMutability\":\"nonpayable\",\"type\":\"function\"},{\"constant\":false,\"inputs\":[{\"name\":\"amount\",\"type\":\"uint256\"}],\"name\":\"issue\",\"outputs\":[],\"payable\":false,\"stateMutability\":\"nonpayable\",\"type\":\"function\"},{\"constant\":false,\"inputs\":[{\"name\":\"amount\",\"type\":\"uint256\"}],\"name\":\"redeem\",\"outputs\":[],\"payable\":false,\"stateMutability\":\"nonpayable\",\"type\":\"function\"},{\"constant\":true,\"inputs\":[{\"name\":\"_owner\",\"type\":\"address\"},{\"name\":\"_spender\",\"type\":\"address\"}],\"name\":\"allowance\",\"outputs\":[{\"name\":\"remaining\",\"type\":\"uint256\"}],\"payable\":false,\"stateMutability\":\"view\",\"type\":\"function\"},{\"constant\":true,\"inputs\":[],\"name\":\"basisPointsRate\",\"outputs\":[{\"name\":\"\",\"type\":\"uint256\"}],\"payable\":false,\"stateMutability\":\"view\",\"type\":\"function\"},{\"constant\":true,\"inputs\":[{\"name\":\"\",\"type\":\"address\"}],\"name\":\"isBlackListed\",\"outputs\":[{\"name\":\"\",\"type\":\"bool\"}],\"payable\":false,\"stateMutability\":\"view\",\"type\":\"function\"},{\"constant\":false,\"inputs\":[{\"name\":\"_clearedUser\",\"type\":\"address\"}],\"name\":\"removeBlackList\",\"outputs\":[],\"payable\":false,\"stateMutability\":\"nonpayable\",\"type\":\"function\"},{\"constant\":true,\"inputs\":[],\"name\":\"MAX_UINT\",\"outputs\":[{\"name\":\"\",\"type\":\"uint256\"}],\"payable\":false,\"stateMutability\":\"view\",\"type\":\"function\"},{\"constant\":false,\"inputs\":[{\"name\":\"newOwner\",\"type\":\"address\"}],\"name\":\"transferOwnership\",\"outputs\":[],\"payable\":false,\"stateMutability\":\"nonpayable\",\"type\":\"function\"},{\"constant\":false,\"inputs\":[{\"name\":\"_blackListedUser\",\"type\":\"address\"}],\"name\":\"destroyBlackFunds\",\"outputs\":[],\"payable\":false,\"stateMutability\":\"nonpayable\",\"type\":\"function\"},{\"inputs\":[{\"name\":\"_initialSupply\",\"type\":\"uint256\"},{\"name\":\"_name\",\"type\":\"string\"},{\"name\":\"_symbol\",\"type\":\"string\"},{\"name\":\"_decimals\",\"type\":\"uint256\"}],\"payable\":false,\"stateMutability\":\"nonpayable\",\"type\":\"constructor\"},{\"anonymous\":false,\"inputs\":[{\"indexed\":false,\"name\":\"amount\",\"type\":\"uint256\"}],\"name\":\"Issue\",\"type\":\"event\"},{\"anonymous\":false,\"inputs\":[{\"indexed\":false,\"name\":\"amount\",\"type\":\"uint256\"}],\"name\":\"Redeem\",\"type\":\"event\"},{\"anonymous\":false,\"inputs\":[{\"indexed\":false,\"name\":\"newAddress\",\"type\":\"address\"}],\"name\":\"Deprecate\",\"type\":\"event\"},{\"anonymous\":false,\"inputs\":[{\"indexed\":false,\"name\":\"feeBasisPoints\",\"type\":\"uint256\"},{\"indexed\":false,\"name\":\"maxFee\",\"type\":\"uint256\"}],\"name\":\"Params\",\"type\":\"event\"},{\"anonymous\":false,\"inputs\":[{\"indexed\":false,\"name\":\"_blackListedUser\",\"type\":\"address\"},{\"indexed\":false,\"name\":\"_balance\",\"type\":\"uint256\"}],\"name\":\"DestroyedBlackFunds\",\"type\":\"event\"},{\"anonymous\":false,\"inputs\":[{\"indexed\":false,\"name\":\"_user\",\"type\":\"address\"}],\"name\":\"AddedBlackList\",\"type\":\"event\"},{\"anonymous\":false,\"inputs\":[{\"indexed\":false,\"name\":\"_user\",\"type\":\"address\"}],\"name\":\"RemovedBlackList\",\"type\":\"event\"},{\"anonymous\":false,\"inputs\":[{\"indexed\":true,\"name\":\"owner\",\"type\":\"address\"},{\"indexed\":true,\"name\":\"spender\",\"type\":\"address\"},{\"indexed\":false,\"name\":\"value\",\"type\":\"uint256\"}],\"name\":\"Approval\",\"type\":\"event\"},{\"anonymous\":false,\"inputs\":[{\"indexed\":true,\"name\":\"from\",\"type\":\"address\"},{\"indexed\":true,\"name\":\"to\",\"type\":\"address\"},{\"indexed\":false,\"name\":\"value\",\"type\":\"uint256\"}],\"name\":\"Transfer\",\"type\":\"event\"},{\"anonymous\":false,\"inputs\":[],\"name\":\"Pause\",\"type\":\"event\"},{\"anonymous\":false,\"inputs\":[],\"name\":\"Unpause\",\"type\":\"event\"}]')"
   ]
  },
  {
   "cell_type": "code",
   "execution_count": 38,
   "metadata": {
    "ExecuteTime": {
     "end_time": "2021-09-09T14:44:58.112130Z",
     "start_time": "2021-09-09T14:44:58.084665Z"
    }
   },
   "outputs": [],
   "source": [
    "address=w3.toChecksumAddress(address)\n",
    "contract=w3.eth.contract(address=address, abi=abi)"
   ]
  },
  {
   "cell_type": "code",
   "execution_count": 39,
   "metadata": {
    "ExecuteTime": {
     "end_time": "2021-09-09T14:45:01.007388Z",
     "start_time": "2021-09-09T14:45:00.261948Z"
    }
   },
   "outputs": [
    {
     "name": "stdout",
     "output_type": "stream",
     "text": [
      "Name : Tether USD\n",
      "Symbol : USDT\n",
      "Decimals : 6\n",
      "Total Supply : 33873006368.9485 USDT\n"
     ]
    }
   ],
   "source": [
    "#Metadata\n",
    "print('Name :', contract.functions.name().call())\n",
    "symbol=contract.functions.symbol().call()\n",
    "print('Symbol :', symbol)\n",
    "print('Decimals :',contract.functions.decimals().call())\n",
    "dec=contract.functions.decimals().call()\n",
    "dec=10**dec\n",
    "supply=contract.functions.totalSupply().call()/dec\n",
    "print(f'Total Supply : {supply} {symbol}')"
   ]
  },
  {
   "cell_type": "code",
   "execution_count": 40,
   "metadata": {
    "ExecuteTime": {
     "end_time": "2021-09-09T14:45:02.310998Z",
     "start_time": "2021-09-09T14:45:02.115355Z"
    }
   },
   "outputs": [
    {
     "name": "stdout",
     "output_type": "stream",
     "text": [
      "Tokens with the contract : 704628.19636 USDT\n"
     ]
    }
   ],
   "source": [
    "temp=contract.functions.balanceOf(address).call()/dec\n",
    "print(f\"Tokens with the contract : {temp} {symbol}\")"
   ]
  },
  {
   "cell_type": "code",
   "execution_count": 41,
   "metadata": {
    "ExecuteTime": {
     "end_time": "2021-09-09T14:45:03.926279Z",
     "start_time": "2021-09-09T14:45:03.780537Z"
    }
   },
   "outputs": [
    {
     "name": "stdout",
     "output_type": "stream",
     "text": [
      "Tokens with 0xA929022c9107643515F5c777cE9a910F0D1e490C : 1878400448.0 USDT\n"
     ]
    }
   ],
   "source": [
    "q_address=w3.toChecksumAddress('0xa929022c9107643515f5c777ce9a910f0d1e490c')\n",
    "temp=contract.functions.balanceOf(q_address).call()/dec\n",
    "print(f\"Tokens with {q_address} : {temp} {symbol}\")"
   ]
  },
  {
   "cell_type": "code",
   "execution_count": null,
   "metadata": {},
   "outputs": [],
   "source": [
    "    "
   ]
  },
  {
   "cell_type": "code",
   "execution_count": null,
   "metadata": {},
   "outputs": [],
   "source": []
  }
 ],
 "metadata": {
  "kernelspec": {
   "display_name": "web3env",
   "language": "python",
   "name": "web3env"
  },
  "language_info": {
   "codemirror_mode": {
    "name": "ipython",
    "version": 3
   },
   "file_extension": ".py",
   "mimetype": "text/x-python",
   "name": "python",
   "nbconvert_exporter": "python",
   "pygments_lexer": "ipython3",
   "version": "3.7.4"
  }
 },
 "nbformat": 4,
 "nbformat_minor": 2
}
