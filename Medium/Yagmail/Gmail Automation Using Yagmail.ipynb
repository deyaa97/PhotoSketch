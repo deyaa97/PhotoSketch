{
 "cells": [
  {
   "cell_type": "markdown",
   "metadata": {},
   "source": [
    "### Import Libraries"
   ]
  },
  {
   "cell_type": "code",
   "execution_count": null,
   "metadata": {
    "ExecuteTime": {
     "end_time": "2021-07-29T21:11:38.279208Z",
     "start_time": "2021-07-29T21:11:37.984845Z"
    }
   },
   "outputs": [],
   "source": [
    "import yagmail\n",
    "import cred"
   ]
  },
  {
   "cell_type": "code",
   "execution_count": null,
   "metadata": {
    "ExecuteTime": {
     "end_time": "2021-07-29T21:12:16.116347Z",
     "start_time": "2021-07-29T21:12:16.112343Z"
    }
   },
   "outputs": [],
   "source": [
    "USERNAME=cred.user\n",
    "PASSWORD=cred.password"
   ]
  },
  {
   "cell_type": "markdown",
   "metadata": {},
   "source": [
    "### Create SMTP Client"
   ]
  },
  {
   "cell_type": "code",
   "execution_count": null,
   "metadata": {
    "ExecuteTime": {
     "end_time": "2021-07-29T21:12:17.602161Z",
     "start_time": "2021-07-29T21:12:17.586147Z"
    }
   },
   "outputs": [],
   "source": [
    "mailer=yagmail.SMTP(user, password)"
   ]
  },
  {
   "cell_type": "markdown",
   "metadata": {},
   "source": [
    "### Send Mail"
   ]
  },
  {
   "cell_type": "code",
   "execution_count": null,
   "metadata": {
    "ExecuteTime": {
     "end_time": "2021-06-16T22:17:55.429167Z",
     "start_time": "2021-06-16T22:17:55.416167Z"
    }
   },
   "outputs": [],
   "source": [
    "recipient='neo.gmail.com'\n",
    "subject=\"Welcome to the Matrix\"\n",
    "contents=[\"Wake up Neo...\", \"Follow the white rabbit\"]\n",
    "mailer.send(to=recipient, subject=subject, contents=contents)"
   ]
  },
  {
   "cell_type": "markdown",
   "metadata": {},
   "source": [
    "### Send Mail to Multiple Recipients"
   ]
  },
  {
   "cell_type": "code",
   "execution_count": null,
   "metadata": {
    "ExecuteTime": {
     "end_time": "2021-07-29T21:14:42.828739Z",
     "start_time": "2021-07-29T21:14:42.412265Z"
    }
   },
   "outputs": [],
   "source": [
    "recipients=['neo.gmail.com','neo@matrix.com','mr_anderson@abc.com']\n",
    "subject=\"Welcome to the Matrix\"\n",
    "contents=[\"Wake up Neo...\", \"Follow the white rabbit\"]\n",
    "mailer.send(to=recipients, subject=subject, contents=contents)"
   ]
  },
  {
   "cell_type": "markdown",
   "metadata": {},
   "source": [
    "### Add attachments"
   ]
  },
  {
   "cell_type": "code",
   "execution_count": null,
   "metadata": {},
   "outputs": [],
   "source": [
    "recipients=['neo.gmail.com']\n",
    "subject=\"Welcome to the Matrix\"\n",
    "contents=[\"Wake up Neo...\", \"Follow the white rabbit\", 'rabbit.png']\n",
    "mailer.send(to=recipients, subject=subject, contents=contents, \n",
    "            attachments='faq.pdf')"
   ]
  },
  {
   "cell_type": "markdown",
   "metadata": {},
   "source": [
    "### Add CC and BCC"
   ]
  },
  {
   "cell_type": "code",
   "execution_count": null,
   "metadata": {},
   "outputs": [],
   "source": [
    "recipients=['neo.gmail.com']\n",
    "subject=\"Welcome to the Matrix\"\n",
    "contents=[\"Wake up Neo...\", \"Follow the white rabbit\", 'rabbit.png']\n",
    "mailer.send(to=recipients, subject=subject, contents=contents, \n",
    "            cc='trinity@matrix.com', bcc='zion@matrix.com')"
   ]
  }
 ],
 "metadata": {
  "kernelspec": {
   "display_name": "Python 3",
   "language": "python",
   "name": "python3"
  },
  "language_info": {
   "codemirror_mode": {
    "name": "ipython",
    "version": 3
   },
   "file_extension": ".py",
   "mimetype": "text/x-python",
   "name": "python",
   "nbconvert_exporter": "python",
   "pygments_lexer": "ipython3",
   "version": "3.7.4"
  }
 },
 "nbformat": 4,
 "nbformat_minor": 2
}
