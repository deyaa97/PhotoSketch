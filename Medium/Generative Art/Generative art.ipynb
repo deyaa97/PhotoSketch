{
 "cells": [
  {
   "cell_type": "code",
   "execution_count": 4,
   "metadata": {
    "ExecuteTime": {
     "end_time": "2021-08-26T22:22:14.913846Z",
     "start_time": "2021-08-26T22:22:14.904823Z"
    }
   },
   "outputs": [],
   "source": [
    "import random\n",
    "import uuid\n",
    "from PIL import Image, ImageDraw\n",
    "import matplotlib.pyplot as plt"
   ]
  },
  {
   "cell_type": "markdown",
   "metadata": {},
   "source": [
    "### Create a Blank canvas"
   ]
  },
  {
   "cell_type": "code",
   "execution_count": 38,
   "metadata": {
    "ExecuteTime": {
     "end_time": "2021-08-26T22:49:25.672180Z",
     "start_time": "2021-08-26T22:49:25.370144Z"
    }
   },
   "outputs": [
    {
     "data": {
      "image/png": "[encoded data removed]",
      "text/plain": [
       "<Figure size 432x288 with 1 Axes>"
      ]
     },
     "metadata": {
      "needs_background": "light"
     },
     "output_type": "display_data"
    }
   ],
   "source": [
    "#canvas size\n",
    "canvas_size=(1000,1000)\n",
    "#new canvas\n",
    "img=Image.new('RGB', canvas_size, color='black')\n",
    "#display canvas\n",
    "plt.imshow(img)\n",
    "plt.show()"
   ]
  },
  {
   "cell_type": "markdown",
   "metadata": {},
   "source": [
    "### Draw a rectange on the canvas"
   ]
  },
  {
   "cell_type": "code",
   "execution_count": 74,
   "metadata": {
    "ExecuteTime": {
     "end_time": "2021-08-26T23:28:17.027810Z",
     "start_time": "2021-08-26T23:28:16.827575Z"
    }
   },
   "outputs": [
    {
     "data": {
      "image/png": "[encoded data removed]",
      "text/plain": [
       "<Figure size 432x288 with 1 Axes>"
      ]
     },
     "metadata": {
      "needs_background": "light"
     },
     "output_type": "display_data"
    }
   ],
   "source": [
    "#set rectangle parameters\n",
    "rx=500\n",
    "ry=500\n",
    "rw=200\n",
    "rh=rw\n",
    "r_color=(255,0,0)\n",
    "\n",
    "#Image in draw mode\n",
    "draw_img=ImageDraw.Draw(img)\n",
    "\n",
    "#Add Rectangle\n",
    "draw_img.rectangle([(rx,ry),(rx+rw,ry+rh)],\n",
    "                  fill=r_color)\n",
    "\n",
    "#save image\n",
    "img.save('output/generated_image.png')\n",
    "\n",
    "#show image\n",
    "plt.imshow(img)\n",
    "plt.axis('off')\n",
    "plt.show()"
   ]
  },
  {
   "cell_type": "markdown",
   "metadata": {},
   "source": [
    "### 100 random Squares"
   ]
  },
  {
   "cell_type": "code",
   "execution_count": 127,
   "metadata": {
    "ExecuteTime": {
     "end_time": "2021-08-27T00:20:25.705296Z",
     "start_time": "2021-08-27T00:20:25.489076Z"
    }
   },
   "outputs": [
    {
     "data": {
      "image/png": "[encoded data removed]",
      "text/plain": [
       "<Figure size 432x288 with 1 Axes>"
      ]
     },
     "metadata": {
      "needs_background": "light"
     },
     "output_type": "display_data"
    }
   ],
   "source": [
    "#number of rectanges\n",
    "n_rects=100\n",
    "\n",
    "#canvas size\n",
    "canvas_size=(1000,1000)\n",
    "\n",
    "#new canvas\n",
    "img=Image.new('RGBA', canvas_size, color='#202020')\n",
    "#Image in draw mode\n",
    "draw_img=ImageDraw.Draw(img)\n",
    "\n",
    "#Add rectangles\n",
    "for i in range(n_rects):\n",
    "    #set rectangle parameters\n",
    "    #first point\n",
    "    rx1=random.randint(0,canvas_size[0])\n",
    "    ry1=random.randint(0,canvas_size[1])\n",
    "    #width and height \n",
    "    rw=random.randint(0,100)\n",
    "    rh=rw\n",
    "    #diagonal point\n",
    "    rx2=rx1+rw\n",
    "    ry2=ry1+rh\n",
    "    r_shape=[(rx1,ry1),(rx2,ry2)]\n",
    "    \n",
    "    #color\n",
    "    #random r,g,b values\n",
    "    r=random.randint(0,255)\n",
    "    g=random.randint(0,255)\n",
    "    b=random.randint(0,255)\n",
    "    a=random.randint(100,255)\n",
    "    r_color=(r,g,b,a)\n",
    "\n",
    "    #Add Rectangle\n",
    "    draw_img.rectangle(r_shape,fill=r_color)\n",
    "\n",
    "#save image\n",
    "img.save('output/generated_image.png')\n",
    "\n",
    "#show image\n",
    "plt.imshow(img)\n",
    "plt.axis('off')\n",
    "plt.show()"
   ]
  },
  {
   "cell_type": "code",
   "execution_count": 138,
   "metadata": {
    "ExecuteTime": {
     "end_time": "2021-08-27T00:53:06.328262Z",
     "start_time": "2021-08-27T00:53:06.299052Z"
    }
   },
   "outputs": [],
   "source": [
    "def random_color_generator(min_alpha=63):\n",
    "    r=random.randint(0,255)\n",
    "    g=random.randint(0,255)\n",
    "    b=random.randint(0,255)\n",
    "    a=random.randint(min_alpha,255)\n",
    "    return (r,g,b,a)\n",
    "\n",
    "def rect_shape_generator(canvas_size, min_rect_w, max_rect_w, min_rect_h, max_rect_h):\n",
    "    rx1=random.randint(0,canvas_size[0])\n",
    "    ry1=random.randint(0,canvas_size[1])\n",
    "    rw=random.randint(min_rect_w, max_rect_w)\n",
    "    rh=random.randint(min_rect_h, max_rect_h)\n",
    "    rx2=rx1+rw\n",
    "    ry2=ry1+rh\n",
    "    return [(rx1,ry1),(rx2,ry2)]\n",
    "    \n",
    "\n",
    "def rect_art_generator(c_size=(1000,1000), \n",
    "                       min_n_rect=100, max_n_rect=1000, \n",
    "                       min_rect_h=10, max_rect_h=100,\n",
    "                       min_rect_w=10, max_rect_w=100,\n",
    "                       n_imgs=5):\n",
    "    for i in range(n_imgs):\n",
    "        #Unique Image ID\n",
    "        img_id=uuid.uuid1()\n",
    "        #Create canvas\n",
    "        c_color=random_color_generator(min_alpha=255)\n",
    "        img=Image.new('RGBA', c_size, color=c_color)\n",
    "        #Draw Mode\n",
    "        draw_img=ImageDraw.Draw(img)\n",
    "        #number of rectangles\n",
    "        n_rects=random.randint(min_n_rect,max_n_rect)\n",
    "        #ADD RECTANGLES\n",
    "        for i in range(n_rects):\n",
    "            #rectangle shape\n",
    "            r_shape=rect_shape_generator(canvas_size, min_rect_w, \n",
    "                                         max_rect_w, min_rect_h, max_rect_h)\n",
    "            #Rectangle color\n",
    "            r_color=random_color_generator()\n",
    "            #Add rectangles\n",
    "            draw_img.rectangle(r_shape, fill=r_color)\n",
    "        #save image\n",
    "        img.save(f'output/{img_id}.png')"
   ]
  },
  {
   "cell_type": "code",
   "execution_count": 141,
   "metadata": {
    "ExecuteTime": {
     "end_time": "2021-08-27T00:59:53.545604Z",
     "start_time": "2021-08-27T00:59:52.430698Z"
    }
   },
   "outputs": [],
   "source": [
    "rect_art_generator(min_n_rect=1000, max_n_rect=10000,\n",
    "                  min_rect_h=5, max_rect_h=10, min_rect_w=1, max_rect_w=10, n_imgs=5)"
   ]
  }
 ],
 "metadata": {
  "kernelspec": {
   "display_name": "Python 3",
   "language": "python",
   "name": "python3"
  },
  "language_info": {
   "codemirror_mode": {
    "name": "ipython",
    "version": 3
   },
   "file_extension": ".py",
   "mimetype": "text/x-python",
   "name": "python",
   "nbconvert_exporter": "python",
   "pygments_lexer": "ipython3",
   "version": "3.7.4"
  }
 },
 "nbformat": 4,
 "nbformat_minor": 2
}
